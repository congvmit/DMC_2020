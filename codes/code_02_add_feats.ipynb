{
 "cells": [
  {
   "cell_type": "markdown",
   "metadata": {},
   "source": [
    "# SETTINGS"
   ]
  },
  {
   "cell_type": "code",
   "execution_count": null,
   "metadata": {},
   "outputs": [],
   "source": [
    "########## LIBRARIES\n",
    "\n",
    "import numpy as np\n",
    "import pandas as pd\n",
    "\n",
    "import matplotlib.pyplot as plt\n",
    "import seaborn as sns\n",
    "\n",
    "import scipy.stats\n",
    "\n",
    "import os\n",
    "import time\n",
    "import datetime\n",
    "import random\n",
    "import multiprocessing\n",
    "import pickle\n",
    "import warnings\n",
    "import gc\n",
    "from tqdm import tqdm"
   ]
  },
  {
   "cell_type": "code",
   "execution_count": null,
   "metadata": {},
   "outputs": [],
   "source": [
    "########## HELPER FUNCTIONS\n",
    "\n",
    "!pip install --upgrade dptools\n",
    "from dptools import *"
   ]
  },
  {
   "cell_type": "code",
   "execution_count": null,
   "metadata": {},
   "outputs": [],
   "source": [
    "########## SETTINGS\n",
    "\n",
    "warnings.filterwarnings('ignore')\n",
    "pd.set_option('display.max_columns', None)\n",
    "plt.style.use('dark_background')\n",
    "%matplotlib inline\n",
    "gc.enable()"
   ]
  },
  {
   "cell_type": "markdown",
   "metadata": {},
   "source": [
    "# DATA IMPORT"
   ]
  },
  {
   "cell_type": "code",
   "execution_count": null,
   "metadata": {},
   "outputs": [],
   "source": [
    "# read data\n",
    "orders = pd.read_csv('../data/prepared/orders_v1.csv', compression = 'gzip')\n",
    "items  = pd.read_csv('../data/prepared/items_v1.csv',  compression = 'gzip')\n",
    "print(orders.shape)\n",
    "print(items.shape)"
   ]
  },
  {
   "cell_type": "code",
   "execution_count": null,
   "metadata": {},
   "outputs": [],
   "source": [
    "# convert dates\n",
    "orders['time']       = pd.to_datetime(orders['time'].astype('str'),       infer_datetime_format = True)\n",
    "items['promotion_0'] = pd.to_datetime(items['promotion_0'].astype('str'), infer_datetime_format = True)\n",
    "items['promotion_1'] = pd.to_datetime(items['promotion_1'].astype('str'), infer_datetime_format = True)\n",
    "items['promotion_2'] = pd.to_datetime(items['promotion_2'].astype('str'), infer_datetime_format = True)"
   ]
  },
  {
   "cell_type": "markdown",
   "metadata": {},
   "source": [
    "# ADD FEATURES: ITEMS"
   ]
  },
  {
   "cell_type": "code",
   "execution_count": null,
   "metadata": {},
   "outputs": [],
   "source": [
    "# price ratio\n",
    "items['price_ratio'] = items['simulationPrice'] / items['recommendedRetailPrice']\n",
    "items['price_ratio'].describe()"
   ]
  },
  {
   "cell_type": "markdown",
   "metadata": {},
   "source": [
    "# ADD FEATURES: ORDERS"
   ]
  },
  {
   "cell_type": "code",
   "execution_count": null,
   "metadata": {},
   "outputs": [],
   "source": [
    "##### AGGREGATE ORDERS BY DAY\n",
    "\n",
    "orders['day_of_year'] = orders['time'].dt.dayofyear\n",
    "\n",
    "agg_order      = orders.groupby(['itemID', 'day_of_year'])['order'].agg('sum')\n",
    "agg_salesPrice = orders.groupby(['itemID', 'day_of_year'])['salesPrice'].agg('mean')\n",
    "agg_transactID = orders.groupby(['itemID', 'day_of_year'])['transactID'].agg('count')\n",
    "\n",
    "orders = pd.concat([agg_order, agg_salesPrice, agg_transactID], axis = 1).reset_index()\n",
    "\n",
    "orders.head()"
   ]
  },
  {
   "cell_type": "code",
   "execution_count": null,
   "metadata": {},
   "outputs": [],
   "source": [
    "##### ADD MISSING ZEROES\n",
    "\n",
    "print(orders.shape)\n",
    "agg_orders = orders.groupby(['itemID', 'day_of_year']).order.unique().unstack('day_of_year').stack('day_of_year', dropna = False)\n",
    "agg_orders = agg_orders.reset_index()\n",
    "agg_orders.columns = ['itemID', 'day_of_year', 'order']\n",
    "agg_orders['order'].fillna(0, inplace = True)\n",
    "agg_orders['order'] = agg_orders['order'].astype(int)\n",
    "print(agg_orders.shape)"
   ]
  },
  {
   "cell_type": "code",
   "execution_count": null,
   "metadata": {},
   "outputs": [],
   "source": [
    "# check mean and total orders\n",
    "print(agg_orders['order'].mean())\n",
    "print(agg_orders['order'].sum())"
   ]
  },
  {
   "cell_type": "code",
   "execution_count": null,
   "metadata": {},
   "outputs": [],
   "source": [
    "##### COMPUTING TARGETS AND FEATURES\n",
    "\n",
    "# parameters\n",
    "days_input  = [7, 14, 21, 28]\n",
    "days_target = 14\n",
    "\n",
    "# preparations\n",
    "day_first = np.max(days_input)\n",
    "day_last  = agg_orders['day_of_year'].max() - days_target\n",
    "orders    = None\n",
    "\n",
    "# computations\n",
    "for day_of_year in tqdm(range(day_first, day_last)):\n",
    "    \n",
    "    break\n",
    "    \n",
    "    # day intervals\n",
    "    target_day_min = day_of_year + 1\n",
    "    target_day_max = day_of_year + days_target\n",
    "    \n",
    "    # compute target\n",
    "    tmp_df = agg_orders[(agg_orders['day_of_year'] >= target_day_min) &\n",
    "                        (agg_orders['day_of_year'] <= target_day_max)\n",
    "                       ].groupby('itemID')['order'].agg('sum').reset_index()\n",
    "    tmp_df.columns = ['itemID', 'target']\n",
    "    \n",
    "    # compute features\n",
    "    for day_input in days_input:\n",
    "        \n",
    "        # day intervals\n",
    "        input_day_min  = day_of_year - day_input + 1\n",
    "        input_day_max  = day_of_year\n",
    "    \n",
    "        # frequency\n",
    "        tmp_df_input = agg_orders[(agg_orders['day_of_year'] >= input_day_min) &\n",
    "                                  (agg_orders['day_of_year'] <= input_day_max)\n",
    "                                 ].groupby('itemID')\n",
    "        tmp_df['order_sum_last_'   + str(day_input)] = tmp_df_input['order'].agg('sum').reset_index()['order']\n",
    "        tmp_df['order_count_last_' + str(day_input)] = tmp_df_input['order'].agg(lambda x: len(x[x > 0])).reset_index()['order']\n",
    "\n",
    "    # add day of year\n",
    "    tmp_df.insert(1, column = 'day_of_year', value = day_of_year)\n",
    "    \n",
    "    # merge data\n",
    "    orders = pd.concat([orders, tmp_df], axis = 0)"
   ]
  },
  {
   "cell_type": "markdown",
   "metadata": {},
   "source": [
    "# MERGE DATA SETS"
   ]
  },
  {
   "cell_type": "code",
   "execution_count": null,
   "metadata": {},
   "outputs": [],
   "source": [
    "print(orders.shape)\n",
    "print(items.shape)\n",
    "df = pd.merge(orders, items, on = 'itemID', how = 'left')\n",
    "print(df.shape)\n",
    "del items, orders"
   ]
  },
  {
   "cell_type": "markdown",
   "metadata": {},
   "source": [
    "# EXPORT"
   ]
  },
  {
   "cell_type": "code",
   "execution_count": null,
   "metadata": {},
   "outputs": [],
   "source": [
    "# save data frame\n",
    "# save_csv_version() automatically adds version number to prevent overwriting\n",
    "save_csv_version('../data/prepared/df.csv', df, index = False, compression = 'gzip')\n",
    "print(df.shape)"
   ]
  }
 ],
 "metadata": {
  "kernelspec": {
   "display_name": "Python 3",
   "language": "python",
   "name": "python3"
  },
  "language_info": {
   "codemirror_mode": {
    "name": "ipython",
    "version": 3
   },
   "file_extension": ".py",
   "mimetype": "text/x-python",
   "name": "python",
   "nbconvert_exporter": "python",
   "pygments_lexer": "ipython3",
   "version": "3.7.4"
  }
 },
 "nbformat": 4,
 "nbformat_minor": 4
}
