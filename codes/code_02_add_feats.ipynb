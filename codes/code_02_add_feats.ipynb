{
 "cells": [
  {
   "cell_type": "markdown",
   "metadata": {},
   "source": [
    "# SETTINGS"
   ]
  },
  {
   "cell_type": "code",
   "execution_count": 1,
   "metadata": {},
   "outputs": [],
   "source": [
    "########## LIBRARIES\n",
    "\n",
    "import numpy as np\n",
    "import pandas as pd\n",
    "\n",
    "import matplotlib.pyplot as plt\n",
    "import seaborn as sns\n",
    "\n",
    "import scipy.stats\n",
    "\n",
    "import os\n",
    "import time\n",
    "import datetime\n",
    "import random\n",
    "import multiprocessing\n",
    "import pickle\n",
    "import warnings\n",
    "import gc\n",
    "from tqdm import tqdm"
   ]
  },
  {
   "cell_type": "code",
   "execution_count": 2,
   "metadata": {},
   "outputs": [
    {
     "name": "stdout",
     "output_type": "stream",
     "text": [
      "Requirement already up-to-date: dptools in /Users/kozodoi/miniconda3/envs/py3/lib/python3.7/site-packages (0.3.5)\n",
      "Requirement already satisfied, skipping upgrade: pandas in /Users/kozodoi/miniconda3/envs/py3/lib/python3.7/site-packages (from dptools) (0.25.1)\n",
      "Requirement already satisfied, skipping upgrade: scikit-learn in /Users/kozodoi/miniconda3/envs/py3/lib/python3.7/site-packages (from dptools) (0.21.3)\n",
      "Requirement already satisfied, skipping upgrade: scipy in /Users/kozodoi/miniconda3/envs/py3/lib/python3.7/site-packages (from dptools) (1.3.1)\n",
      "Requirement already satisfied, skipping upgrade: numpy in /Users/kozodoi/miniconda3/envs/py3/lib/python3.7/site-packages (from dptools) (1.17.2)\n",
      "Requirement already satisfied, skipping upgrade: python-dateutil>=2.6.1 in /Users/kozodoi/miniconda3/envs/py3/lib/python3.7/site-packages (from pandas->dptools) (2.8.0)\n",
      "Requirement already satisfied, skipping upgrade: pytz>=2017.2 in /Users/kozodoi/miniconda3/envs/py3/lib/python3.7/site-packages (from pandas->dptools) (2019.3)\n",
      "Requirement already satisfied, skipping upgrade: joblib>=0.11 in /Users/kozodoi/miniconda3/envs/py3/lib/python3.7/site-packages (from scikit-learn->dptools) (0.13.2)\n",
      "Requirement already satisfied, skipping upgrade: six>=1.5 in /Users/kozodoi/miniconda3/envs/py3/lib/python3.7/site-packages (from python-dateutil>=2.6.1->pandas->dptools) (1.12.0)\n"
     ]
    }
   ],
   "source": [
    "########## HELPER FUNCTIONS\n",
    "\n",
    "!pip install --upgrade dptools\n",
    "from dptools import *"
   ]
  },
  {
   "cell_type": "code",
   "execution_count": 3,
   "metadata": {},
   "outputs": [],
   "source": [
    "########## SETTINGS\n",
    "\n",
    "warnings.filterwarnings('ignore')\n",
    "pd.set_option('display.max_columns', None)\n",
    "plt.style.use('dark_background')\n",
    "%matplotlib inline\n",
    "gc.enable()"
   ]
  },
  {
   "cell_type": "markdown",
   "metadata": {},
   "source": [
    "# DATA IMPORT"
   ]
  },
  {
   "cell_type": "code",
   "execution_count": 4,
   "metadata": {},
   "outputs": [
    {
     "name": "stdout",
     "output_type": "stream",
     "text": [
      "(2181955, 5)\n",
      "(10463, 12)\n"
     ]
    }
   ],
   "source": [
    "# read data\n",
    "orders = pd.read_csv('../data/prepared/orders_v1.csv', compression = 'gzip')\n",
    "items  = pd.read_csv('../data/prepared/items_v1.csv',  compression = 'gzip')\n",
    "print(orders.shape)\n",
    "print(items.shape)"
   ]
  },
  {
   "cell_type": "code",
   "execution_count": 5,
   "metadata": {},
   "outputs": [],
   "source": [
    "# convert dates\n",
    "orders['time']       = pd.to_datetime(orders['time'].astype('str'),       infer_datetime_format = True)\n",
    "items['promotion_0'] = pd.to_datetime(items['promotion_0'].astype('str'), infer_datetime_format = True)\n",
    "items['promotion_1'] = pd.to_datetime(items['promotion_1'].astype('str'), infer_datetime_format = True)\n",
    "items['promotion_2'] = pd.to_datetime(items['promotion_2'].astype('str'), infer_datetime_format = True)"
   ]
  },
  {
   "cell_type": "markdown",
   "metadata": {},
   "source": [
    "# ADD FEATURES: ITEMS"
   ]
  },
  {
   "cell_type": "code",
   "execution_count": 6,
   "metadata": {},
   "outputs": [
    {
     "data": {
      "text/plain": [
       "count    10463.000000\n",
       "mean         0.957107\n",
       "std          0.616878\n",
       "min          0.020094\n",
       "25%          0.449184\n",
       "50%          0.813378\n",
       "75%          1.359211\n",
       "max          5.678983\n",
       "Name: price_ratio, dtype: float64"
      ]
     },
     "execution_count": 6,
     "metadata": {},
     "output_type": "execute_result"
    }
   ],
   "source": [
    "# price ratio\n",
    "items['price_ratio'] = items['simulationPrice'] / items['recommendedRetailPrice']\n",
    "items['price_ratio'].describe()"
   ]
  },
  {
   "cell_type": "markdown",
   "metadata": {},
   "source": [
    "# ADD FEATURES: ORDERS"
   ]
  },
  {
   "cell_type": "code",
   "execution_count": 7,
   "metadata": {},
   "outputs": [
    {
     "name": "stdout",
     "output_type": "stream",
     "text": [
      "2715559\n"
     ]
    }
   ],
   "source": [
    "# total orders\n",
    "print(orders['order'].sum())"
   ]
  },
  {
   "cell_type": "code",
   "execution_count": 8,
   "metadata": {},
   "outputs": [
    {
     "data": {
      "text/html": [
       "<div>\n",
       "<style scoped>\n",
       "    .dataframe tbody tr th:only-of-type {\n",
       "        vertical-align: middle;\n",
       "    }\n",
       "\n",
       "    .dataframe tbody tr th {\n",
       "        vertical-align: top;\n",
       "    }\n",
       "\n",
       "    .dataframe thead th {\n",
       "        text-align: right;\n",
       "    }\n",
       "</style>\n",
       "<table border=\"1\" class=\"dataframe\">\n",
       "  <thead>\n",
       "    <tr style=\"text-align: right;\">\n",
       "      <th></th>\n",
       "      <th>itemID</th>\n",
       "      <th>day_of_year</th>\n",
       "      <th>order</th>\n",
       "    </tr>\n",
       "  </thead>\n",
       "  <tbody>\n",
       "    <tr>\n",
       "      <td>0</td>\n",
       "      <td>1</td>\n",
       "      <td>23</td>\n",
       "      <td>1</td>\n",
       "    </tr>\n",
       "    <tr>\n",
       "      <td>1</td>\n",
       "      <td>1</td>\n",
       "      <td>25</td>\n",
       "      <td>1</td>\n",
       "    </tr>\n",
       "    <tr>\n",
       "      <td>2</td>\n",
       "      <td>1</td>\n",
       "      <td>29</td>\n",
       "      <td>307</td>\n",
       "    </tr>\n",
       "    <tr>\n",
       "      <td>3</td>\n",
       "      <td>1</td>\n",
       "      <td>30</td>\n",
       "      <td>3</td>\n",
       "    </tr>\n",
       "    <tr>\n",
       "      <td>4</td>\n",
       "      <td>1</td>\n",
       "      <td>31</td>\n",
       "      <td>1</td>\n",
       "    </tr>\n",
       "  </tbody>\n",
       "</table>\n",
       "</div>"
      ],
      "text/plain": [
       "   itemID  day_of_year  order\n",
       "0       1           23      1\n",
       "1       1           25      1\n",
       "2       1           29    307\n",
       "3       1           30      3\n",
       "4       1           31      1"
      ]
     },
     "execution_count": 8,
     "metadata": {},
     "output_type": "execute_result"
    }
   ],
   "source": [
    "##### AGGREGATE ORDERS BY DAY\n",
    "\n",
    "# this currently leads to loosing other features in orders.csv\n",
    "# TODO: integrate the remaining features here and in the cells below\n",
    "\n",
    "# aggregation\n",
    "orders['day_of_year'] = orders['time'].dt.dayofyear\n",
    "orders = orders.groupby(['itemID', 'day_of_year'])['order'].agg('sum').reset_index()\n",
    "orders.head()"
   ]
  },
  {
   "cell_type": "code",
   "execution_count": 9,
   "metadata": {},
   "outputs": [
    {
     "name": "stdout",
     "output_type": "stream",
     "text": [
      "2715559\n"
     ]
    }
   ],
   "source": [
    "# check total orders\n",
    "print(orders['order'].sum())"
   ]
  },
  {
   "cell_type": "code",
   "execution_count": 10,
   "metadata": {},
   "outputs": [
    {
     "name": "stderr",
     "output_type": "stream",
     "text": [
      "100%|██████████| 9840/9840 [02:29<00:00, 65.79it/s]"
     ]
    },
    {
     "name": "stdout",
     "output_type": "stream",
     "text": [
      "18143\n"
     ]
    },
    {
     "name": "stderr",
     "output_type": "stream",
     "text": [
      "\n"
     ]
    }
   ],
   "source": [
    "##### FIND PROMOTION DAYS\n",
    "\n",
    "# documentation says that we have to manually mark promotion days in the training period\n",
    "# without marking, predictions are difficult because orders in some daye explode without apparent reason\n",
    "# for now, I treat promotions as days when the number of orders for a given item exceeds 90th percentile\n",
    "# we need to be very careful with threshold and rely on visuzal analysis and/or better metric to mark promos\n",
    "\n",
    "# computations\n",
    "orders['promotion'] = 0\n",
    "for itemID in tqdm(orders['itemID'].unique()):\n",
    "    promo_quant = orders[orders['itemID'] == itemID]['order'].quantile(0.90)\n",
    "    orders.loc[(orders['itemID'] == itemID) & (orders['order'] >= promo_quant), 'promotion'] = 1\n",
    "\n",
    "# check total promotions\n",
    "print(orders['promotion'].sum())"
   ]
  },
  {
   "cell_type": "code",
   "execution_count": 11,
   "metadata": {},
   "outputs": [
    {
     "name": "stdout",
     "output_type": "stream",
     "text": [
      "(100771, 4)\n",
      "(1883340, 4)\n"
     ]
    }
   ],
   "source": [
    "##### ADD MISSING INPUTS\n",
    "\n",
    "# add items that were never sold before\n",
    "missing_itemIDs = set(items['itemID'].unique()) - set(orders['itemID'].unique())\n",
    "missing_rows = pd.DataFrame({'itemID':     list(missing_itemIDs), \n",
    "                            'day_of_year': np.ones(len(missing_itemIDs)).astype('int'), \n",
    "                            'order':       np.zeros(len(missing_itemIDs)).astype('int')})\n",
    "orders = pd.concat([orders, missing_rows], axis = 0)\n",
    "print(orders.shape)\n",
    "\n",
    "# add zeros for days with no transactions\n",
    "agg_orders = orders.groupby(['itemID', 'day_of_year']).order.unique().unstack('day_of_year').stack('day_of_year', dropna = False)\n",
    "agg_orders = agg_orders.reset_index()\n",
    "agg_orders.columns = ['itemID', 'day_of_year', 'order']\n",
    "agg_orders['order'].fillna(0, inplace = True)\n",
    "agg_orders['order'] = agg_orders['order'].astype(int)\n",
    "agg_orders = agg_orders.merge(orders[['itemID', 'day_of_year', 'promotion']], how = 'left')\n",
    "agg_orders['promotion'].fillna(0, inplace = True)\n",
    "agg_orders['promotion'] = agg_orders['promotion'].astype(int)\n",
    "print(agg_orders.shape)"
   ]
  },
  {
   "cell_type": "code",
   "execution_count": 12,
   "metadata": {},
   "outputs": [
    {
     "name": "stdout",
     "output_type": "stream",
     "text": [
      "2715559\n"
     ]
    }
   ],
   "source": [
    "# check total orders\n",
    "print(agg_orders['order'].sum())"
   ]
  },
  {
   "cell_type": "code",
   "execution_count": 13,
   "metadata": {},
   "outputs": [
    {
     "data": {
      "text/plain": [
       "Text(0.5, 0, 'Day')"
      ]
     },
     "execution_count": 13,
     "metadata": {},
     "output_type": "execute_result"
    },
    {
     "data": {
      "image/png": "[encoded data removed]",
      "text/plain": [
       "<Figure size 1080x720 with 4 Axes>"
      ]
     },
     "metadata": {
      "needs_background": "dark"
     },
     "output_type": "display_data"
    }
   ],
   "source": [
    "### EXAMPLE SALES PLOT\n",
    "\n",
    "fig = plt.figure(figsize = (15, 10))\n",
    "\n",
    "plt.subplot(2, 2, 1)\n",
    "df = agg_orders[agg_orders.itemID == 1]\n",
    "plt.scatter(df['day_of_year'], df['order'], c = df['promotion'])\n",
    "plt.ylabel('Total Orders')\n",
    "plt.xlabel('Day')\n",
    "\n",
    "plt.subplot(2, 2, 2)\n",
    "df = agg_orders[agg_orders.itemID == 10]\n",
    "plt.scatter(df['day_of_year'], df['order'], c = df['promotion'])\n",
    "plt.ylabel('Total Orders')\n",
    "plt.xlabel('Day')\n",
    "\n",
    "plt.subplot(2, 2, 3)\n",
    "df = agg_orders[agg_orders.itemID == 100]\n",
    "plt.scatter(df['day_of_year'], df['order'], c = df['promotion'])\n",
    "plt.ylabel('Total Orders')\n",
    "plt.xlabel('Day')\n",
    "\n",
    "plt.subplot(2, 2, 4)\n",
    "df = agg_orders[agg_orders.itemID == 1000]\n",
    "plt.scatter(df['day_of_year'], df['order'], c = df['promotion'])\n",
    "plt.ylabel('Total Orders')\n",
    "plt.xlabel('Day')"
   ]
  },
  {
   "cell_type": "code",
   "execution_count": 14,
   "metadata": {},
   "outputs": [
    {
     "name": "stderr",
     "output_type": "stream",
     "text": [
      "100%|██████████| 138/138 [45:11<00:00, 19.65s/it]\n"
     ]
    }
   ],
   "source": [
    "##### COMPUTING TARGETS AND FEATURES\n",
    "\n",
    "# parameters\n",
    "days_input  = [7, 14, 21, 28]\n",
    "days_target = 14\n",
    "\n",
    "# preparations\n",
    "day_first = np.max(days_input)\n",
    "day_last  = agg_orders['day_of_year'].max() - days_target\n",
    "orders    = None\n",
    "\n",
    "# computations\n",
    "for day_of_year in tqdm(range(day_first, day_last)):\n",
    "                \n",
    "    ##### TARGET AND PROMOTION\n",
    "        \n",
    "    # day intervals\n",
    "    target_day_min = day_of_year + 1\n",
    "    target_day_max = day_of_year + days_target\n",
    "    \n",
    "    # compute target and promotion\n",
    "    if day_of_year < agg_orders['day_of_year'].max():\n",
    "        \n",
    "        # days in training data\n",
    "        tmp_df = agg_orders[(agg_orders['day_of_year'] >= target_day_min) &\n",
    "                            (agg_orders['day_of_year'] <= target_day_max)\n",
    "                           ].groupby('itemID')['order', 'promotion'].agg('sum').reset_index()\n",
    "        tmp_df.columns = ['itemID', 'target', 'promo_in_test']\n",
    "        \n",
    "    else:\n",
    "        \n",
    "        # day in test data\n",
    "        tmp_df = agg_orders[agg_orders['day_of_year'] == day_of_year].groupby('itemID')['order', 'promotion'].agg('sum').reset_index()\n",
    "        tmp_df.columns = ['itemID', 'target', 'promo_in_test']        \n",
    "        tmp_df['target'] = np.nan\n",
    "        \n",
    "        \n",
    "    ##### FEATURES\n",
    "        \n",
    "    # compute features\n",
    "    for day_input in days_input:\n",
    "        \n",
    "        # day intervals\n",
    "        input_day_min  = day_of_year - day_input + 1\n",
    "        input_day_max  = day_of_year\n",
    "    \n",
    "        # frequency\n",
    "        tmp_df_input = agg_orders[(agg_orders['day_of_year'] >= input_day_min) &\n",
    "                                  (agg_orders['day_of_year'] <= input_day_max)\n",
    "                                 ].groupby('itemID')\n",
    "        tmp_df['order_sum_last_'   + str(day_input)] = tmp_df_input['order'].agg('sum').reset_index()['order']\n",
    "        tmp_df['order_count_last_' + str(day_input)] = tmp_df_input['order'].agg(lambda x: len(x[x > 0])).reset_index()['order']\n",
    "        tmp_df['promo_count_last_' + str(day_input)] = tmp_df_input['promotion'].agg('sum').reset_index()['promotion']\n",
    "                \n",
    "        # overall order and promo count (all items)\n",
    "        tmp_df_input = agg_orders[(agg_orders['day_of_year'] >= input_day_min) &\n",
    "                                  (agg_orders['day_of_year'] <= input_day_max)]\n",
    "        tmp_df['all_orders_count_last_' + str(day_input)] = tmp_df_input['order'].agg(lambda x: len(x[x > 0]))\n",
    "        tmp_df['all_promos_count_last_' + str(day_input)] = tmp_df_input['promotion'].agg('sum')\n",
    "\n",
    "        # recency\n",
    "        if day_input == max(days_input):\n",
    "            tmp_df_input = agg_orders[(agg_orders['day_of_year'] >= input_day_min) &\n",
    "                                      (agg_orders['day_of_year'] <= input_day_max) &\n",
    "                                      (agg_orders['order'] > 0)\n",
    "                                     ].groupby('itemID')\n",
    "            tmp_df['days_since_last_order'] = (day_of_year - tmp_df_input['day_of_year'].agg('max')).reindex(tmp_df.itemID).reset_index()['day_of_year']\n",
    "            tmp_df['days_since_last_order'].fillna(day_input, inplace = True)\n",
    "        \n",
    "    # add day of year\n",
    "    tmp_df.insert(1, column = 'day_of_year', value = day_of_year)\n",
    "        \n",
    "    # merge data\n",
    "    orders = pd.concat([orders, tmp_df], axis = 0)"
   ]
  },
  {
   "cell_type": "code",
   "execution_count": 15,
   "metadata": {},
   "outputs": [
    {
     "data": {
      "text/plain": [
       "Text(0.5, 0, 'Day')"
      ]
     },
     "execution_count": 15,
     "metadata": {},
     "output_type": "execute_result"
    },
    {
     "data": {
      "image/png": "[encoded data removed]",
      "text/plain": [
       "<Figure size 720x360 with 1 Axes>"
      ]
     },
     "metadata": {
      "needs_background": "dark"
     },
     "output_type": "display_data"
    }
   ],
   "source": [
    "# example sales plot\n",
    "df = orders[orders.itemID == 1]\n",
    "plt.figure(figsize = (10, 5))\n",
    "plt.scatter(df['day_of_year'], df['target'], c = df['promo_in_test'])\n",
    "plt.title('itemID == 1')\n",
    "plt.ylabel('Target (orders in next 14 days)')\n",
    "plt.xlabel('Day')"
   ]
  },
  {
   "cell_type": "markdown",
   "metadata": {},
   "source": [
    "# MERGE DATA SETS"
   ]
  },
  {
   "cell_type": "code",
   "execution_count": 16,
   "metadata": {},
   "outputs": [
    {
     "name": "stdout",
     "output_type": "stream",
     "text": [
      "(1443894, 25)\n",
      "(10463, 13)\n",
      "(1443894, 37)\n"
     ]
    }
   ],
   "source": [
    "print(orders.shape)\n",
    "print(items.shape)\n",
    "df = pd.merge(orders, items, on = 'itemID', how = 'left')\n",
    "print(df.shape)"
   ]
  },
  {
   "cell_type": "markdown",
   "metadata": {},
   "source": [
    "# EXTRACT TEST DATA"
   ]
  },
  {
   "cell_type": "code",
   "execution_count": 17,
   "metadata": {},
   "outputs": [
    {
     "name": "stdout",
     "output_type": "stream",
     "text": [
      "(1433431, 37)\n",
      "(10463, 37)\n"
     ]
    }
   ],
   "source": [
    "# partition intro train and test\n",
    "df_train = df[df['day_of_year'] <  df['day_of_year'].max()]\n",
    "df_test  = df[df['day_of_year'] == df['day_of_year'].max()]\n",
    "print(df_train.shape)\n",
    "print(df_test.shape)"
   ]
  },
  {
   "cell_type": "code",
   "execution_count": 18,
   "metadata": {},
   "outputs": [
    {
     "name": "stdout",
     "output_type": "stream",
     "text": [
      "(1433431, 34)\n",
      "(10463, 34)\n"
     ]
    }
   ],
   "source": [
    "# add promotion info to test\n",
    "promo_vars = df_test.filter(like = 'promotion_').columns\n",
    "df_test['promo_in_test'] = 3 - df_test[promo_vars].isnull().sum(axis = 1)\n",
    "df_test['promo_in_test'].describe()\n",
    "\n",
    "# drop promotion dates\n",
    "df_test.drop(promo_vars,  axis = 1, inplace = True)\n",
    "df_train.drop(promo_vars, axis = 1, inplace = True)\n",
    "print(df_train.shape)\n",
    "print(df_test.shape)"
   ]
  },
  {
   "cell_type": "markdown",
   "metadata": {},
   "source": [
    "# EXPORT"
   ]
  },
  {
   "cell_type": "code",
   "execution_count": 19,
   "metadata": {},
   "outputs": [],
   "source": [
    "##### LOGS\n",
    "\n",
    "# data (shape): descriprion\n",
    "#\n",
    "# df_v1 (1357920, 23): first aggregated df version with 4x2 lagged frequency-based features [7,14,21,28 days]\n",
    "# df_v2 (1357920, 24): added promo_in_test feature using 0.9 percentile of item-specific demand\n",
    "# df_v3 (1433431, 21): added rows with missing itemIDs for items that were never sold during training period;\n",
    "#                      added test sample with NA target and promo_in_test feature\n",
    "#                      removed promotion_i features info from training data\n",
    "# df_v4 (1433431, 26): added promo_count features; added days_since_last_order with NA set to time horizon\n",
    "# df_v5 (1433431, 34): added all_promo_count and all_order_count features for aggregated stats on all items"
   ]
  },
  {
   "cell_type": "code",
   "execution_count": 20,
   "metadata": {},
   "outputs": [
    {
     "name": "stdout",
     "output_type": "stream",
     "text": [
      "Saved as ../data/prepared/df_v5.csv\n",
      "Saved as ../data/prepared/df_test_v5.csv\n",
      "(1433431, 34)\n",
      "(10463, 34)\n"
     ]
    }
   ],
   "source": [
    "# save data frame\n",
    "# save_csv_version() automatically adds version number to prevent overwriting\n",
    "save_csv_version('../data/prepared/df.csv',      df_train, index = False, compression = 'gzip')\n",
    "save_csv_version('../data/prepared/df_test.csv', df_test,  index = False, compression = 'gzip', min_version = 3)\n",
    "print(df_train.shape)\n",
    "print(df_test.shape)"
   ]
  }
 ],
 "metadata": {
  "kernelspec": {
   "display_name": "Python 3",
   "language": "python",
   "name": "python3"
  },
  "language_info": {
   "codemirror_mode": {
    "name": "ipython",
    "version": 3
   },
   "file_extension": ".py",
   "mimetype": "text/x-python",
   "name": "python",
   "nbconvert_exporter": "python",
   "pygments_lexer": "ipython3",
   "version": "3.7.4"
  }
 },
 "nbformat": 4,
 "nbformat_minor": 4
}
