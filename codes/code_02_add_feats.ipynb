{
 "cells": [
  {
   "cell_type": "markdown",
   "metadata": {},
   "source": [
    "# SETTINGS"
   ]
  },
  {
   "cell_type": "code",
   "execution_count": 1,
   "metadata": {},
   "outputs": [],
   "source": [
    "########## LIBRARIES\n",
    "\n",
    "import numpy as np\n",
    "import pandas as pd\n",
    "\n",
    "import matplotlib.pyplot as plt\n",
    "import seaborn as sns\n",
    "\n",
    "import scipy.stats\n",
    "from scipy.signal import find_peaks\n",
    "\n",
    "import os\n",
    "import time\n",
    "import datetime\n",
    "import random\n",
    "import multiprocessing\n",
    "import pickle\n",
    "import warnings\n",
    "import gc\n",
    "from tqdm import tqdm\n",
    "\n",
    "from tsfresh import extract_features"
   ]
  },
  {
   "cell_type": "code",
   "execution_count": 2,
   "metadata": {},
   "outputs": [
    {
     "name": "stdout",
     "output_type": "stream",
     "text": [
      "Requirement already up-to-date: dptools in /Users/kozodoi/miniconda3/envs/py3/lib/python3.7/site-packages (0.3.10)\n",
      "Requirement already satisfied, skipping upgrade: scikit-learn in /Users/kozodoi/miniconda3/envs/py3/lib/python3.7/site-packages (from dptools) (0.21.3)\n",
      "Requirement already satisfied, skipping upgrade: numpy in /Users/kozodoi/miniconda3/envs/py3/lib/python3.7/site-packages (from dptools) (1.17.2)\n",
      "Requirement already satisfied, skipping upgrade: pandas in /Users/kozodoi/miniconda3/envs/py3/lib/python3.7/site-packages (from dptools) (0.25.1)\n",
      "Requirement already satisfied, skipping upgrade: scipy in /Users/kozodoi/miniconda3/envs/py3/lib/python3.7/site-packages (from dptools) (1.3.1)\n",
      "Requirement already satisfied, skipping upgrade: joblib>=0.11 in /Users/kozodoi/miniconda3/envs/py3/lib/python3.7/site-packages (from scikit-learn->dptools) (0.13.2)\n",
      "Requirement already satisfied, skipping upgrade: pytz>=2017.2 in /Users/kozodoi/miniconda3/envs/py3/lib/python3.7/site-packages (from pandas->dptools) (2019.3)\n",
      "Requirement already satisfied, skipping upgrade: python-dateutil>=2.6.1 in /Users/kozodoi/miniconda3/envs/py3/lib/python3.7/site-packages (from pandas->dptools) (2.8.0)\n",
      "Requirement already satisfied, skipping upgrade: six>=1.5 in /Users/kozodoi/miniconda3/envs/py3/lib/python3.7/site-packages (from python-dateutil>=2.6.1->pandas->dptools) (1.12.0)\n"
     ]
    }
   ],
   "source": [
    "########## HELPER FUNCTIONS\n",
    "\n",
    "!pip install --upgrade dptools\n",
    "from dptools import *"
   ]
  },
  {
   "cell_type": "code",
   "execution_count": 3,
   "metadata": {},
   "outputs": [],
   "source": [
    "########## SETTINGS\n",
    "\n",
    "warnings.filterwarnings('ignore')\n",
    "pd.set_option('display.max_columns', None)\n",
    "plt.style.use('dark_background')\n",
    "%matplotlib inline\n",
    "gc.enable()"
   ]
  },
  {
   "cell_type": "markdown",
   "metadata": {},
   "source": [
    "# DATA IMPORT"
   ]
  },
  {
   "cell_type": "code",
   "execution_count": 4,
   "metadata": {},
   "outputs": [
    {
     "name": "stdout",
     "output_type": "stream",
     "text": [
      "(2181955, 5)\n",
      "(10463, 12)\n"
     ]
    }
   ],
   "source": [
    "# read data\n",
    "orders = pd.read_csv('../data/prepared/orders_v1.csv', compression = 'gzip')\n",
    "items  = pd.read_csv('../data/prepared/items_v1.csv',  compression = 'gzip')\n",
    "print(orders.shape)\n",
    "print(items.shape)"
   ]
  },
  {
   "cell_type": "code",
   "execution_count": 5,
   "metadata": {},
   "outputs": [],
   "source": [
    "# convert dates\n",
    "orders['time']       = pd.to_datetime(orders['time'].astype('str'),       infer_datetime_format = True)\n",
    "items['promotion_0'] = pd.to_datetime(items['promotion_0'].astype('str'), infer_datetime_format = True)\n",
    "items['promotion_1'] = pd.to_datetime(items['promotion_1'].astype('str'), infer_datetime_format = True)\n",
    "items['promotion_2'] = pd.to_datetime(items['promotion_2'].astype('str'), infer_datetime_format = True)"
   ]
  },
  {
   "cell_type": "markdown",
   "metadata": {},
   "source": [
    "# ADD FEATURES: ITEMS"
   ]
  },
  {
   "cell_type": "code",
   "execution_count": 6,
   "metadata": {},
   "outputs": [
    {
     "data": {
      "text/html": [
       "<div>\n",
       "<style scoped>\n",
       "    .dataframe tbody tr th:only-of-type {\n",
       "        vertical-align: middle;\n",
       "    }\n",
       "\n",
       "    .dataframe tbody tr th {\n",
       "        vertical-align: top;\n",
       "    }\n",
       "\n",
       "    .dataframe thead th {\n",
       "        text-align: right;\n",
       "    }\n",
       "</style>\n",
       "<table border=\"1\" class=\"dataframe\">\n",
       "  <thead>\n",
       "    <tr style=\"text-align: right;\">\n",
       "      <th></th>\n",
       "      <th>itemID</th>\n",
       "      <th>simulationPrice</th>\n",
       "      <th>brand</th>\n",
       "      <th>manufacturer</th>\n",
       "      <th>customerRating</th>\n",
       "      <th>category1</th>\n",
       "      <th>category2</th>\n",
       "      <th>category3</th>\n",
       "      <th>recommendedRetailPrice</th>\n",
       "      <th>promotion_0</th>\n",
       "      <th>promotion_1</th>\n",
       "      <th>promotion_2</th>\n",
       "    </tr>\n",
       "  </thead>\n",
       "  <tbody>\n",
       "    <tr>\n",
       "      <td>0</td>\n",
       "      <td>1</td>\n",
       "      <td>3.43</td>\n",
       "      <td>NaN</td>\n",
       "      <td>1</td>\n",
       "      <td>4.38</td>\n",
       "      <td>1</td>\n",
       "      <td>1</td>\n",
       "      <td>1</td>\n",
       "      <td>8.84</td>\n",
       "      <td>NaT</td>\n",
       "      <td>NaT</td>\n",
       "      <td>NaT</td>\n",
       "    </tr>\n",
       "    <tr>\n",
       "      <td>1</td>\n",
       "      <td>2</td>\n",
       "      <td>9.15</td>\n",
       "      <td>NaN</td>\n",
       "      <td>2</td>\n",
       "      <td>3.00</td>\n",
       "      <td>1</td>\n",
       "      <td>2</td>\n",
       "      <td>1</td>\n",
       "      <td>16.92</td>\n",
       "      <td>NaT</td>\n",
       "      <td>NaT</td>\n",
       "      <td>NaT</td>\n",
       "    </tr>\n",
       "    <tr>\n",
       "      <td>2</td>\n",
       "      <td>3</td>\n",
       "      <td>14.04</td>\n",
       "      <td>NaN</td>\n",
       "      <td>3</td>\n",
       "      <td>5.00</td>\n",
       "      <td>1</td>\n",
       "      <td>3</td>\n",
       "      <td>1</td>\n",
       "      <td>15.89</td>\n",
       "      <td>NaT</td>\n",
       "      <td>NaT</td>\n",
       "      <td>NaT</td>\n",
       "    </tr>\n",
       "    <tr>\n",
       "      <td>3</td>\n",
       "      <td>4</td>\n",
       "      <td>14.10</td>\n",
       "      <td>NaN</td>\n",
       "      <td>2</td>\n",
       "      <td>4.44</td>\n",
       "      <td>1</td>\n",
       "      <td>2</td>\n",
       "      <td>1</td>\n",
       "      <td>40.17</td>\n",
       "      <td>NaT</td>\n",
       "      <td>NaT</td>\n",
       "      <td>NaT</td>\n",
       "    </tr>\n",
       "    <tr>\n",
       "      <td>4</td>\n",
       "      <td>5</td>\n",
       "      <td>7.48</td>\n",
       "      <td>NaN</td>\n",
       "      <td>2</td>\n",
       "      <td>2.33</td>\n",
       "      <td>1</td>\n",
       "      <td>1</td>\n",
       "      <td>1</td>\n",
       "      <td>17.04</td>\n",
       "      <td>NaT</td>\n",
       "      <td>NaT</td>\n",
       "      <td>NaT</td>\n",
       "    </tr>\n",
       "  </tbody>\n",
       "</table>\n",
       "</div>"
      ],
      "text/plain": [
       "   itemID  simulationPrice  brand  manufacturer  customerRating  category1  \\\n",
       "0       1             3.43    NaN             1            4.38          1   \n",
       "1       2             9.15    NaN             2            3.00          1   \n",
       "2       3            14.04    NaN             3            5.00          1   \n",
       "3       4            14.10    NaN             2            4.44          1   \n",
       "4       5             7.48    NaN             2            2.33          1   \n",
       "\n",
       "   category2  category3  recommendedRetailPrice promotion_0 promotion_1  \\\n",
       "0          1          1                    8.84         NaT         NaT   \n",
       "1          2          1                   16.92         NaT         NaT   \n",
       "2          3          1                   15.89         NaT         NaT   \n",
       "3          2          1                   40.17         NaT         NaT   \n",
       "4          1          1                   17.04         NaT         NaT   \n",
       "\n",
       "  promotion_2  \n",
       "0         NaT  \n",
       "1         NaT  \n",
       "2         NaT  \n",
       "3         NaT  \n",
       "4         NaT  "
      ]
     },
     "execution_count": 6,
     "metadata": {},
     "output_type": "execute_result"
    }
   ],
   "source": [
    "items.head()"
   ]
  },
  {
   "cell_type": "code",
   "execution_count": 7,
   "metadata": {},
   "outputs": [
    {
     "data": {
      "text/plain": [
       "count    10463.000000\n",
       "mean         0.957107\n",
       "std          0.616878\n",
       "min          0.020094\n",
       "25%          0.449184\n",
       "50%          0.813378\n",
       "75%          1.359211\n",
       "max          5.678983\n",
       "Name: recommended_simulation_price_ratio, dtype: float64"
      ]
     },
     "execution_count": 7,
     "metadata": {},
     "output_type": "execute_result"
    }
   ],
   "source": [
    "# price ratio\n",
    "items['recommended_simulation_price_ratio'] = items['simulationPrice'] / items['recommendedRetailPrice']\n",
    "items['recommended_simulation_price_ratio'].describe()"
   ]
  },
  {
   "cell_type": "code",
   "execution_count": 8,
   "metadata": {},
   "outputs": [
    {
     "data": {
      "text/plain": [
       "75"
      ]
     },
     "execution_count": 8,
     "metadata": {},
     "output_type": "execute_result"
    }
   ],
   "source": [
    "# detailed item category\n",
    "items['category'] = items['category1'].astype(str) + items['category2'].astype(str) + items['category3'].astype(str)\n",
    "items['category'] = items['category'].astype(int)\n",
    "items['category'].nunique()"
   ]
  },
  {
   "cell_type": "code",
   "execution_count": 9,
   "metadata": {},
   "outputs": [
    {
     "data": {
      "text/plain": [
       "count    3346.000000\n",
       "mean        1.000000\n",
       "std         0.231363\n",
       "min         0.211680\n",
       "25%         0.944197\n",
       "50%         1.060606\n",
       "75%         1.136024\n",
       "max         1.767617\n",
       "Name: customerRating_manufacturer_ratio, dtype: float64"
      ]
     },
     "execution_count": 9,
     "metadata": {},
     "output_type": "execute_result"
    }
   ],
   "source": [
    "# customer rating ratio per manufacturer\n",
    "rating_manufacturer = items.groupby('manufacturer')['customerRating'].agg('mean').reset_index()\n",
    "rating_manufacturer.columns = ['manufacturer', 'mean_customerRating_manufacturer']\n",
    "items = items.merge(rating_manufacturer, how = 'left', on = 'manufacturer')\n",
    "items['customerRating_manufacturer_ratio'] = items['customerRating'] / items['mean_customerRating_manufacturer']\n",
    "del items['mean_customerRating_manufacturer']\n",
    "items['customerRating_manufacturer_ratio'].describe()"
   ]
  },
  {
   "cell_type": "code",
   "execution_count": 10,
   "metadata": {},
   "outputs": [
    {
     "data": {
      "text/plain": [
       "count    3346.000000\n",
       "mean        1.000000\n",
       "std         0.233089\n",
       "min         0.211423\n",
       "25%         0.927767\n",
       "50%         1.098585\n",
       "75%         1.125704\n",
       "max         1.714286\n",
       "Name: customerRating_category_ratio, dtype: float64"
      ]
     },
     "execution_count": 10,
     "metadata": {},
     "output_type": "execute_result"
    }
   ],
   "source": [
    "# customer rating ratio per category\n",
    "rating_category = items.groupby('category')['customerRating'].agg('mean').reset_index()\n",
    "rating_category.columns = ['category', 'mean_customerRating_category']\n",
    "items = items.merge(rating_category, how = 'left', on = 'category')\n",
    "items['customerRating_category_ratio'] = items['customerRating'] / items['mean_customerRating_category']\n",
    "del items['mean_customerRating_category']\n",
    "items['customerRating_category_ratio'].describe()"
   ]
  },
  {
   "cell_type": "markdown",
   "metadata": {},
   "source": [
    "# ADD FEATURES: ORDERS"
   ]
  },
  {
   "cell_type": "code",
   "execution_count": 11,
   "metadata": {},
   "outputs": [
    {
     "name": "stdout",
     "output_type": "stream",
     "text": [
      "2715559\n"
     ]
    }
   ],
   "source": [
    "# total orders\n",
    "print(orders['order'].sum())"
   ]
  },
  {
   "cell_type": "code",
   "execution_count": 12,
   "metadata": {},
   "outputs": [
    {
     "data": {
      "text/html": [
       "<div>\n",
       "<style scoped>\n",
       "    .dataframe tbody tr th:only-of-type {\n",
       "        vertical-align: middle;\n",
       "    }\n",
       "\n",
       "    .dataframe tbody tr th {\n",
       "        vertical-align: top;\n",
       "    }\n",
       "\n",
       "    .dataframe thead th {\n",
       "        text-align: right;\n",
       "    }\n",
       "</style>\n",
       "<table border=\"1\" class=\"dataframe\">\n",
       "  <thead>\n",
       "    <tr style=\"text-align: right;\">\n",
       "      <th></th>\n",
       "      <th>itemID</th>\n",
       "      <th>day_of_year</th>\n",
       "      <th>order</th>\n",
       "    </tr>\n",
       "  </thead>\n",
       "  <tbody>\n",
       "    <tr>\n",
       "      <td>0</td>\n",
       "      <td>1</td>\n",
       "      <td>23</td>\n",
       "      <td>1</td>\n",
       "    </tr>\n",
       "    <tr>\n",
       "      <td>1</td>\n",
       "      <td>1</td>\n",
       "      <td>25</td>\n",
       "      <td>1</td>\n",
       "    </tr>\n",
       "    <tr>\n",
       "      <td>2</td>\n",
       "      <td>1</td>\n",
       "      <td>29</td>\n",
       "      <td>307</td>\n",
       "    </tr>\n",
       "    <tr>\n",
       "      <td>3</td>\n",
       "      <td>1</td>\n",
       "      <td>30</td>\n",
       "      <td>3</td>\n",
       "    </tr>\n",
       "    <tr>\n",
       "      <td>4</td>\n",
       "      <td>1</td>\n",
       "      <td>31</td>\n",
       "      <td>1</td>\n",
       "    </tr>\n",
       "  </tbody>\n",
       "</table>\n",
       "</div>"
      ],
      "text/plain": [
       "   itemID  day_of_year  order\n",
       "0       1           23      1\n",
       "1       1           25      1\n",
       "2       1           29    307\n",
       "3       1           30      3\n",
       "4       1           31      1"
      ]
     },
     "execution_count": 12,
     "metadata": {},
     "output_type": "execute_result"
    }
   ],
   "source": [
    "##### AGGREGATE ORDERS BY DAY\n",
    "\n",
    "# aggregation\n",
    "orders['day_of_year'] = orders['time'].dt.dayofyear\n",
    "orders_price = orders.groupby(['itemID', 'day_of_year'])['salesPrice'].agg('mean').reset_index()\n",
    "orders = orders.groupby(['itemID', 'day_of_year'])['order'].agg('sum').reset_index()\n",
    "orders.head()"
   ]
  },
  {
   "cell_type": "code",
   "execution_count": 13,
   "metadata": {},
   "outputs": [
    {
     "name": "stdout",
     "output_type": "stream",
     "text": [
      "2715559\n"
     ]
    }
   ],
   "source": [
    "# check total orders\n",
    "print(orders['order'].sum())"
   ]
  },
  {
   "cell_type": "code",
   "execution_count": 14,
   "metadata": {},
   "outputs": [
    {
     "name": "stdout",
     "output_type": "stream",
     "text": [
      "(100771, 3)\n",
      "(1883340, 3)\n"
     ]
    }
   ],
   "source": [
    "##### ADD MISSING INPUTS [ORDERS]\n",
    "\n",
    "# add items that were never sold before\n",
    "missing_itemIDs = set(items['itemID'].unique()) - set(orders['itemID'].unique())\n",
    "missing_rows = pd.DataFrame({'itemID':     list(missing_itemIDs), \n",
    "                            'day_of_year': np.ones(len(missing_itemIDs)).astype('int'), \n",
    "                            'order':       np.zeros(len(missing_itemIDs)).astype('int')})\n",
    "orders = pd.concat([orders, missing_rows], axis = 0)\n",
    "print(orders.shape)\n",
    "\n",
    "# add zeros for days with no transactions\n",
    "agg_orders = orders.groupby(['itemID', 'day_of_year']).order.unique().unstack('day_of_year').stack('day_of_year', dropna = False)\n",
    "agg_orders = agg_orders.reset_index()\n",
    "agg_orders.columns = ['itemID', 'day_of_year', 'order']\n",
    "agg_orders['order'].fillna(0, inplace = True)\n",
    "agg_orders['order'] = agg_orders['order'].astype(int)\n",
    "print(agg_orders.shape)"
   ]
  },
  {
   "cell_type": "code",
   "execution_count": 15,
   "metadata": {},
   "outputs": [
    {
     "name": "stdout",
     "output_type": "stream",
     "text": [
      "(100771, 3)\n",
      "(1883340, 3)\n",
      "(1883340, 4)\n"
     ]
    }
   ],
   "source": [
    "##### ADD MISSING INPUTS [PRICES]\n",
    "\n",
    "# add items that were never sold before\n",
    "missing_rows = pd.DataFrame({'itemID':     list(missing_itemIDs), \n",
    "                            'day_of_year': np.ones(len(missing_itemIDs)).astype('int'), \n",
    "                            'salesPrice':  np.zeros(len(missing_itemIDs)).astype('int')})\n",
    "orders_price = pd.concat([orders_price, missing_rows], axis = 0)\n",
    "print(orders_price.shape)\n",
    "\n",
    "# add zeros for days with no transactions\n",
    "agg_orders_price = orders_price.groupby(['itemID', 'day_of_year']).salesPrice.unique().unstack('day_of_year').stack('day_of_year', dropna = False)\n",
    "agg_orders_price = agg_orders_price.reset_index()\n",
    "agg_orders_price.columns = ['itemID', 'day_of_year', 'salesPrice']\n",
    "agg_orders_price['salesPrice'].fillna(0, inplace = True)\n",
    "agg_orders_price['salesPrice'] = agg_orders_price['salesPrice'].astype(int)\n",
    "agg_orders_price['salesPrice'][agg_orders_price['salesPrice'] == 0] = np.nan\n",
    "print(agg_orders_price.shape)\n",
    "\n",
    "# fill missing prices for dates with no orders\n",
    "agg_orders_price['salesPrice'] = agg_orders_price.groupby(['itemID']).salesPrice.fillna(method = 'ffill')\n",
    "agg_orders_price['salesPrice'] = agg_orders_price.groupby(['itemID']).salesPrice.fillna(method = 'bfill')\n",
    "agg_orders_price = agg_orders_price.merge(items[['itemID', 'simulationPrice']], how = 'left', on = 'itemID')\n",
    "agg_orders_price['salesPrice'][agg_orders_price['salesPrice'].isnull()] = agg_orders_price['simulationPrice'][agg_orders_price['salesPrice'].isnull()]\n",
    "del agg_orders_price['simulationPrice']\n",
    "\n",
    "# merge prices to orders\n",
    "agg_orders = agg_orders.merge(agg_orders_price, how = 'left', on = ['itemID', 'day_of_year'])\n",
    "print(agg_orders.shape)"
   ]
  },
  {
   "cell_type": "code",
   "execution_count": 16,
   "metadata": {},
   "outputs": [
    {
     "name": "stderr",
     "output_type": "stream",
     "text": [
      "100%|██████████| 10463/10463 [03:30<00:00, 49.73it/s]"
     ]
    },
    {
     "name": "stdout",
     "output_type": "stream",
     "text": [
      "14911.0\n"
     ]
    },
    {
     "name": "stderr",
     "output_type": "stream",
     "text": [
      "\n"
     ]
    }
   ],
   "source": [
    "##### FIND PROMOTION DAYS\n",
    "\n",
    "# documentation says that we have to manually mark promotion days in the training period\n",
    "# without marking, predictions are difficult because orders in some daye explode without apparent reason\n",
    "# we need to be very careful with threshold and rely on visuzal analysis and/or better metric to mark promos\n",
    "# I started with treating promotions as days when the number of orders for a given item exceeds 90th percentile\n",
    "# now I am trying to use a smarte technique using find_peaks() and specifying height and prominence\n",
    "\n",
    "# computations\n",
    "agg_orders['promotion'] = 0\n",
    "for itemID in tqdm(agg_orders['itemID'].unique()):\n",
    "    '''\n",
    "    # using quantiles\n",
    "    promo_quant = orders[orders['itemID'] == itemID]['order'].quantile(0.90)\n",
    "    orders.loc[(orders['itemID'] == itemID) & (orders['order'] >= promo_quant), 'promotion'] = 1\n",
    "    '''\n",
    "    # using find_peaks\n",
    "    promo    = np.zeros(len(agg_orders[agg_orders['itemID'] == itemID]))\n",
    "    avg      = agg_orders[(agg_orders['itemID'] == itemID)]['order'].median()\n",
    "    std      = agg_orders[(agg_orders['itemID'] == itemID)]['order'].std()\n",
    "    peaks, _ = find_peaks(np.append(agg_orders[agg_orders['itemID'] == itemID]['order'].values, avg), # append avg to enable marking last point as promo\n",
    "                          prominence = max(5, std),  # peak difference with neighbor points; max(5,std) to exclude cases when std is too small\n",
    "                          height     = avg + 2*std)  # minimal height of a peak\n",
    "    promo[peaks] = 1\n",
    "    agg_orders.loc[agg_orders['itemID'] == itemID, 'promotion'] = promo\n",
    "    \n",
    "# check total promotions\n",
    "print(agg_orders['promotion'].sum())"
   ]
  },
  {
   "cell_type": "code",
   "execution_count": 17,
   "metadata": {},
   "outputs": [
    {
     "name": "stdout",
     "output_type": "stream",
     "text": [
      "Daily p(promotion) per item in train: 0.0079\n",
      "Daily p(promotion) per item in test:  0.0141\n"
     ]
    }
   ],
   "source": [
    "##### COMPARE PROMOTIONS NUMBER\n",
    "\n",
    "# computations\n",
    "promo_in_train = (agg_orders['promotion'].sum() / agg_orders['day_of_year'].max()) / len(items)\n",
    "promo_in_test  = (3*len(items) - items.promotion_0.isnull().sum() - items.promotion_2.isnull().sum() - items.promotion_1.isnull().sum()) / 14 / len(items)\n",
    "\n",
    "# info\n",
    "print('Daily p(promotion) per item in train: {}'.format(np.round(promo_in_train, 4)))\n",
    "print('Daily p(promotion) per item in test:  {}'.format(np.round(promo_in_test , 4)))"
   ]
  },
  {
   "cell_type": "code",
   "execution_count": 18,
   "metadata": {},
   "outputs": [
    {
     "data": {
      "image/png": "[encoded data removed]",
      "text/plain": [
       "<Figure size 1152x864 with 12 Axes>"
      ]
     },
     "metadata": {
      "needs_background": "dark"
     },
     "output_type": "display_data"
    }
   ],
   "source": [
    "### EXAMPLE SALES PLOT\n",
    "\n",
    "# compute promo count\n",
    "promo_count = agg_orders.groupby('itemID')['promotion'].agg('sum').reset_index()\n",
    "promo_count = promo_count.sort_values('promotion').reset_index(drop = True)\n",
    "\n",
    "# plot some items\n",
    "item_plots = [0, 2000, 4000, 6000, 8000, 9000, 10000, 10100, 10200, 10300, 10400, 10462]\n",
    "fig = plt.figure(figsize = (16, 12))\n",
    "for i in range(len(item_plots)):\n",
    "    plt.subplot(3, 4, i + 1)\n",
    "    df = agg_orders[agg_orders.itemID == promo_count['itemID'][item_plots[i]]]\n",
    "    plt.scatter(df['day_of_year'], df['order'], c = df['promotion'])\n",
    "    plt.ylabel('Total Orders')\n",
    "    plt.xlabel('Day')"
   ]
  },
  {
   "cell_type": "code",
   "execution_count": 19,
   "metadata": {
    "collapsed": true,
    "jupyter": {
     "outputs_hidden": true
    }
   },
   "outputs": [
    {
     "name": "stderr",
     "output_type": "stream",
     "text": [
      "  0%|          | 0/19 [00:00<?, ?it/s]\n",
      "Feature Extraction:   0%|          | 0/10 [00:00<?, ?it/s]\u001b[A\n",
      "Feature Extraction:  10%|█         | 1/10 [01:17<11:36, 77.43s/it]\u001b[A\n",
      "Feature Extraction:  20%|██        | 2/10 [01:18<07:16, 54.54s/it]\u001b[A\n",
      "Feature Extraction:  30%|███       | 3/10 [02:35<07:07, 61.13s/it]\u001b[A\n",
      "Feature Extraction:  40%|████      | 4/10 [02:36<04:19, 43.31s/it]\u001b[A\n",
      "Feature Extraction:  50%|█████     | 5/10 [03:53<04:27, 53.42s/it]\u001b[A\n",
      "Feature Extraction:  60%|██████    | 6/10 [03:55<02:31, 37.87s/it]\u001b[A\n",
      "Feature Extraction:  70%|███████   | 7/10 [05:13<02:30, 50.01s/it]\u001b[A\n",
      "Feature Extraction:  80%|████████  | 8/10 [05:15<01:11, 35.52s/it]\u001b[A\n",
      "Feature Extraction:  90%|█████████ | 9/10 [06:33<00:48, 48.14s/it]\u001b[A\n",
      "Feature Extraction: 100%|██████████| 10/10 [06:33<00:00, 39.38s/it]\u001b[A\n",
      "  5%|▌         | 1/19 [07:25<2:13:38, 445.45s/it]\n",
      "Feature Extraction:   0%|          | 0/10 [00:00<?, ?it/s]\u001b[A\n",
      "Feature Extraction:  10%|█         | 1/10 [01:21<12:13, 81.49s/it]\u001b[A\n",
      "Feature Extraction:  20%|██        | 2/10 [01:22<07:39, 57.41s/it]\u001b[A\n",
      "Feature Extraction:  30%|███       | 3/10 [02:41<07:27, 63.89s/it]\u001b[A\n",
      "Feature Extraction:  40%|████      | 4/10 [02:44<04:32, 45.44s/it]\u001b[A\n",
      "Feature Extraction:  50%|█████     | 5/10 [04:02<04:36, 55.37s/it]\u001b[A\n",
      "Feature Extraction:  60%|██████    | 6/10 [04:04<02:36, 39.24s/it]\u001b[A\n",
      "Feature Extraction:  70%|███████   | 7/10 [05:23<02:33, 51.33s/it]\u001b[A\n",
      "Feature Extraction:  80%|████████  | 8/10 [05:25<01:13, 36.51s/it]\u001b[A\n",
      "Feature Extraction:  90%|█████████ | 9/10 [06:44<00:49, 49.33s/it]\u001b[A\n",
      "Feature Extraction: 100%|██████████| 10/10 [06:45<00:00, 40.58s/it]\u001b[A\n",
      " 11%|█         | 2/19 [15:02<2:07:13, 449.00s/it]\n",
      "Feature Extraction:   0%|          | 0/10 [00:00<?, ?it/s]\u001b[A\n",
      "Feature Extraction:  10%|█         | 1/10 [01:22<12:22, 82.51s/it]\u001b[A\n",
      "Feature Extraction:  20%|██        | 2/10 [01:23<07:45, 58.14s/it]\u001b[A\n",
      "Feature Extraction:  30%|███       | 3/10 [02:43<07:31, 64.50s/it]\u001b[A\n",
      "Feature Extraction:  40%|████      | 4/10 [02:45<04:34, 45.83s/it]\u001b[A\n",
      "Feature Extraction:  50%|█████     | 5/10 [04:04<04:39, 55.81s/it]\u001b[A\n",
      "Feature Extraction:  60%|██████    | 6/10 [04:06<02:38, 39.54s/it]\u001b[A\n",
      "Feature Extraction:  70%|███████   | 7/10 [05:26<02:35, 51.83s/it]\u001b[A\n",
      "Feature Extraction:  80%|████████  | 8/10 [05:28<01:13, 36.80s/it]\u001b[A\n",
      "Feature Extraction:  90%|█████████ | 9/10 [06:48<00:49, 49.75s/it]\u001b[A\n",
      "Feature Extraction: 100%|██████████| 10/10 [06:49<00:00, 40.91s/it]\u001b[A\n",
      " 16%|█▌        | 3/19 [22:44<2:00:45, 452.83s/it]\n",
      "Feature Extraction:   0%|          | 0/10 [00:00<?, ?it/s]\u001b[A\n",
      "Feature Extraction:  10%|█         | 1/10 [01:22<12:23, 82.64s/it]\u001b[A\n",
      "Feature Extraction:  20%|██        | 2/10 [01:24<07:46, 58.25s/it]\u001b[A\n",
      "Feature Extraction:  30%|███       | 3/10 [02:46<07:39, 65.67s/it]\u001b[A\n",
      "Feature Extraction:  40%|████      | 4/10 [02:49<04:39, 46.63s/it]\u001b[A\n",
      "Feature Extraction:  50%|█████     | 5/10 [04:10<04:45, 57.00s/it]\u001b[A\n",
      "Feature Extraction:  60%|██████    | 6/10 [04:11<02:41, 40.33s/it]\u001b[A\n",
      "Feature Extraction:  70%|███████   | 7/10 [05:33<02:38, 52.81s/it]\u001b[A\n",
      "Feature Extraction:  80%|████████  | 8/10 [05:35<01:14, 37.41s/it]\u001b[A\n",
      "Feature Extraction:  90%|█████████ | 9/10 [06:57<00:50, 50.87s/it]\u001b[A\n",
      "Feature Extraction: 100%|██████████| 10/10 [06:58<00:00, 41.84s/it]\u001b[A\n",
      " 21%|██        | 4/19 [30:36<1:54:36, 458.43s/it]\n",
      "Feature Extraction:   0%|          | 0/10 [00:00<?, ?it/s]\u001b[A\n",
      "Feature Extraction:  10%|█         | 1/10 [01:25<12:52, 85.84s/it]\u001b[A\n",
      "Feature Extraction:  20%|██        | 2/10 [01:27<08:03, 60.49s/it]\u001b[A\n",
      "Feature Extraction:  30%|███       | 3/10 [02:56<08:03, 69.03s/it]\u001b[A\n",
      "Feature Extraction:  40%|████      | 4/10 [02:58<04:53, 48.95s/it]\u001b[A\n",
      "Feature Extraction:  50%|█████     | 5/10 [04:22<04:57, 59.58s/it]\u001b[A\n",
      "Feature Extraction:  60%|██████    | 6/10 [04:24<02:48, 42.18s/it]\u001b[A\n",
      "Feature Extraction:  70%|███████   | 7/10 [05:48<02:44, 54.83s/it]\u001b[A\n",
      "Feature Extraction:  80%|████████  | 8/10 [05:50<01:17, 38.89s/it]\u001b[A\n",
      "Feature Extraction:  90%|█████████ | 9/10 [07:15<00:52, 52.69s/it]\u001b[A\n",
      "Feature Extraction: 100%|██████████| 10/10 [07:16<00:00, 43.60s/it]\u001b[A\n",
      " 26%|██▋       | 5/19 [38:47<1:49:16, 468.31s/it]\n",
      "Feature Extraction:   0%|          | 0/10 [00:00<?, ?it/s]\u001b[A\n",
      "Feature Extraction:  10%|█         | 1/10 [01:27<13:08, 87.66s/it]\u001b[A\n",
      "Feature Extraction:  20%|██        | 2/10 [01:29<08:14, 61.78s/it]\u001b[A\n",
      "Feature Extraction:  30%|███       | 3/10 [02:55<08:03, 69.14s/it]\u001b[A\n",
      "Feature Extraction:  40%|████      | 4/10 [02:57<04:54, 49.08s/it]\u001b[A\n",
      "Feature Extraction:  50%|█████     | 5/10 [04:23<04:59, 59.97s/it]\u001b[A\n",
      "Feature Extraction:  60%|██████    | 6/10 [04:24<02:49, 42.45s/it]\u001b[A\n",
      "Feature Extraction:  70%|███████   | 7/10 [05:51<02:47, 55.82s/it]\u001b[A\n",
      "Feature Extraction:  80%|████████  | 8/10 [05:53<01:19, 39.59s/it]\u001b[A\n",
      "Feature Extraction:  90%|█████████ | 9/10 [07:18<00:53, 53.35s/it]\u001b[A\n",
      "Feature Extraction: 100%|██████████| 10/10 [07:19<00:00, 43.97s/it]\u001b[A\n",
      " 32%|███▏      | 6/19 [47:03<1:43:17, 476.71s/it]\n",
      "Feature Extraction:   0%|          | 0/10 [00:00<?, ?it/s]\u001b[A\n",
      "Feature Extraction:  10%|█         | 1/10 [01:27<13:04, 87.16s/it]\u001b[A\n",
      "Feature Extraction:  20%|██        | 2/10 [01:28<08:11, 61.43s/it]\u001b[A\n",
      "Feature Extraction:  30%|███       | 3/10 [02:53<07:58, 68.39s/it]\u001b[A\n",
      "Feature Extraction:  40%|████      | 4/10 [02:55<04:51, 48.58s/it]\u001b[A\n",
      "Feature Extraction:  50%|█████     | 5/10 [04:19<04:55, 59.20s/it]\u001b[A\n",
      "Feature Extraction:  60%|██████    | 6/10 [04:20<02:47, 41.86s/it]\u001b[A\n",
      "Feature Extraction:  70%|███████   | 7/10 [05:45<02:43, 54.55s/it]\u001b[A\n",
      "Feature Extraction:  80%|████████  | 8/10 [05:46<01:17, 38.70s/it]\u001b[A\n",
      "Feature Extraction:  90%|█████████ | 9/10 [07:11<00:52, 52.55s/it]\u001b[A\n",
      "Feature Extraction: 100%|██████████| 10/10 [07:12<00:00, 43.26s/it]\u001b[A\n",
      " 37%|███▋      | 7/19 [55:13<1:36:06, 480.55s/it]\n",
      "Feature Extraction:   0%|          | 0/10 [00:00<?, ?it/s]\u001b[A\n",
      "Feature Extraction:  10%|█         | 1/10 [01:26<13:00, 86.72s/it]\u001b[A\n",
      "Feature Extraction:  20%|██        | 2/10 [01:28<08:09, 61.14s/it]\u001b[A\n",
      "Feature Extraction:  30%|███       | 3/10 [02:53<07:57, 68.26s/it]\u001b[A\n",
      "Feature Extraction:  40%|████      | 4/10 [02:55<04:50, 48.45s/it]\u001b[A\n",
      "Feature Extraction:  50%|█████     | 5/10 [04:23<05:01, 60.22s/it]\u001b[A\n",
      "Feature Extraction:  60%|██████    | 6/10 [04:24<02:50, 42.57s/it]\u001b[A\n",
      "Feature Extraction:  70%|███████   | 7/10 [05:46<02:43, 54.49s/it]\u001b[A\n",
      "Feature Extraction:  80%|████████  | 8/10 [05:48<01:17, 38.62s/it]\u001b[A\n",
      "Feature Extraction:  90%|█████████ | 9/10 [07:11<00:52, 52.01s/it]\u001b[A\n",
      "Feature Extraction: 100%|██████████| 10/10 [07:12<00:00, 43.27s/it]\u001b[A\n",
      " 42%|████▏     | 8/19 [1:03:30<1:29:00, 485.50s/it]\n",
      "Feature Extraction:   0%|          | 0/10 [00:00<?, ?it/s]\u001b[A\n",
      "Feature Extraction:  10%|█         | 1/10 [01:54<17:05, 113.95s/it]\u001b[A\n",
      "Feature Extraction:  20%|██        | 2/10 [01:55<10:42, 80.32s/it] \u001b[A\n",
      "Feature Extraction:  30%|███       | 3/10 [03:43<10:18, 88.39s/it]\u001b[A\n",
      "Feature Extraction:  40%|████      | 4/10 [03:46<06:16, 62.78s/it]\u001b[A\n",
      "Feature Extraction:  50%|█████     | 5/10 [05:33<06:20, 76.14s/it]\u001b[A\n",
      "Feature Extraction:  60%|██████    | 6/10 [05:35<03:35, 53.83s/it]\u001b[A\n",
      "Feature Extraction:  70%|███████   | 7/10 [07:22<03:29, 69.78s/it]\u001b[A\n",
      "Feature Extraction:  80%|████████  | 8/10 [07:24<01:39, 49.57s/it]\u001b[A\n",
      "Feature Extraction:  90%|█████████ | 9/10 [09:12<01:07, 67.02s/it]\u001b[A\n",
      "Feature Extraction: 100%|██████████| 10/10 [09:13<00:00, 55.36s/it]\u001b[A\n",
      " 47%|████▋     | 9/19 [1:14:11<1:28:41, 532.13s/it]\n",
      "Feature Extraction:   0%|          | 0/10 [00:00<?, ?it/s]\u001b[A\n",
      "Feature Extraction:  10%|█         | 1/10 [01:50<16:34, 110.50s/it]\u001b[A\n",
      "Feature Extraction:  20%|██        | 2/10 [01:52<10:22, 77.83s/it] \u001b[A\n",
      "Feature Extraction:  30%|███       | 3/10 [03:41<10:10, 87.19s/it]\u001b[A\n",
      "Feature Extraction:  40%|████      | 4/10 [03:44<06:11, 61.91s/it]\u001b[A\n",
      "Feature Extraction:  50%|█████     | 5/10 [05:46<06:40, 80.03s/it]\u001b[A\n",
      "Feature Extraction:  60%|██████    | 6/10 [05:48<03:46, 56.61s/it]\u001b[A\n",
      "Feature Extraction:  70%|███████   | 7/10 [07:37<03:36, 72.31s/it]\u001b[A\n",
      "Feature Extraction:  80%|████████  | 8/10 [07:39<01:42, 51.32s/it]\u001b[A\n",
      "Feature Extraction:  90%|█████████ | 9/10 [09:08<01:02, 62.59s/it]\u001b[A\n",
      "Feature Extraction: 100%|██████████| 10/10 [09:09<00:00, 54.96s/it]\u001b[A\n",
      " 53%|█████▎    | 10/19 [1:24:44<1:24:22, 562.53s/it]\n",
      "Feature Extraction:   0%|          | 0/10 [00:00<?, ?it/s]\u001b[A\n",
      "Feature Extraction:  10%|█         | 1/10 [01:30<13:34, 90.53s/it]\u001b[A\n",
      "Feature Extraction:  20%|██        | 2/10 [01:31<08:30, 63.79s/it]\u001b[A\n",
      "Feature Extraction:  30%|███       | 3/10 [02:58<08:14, 70.61s/it]\u001b[A\n",
      "Feature Extraction:  40%|████      | 4/10 [03:00<05:00, 50.11s/it]\u001b[A\n",
      "Feature Extraction:  50%|█████     | 5/10 [04:27<05:05, 61.07s/it]\u001b[A\n",
      "Feature Extraction:  60%|██████    | 6/10 [04:28<02:52, 43.19s/it]\u001b[A\n",
      "Feature Extraction:  70%|███████   | 7/10 [05:54<02:48, 56.00s/it]\u001b[A\n",
      "Feature Extraction:  80%|████████  | 8/10 [05:56<01:19, 39.70s/it]\u001b[A\n",
      "Feature Extraction:  90%|█████████ | 9/10 [07:22<00:53, 53.47s/it]\u001b[A\n",
      "Feature Extraction: 100%|██████████| 10/10 [07:22<00:00, 44.30s/it]\u001b[A\n",
      " 58%|█████▊    | 11/19 [1:33:11<1:12:46, 545.85s/it]\n",
      "Feature Extraction:   0%|          | 0/10 [00:00<?, ?it/s]\u001b[A\n",
      "Feature Extraction:  10%|█         | 1/10 [01:25<12:50, 85.61s/it]\u001b[A\n",
      "Feature Extraction:  20%|██        | 2/10 [01:27<08:02, 60.33s/it]\u001b[A\n",
      "Feature Extraction:  30%|███       | 3/10 [02:49<07:49, 67.13s/it]\u001b[A\n",
      "Feature Extraction:  40%|████      | 4/10 [02:51<04:45, 47.51s/it]\u001b[A\n",
      "Feature Extraction:  50%|█████     | 5/10 [04:14<04:50, 58.18s/it]\u001b[A\n",
      "Feature Extraction:  60%|██████    | 6/10 [04:16<02:44, 41.20s/it]\u001b[A\n",
      "Feature Extraction:  70%|███████   | 7/10 [05:38<02:40, 53.49s/it]\u001b[A\n",
      "Feature Extraction:  80%|████████  | 8/10 [05:40<01:15, 37.94s/it]\u001b[A\n",
      "Feature Extraction:  90%|█████████ | 9/10 [07:02<00:51, 51.13s/it]\u001b[A\n",
      "Feature Extraction: 100%|██████████| 10/10 [07:03<00:00, 42.30s/it]\u001b[A\n",
      " 63%|██████▎   | 12/19 [1:41:16<1:01:33, 527.67s/it]\n",
      "Feature Extraction:   0%|          | 0/10 [00:00<?, ?it/s]\u001b[A\n",
      "Feature Extraction:  10%|█         | 1/10 [01:22<12:23, 82.60s/it]\u001b[A\n",
      "Feature Extraction:  20%|██        | 2/10 [01:23<07:45, 58.21s/it]\u001b[A\n",
      "Feature Extraction:  30%|███       | 3/10 [02:43<07:32, 64.67s/it]\u001b[A\n",
      "Feature Extraction:  40%|████      | 4/10 [02:46<04:35, 45.97s/it]\u001b[A\n",
      "Feature Extraction:  50%|█████     | 5/10 [04:05<04:39, 55.91s/it]\u001b[A\n",
      "Feature Extraction:  60%|██████    | 6/10 [04:06<02:38, 39.59s/it]\u001b[A\n",
      "Feature Extraction:  70%|███████   | 7/10 [05:25<02:33, 51.23s/it]\u001b[A\n",
      "Feature Extraction:  80%|████████  | 8/10 [05:26<01:12, 36.34s/it]\u001b[A\n",
      "Feature Extraction:  90%|█████████ | 9/10 [06:48<00:49, 49.91s/it]\u001b[A\n",
      "Feature Extraction: 100%|██████████| 10/10 [06:48<00:00, 40.90s/it]\u001b[A\n",
      " 68%|██████▊   | 13/19 [1:49:09<51:06, 511.14s/it]  \n",
      "Feature Extraction:   0%|          | 0/10 [00:00<?, ?it/s]\u001b[A\n",
      "Feature Extraction:  10%|█         | 1/10 [01:03<09:33, 63.68s/it]\u001b[A\n",
      "Feature Extraction:  20%|██        | 2/10 [01:04<05:59, 44.90s/it]\u001b[A\n",
      "Feature Extraction:  30%|███       | 3/10 [02:06<05:50, 50.04s/it]\u001b[A\n",
      "Feature Extraction:  40%|████      | 4/10 [02:08<03:33, 35.58s/it]\u001b[A\n",
      "Feature Extraction:  50%|█████     | 5/10 [03:11<03:38, 43.60s/it]\u001b[A\n",
      "Feature Extraction:  60%|██████    | 6/10 [03:12<02:03, 30.87s/it]\u001b[A\n",
      "Feature Extraction:  70%|███████   | 7/10 [04:14<02:00, 40.31s/it]\u001b[A\n",
      "Feature Extraction:  80%|████████  | 8/10 [04:15<00:57, 28.65s/it]\u001b[A\n",
      "Feature Extraction:  90%|█████████ | 9/10 [05:17<00:38, 38.68s/it]\u001b[A\n",
      "Feature Extraction: 100%|██████████| 10/10 [05:18<00:00, 31.88s/it]\u001b[A\n",
      " 74%|███████▎  | 14/19 [1:55:17<39:00, 468.16s/it]\n",
      "Feature Extraction:   0%|          | 0/10 [00:00<?, ?it/s]\u001b[A\n",
      "Feature Extraction:  10%|█         | 1/10 [01:03<09:33, 63.69s/it]\u001b[A\n",
      "Feature Extraction:  20%|██        | 2/10 [01:04<05:59, 44.91s/it]\u001b[A\n",
      "Feature Extraction:  30%|███       | 3/10 [02:07<05:51, 50.21s/it]\u001b[A\n",
      "Feature Extraction:  40%|████      | 4/10 [02:09<03:33, 35.63s/it]\u001b[A\n",
      "Feature Extraction:  50%|█████     | 5/10 [03:11<03:38, 43.64s/it]\u001b[A\n",
      "Feature Extraction:  60%|██████    | 6/10 [03:12<02:03, 30.89s/it]\u001b[A\n",
      "Feature Extraction:  70%|███████   | 7/10 [04:14<02:00, 40.29s/it]\u001b[A\n",
      "Feature Extraction:  80%|████████  | 8/10 [04:15<00:57, 28.57s/it]\u001b[A\n",
      "Feature Extraction:  90%|█████████ | 9/10 [05:18<00:38, 38.70s/it]\u001b[A\n",
      "Feature Extraction: 100%|██████████| 10/10 [05:18<00:00, 31.89s/it]\u001b[A\n",
      " 79%|███████▉  | 15/19 [2:01:24<29:11, 437.90s/it]\n",
      "Feature Extraction:   0%|          | 0/10 [00:00<?, ?it/s]\u001b[A\n",
      "Feature Extraction:  10%|█         | 1/10 [01:03<09:33, 63.68s/it]\u001b[A\n",
      "Feature Extraction:  20%|██        | 2/10 [01:04<05:59, 44.89s/it]\u001b[A\n",
      "Feature Extraction:  30%|███       | 3/10 [02:07<05:50, 50.13s/it]\u001b[A\n",
      "Feature Extraction:  40%|████      | 4/10 [02:08<03:33, 35.58s/it]\u001b[A\n",
      "Feature Extraction:  50%|█████     | 5/10 [03:11<03:38, 43.60s/it]\u001b[A\n",
      "Feature Extraction:  60%|██████    | 6/10 [03:12<02:03, 30.87s/it]\u001b[A\n",
      "Feature Extraction:  70%|███████   | 7/10 [04:14<02:00, 40.29s/it]\u001b[A\n",
      "Feature Extraction:  80%|████████  | 8/10 [04:15<00:57, 28.61s/it]\u001b[A\n",
      "Feature Extraction:  90%|█████████ | 9/10 [05:18<00:38, 38.69s/it]\u001b[A\n",
      "Feature Extraction: 100%|██████████| 10/10 [05:18<00:00, 31.88s/it]\u001b[A\n",
      " 84%|████████▍ | 16/19 [2:07:31<20:50, 416.75s/it]\n",
      "Feature Extraction:   0%|          | 0/10 [00:00<?, ?it/s]\u001b[A\n",
      "Feature Extraction:  10%|█         | 1/10 [01:03<09:31, 63.52s/it]\u001b[A\n",
      "Feature Extraction:  20%|██        | 2/10 [01:04<05:58, 44.80s/it]\u001b[A\n",
      "Feature Extraction:  30%|███       | 3/10 [02:06<05:50, 50.01s/it]\u001b[A\n",
      "Feature Extraction:  40%|████      | 4/10 [02:08<03:33, 35.53s/it]\u001b[A\n",
      "Feature Extraction:  50%|█████     | 5/10 [03:11<03:38, 43.64s/it]\u001b[A\n",
      "Feature Extraction:  60%|██████    | 6/10 [03:12<02:03, 30.90s/it]\u001b[A\n",
      "Feature Extraction:  70%|███████   | 7/10 [04:14<02:01, 40.34s/it]\u001b[A\n",
      "Feature Extraction:  80%|████████  | 8/10 [04:16<00:57, 28.66s/it]\u001b[A\n",
      "Feature Extraction:  90%|█████████ | 9/10 [05:18<00:38, 38.72s/it]\u001b[A\n",
      "Feature Extraction: 100%|██████████| 10/10 [05:19<00:00, 31.90s/it]\u001b[A\n",
      " 89%|████████▉ | 17/19 [2:13:39<13:23, 401.98s/it]\n",
      "Feature Extraction:   0%|          | 0/10 [00:00<?, ?it/s]\u001b[A\n",
      "Feature Extraction:  10%|█         | 1/10 [01:04<09:43, 64.85s/it]\u001b[A\n",
      "Feature Extraction:  20%|██        | 2/10 [01:05<06:05, 45.72s/it]\u001b[A\n",
      "Feature Extraction:  30%|███       | 3/10 [02:07<05:54, 50.60s/it]\u001b[A\n",
      "Feature Extraction:  40%|████      | 4/10 [02:09<03:35, 35.91s/it]\u001b[A\n",
      "Feature Extraction:  50%|█████     | 5/10 [03:12<03:39, 43.87s/it]\u001b[A\n",
      "Feature Extraction:  60%|██████    | 6/10 [03:13<02:04, 31.07s/it]\u001b[A\n",
      "Feature Extraction:  70%|███████   | 7/10 [04:15<02:01, 40.53s/it]\u001b[A\n",
      "Feature Extraction:  80%|████████  | 8/10 [04:17<00:57, 28.82s/it]\u001b[A\n",
      "Feature Extraction:  90%|█████████ | 9/10 [05:19<00:38, 38.87s/it]\u001b[A\n",
      "Feature Extraction: 100%|██████████| 10/10 [05:20<00:00, 32.04s/it]\u001b[A\n",
      " 95%|█████████▍| 18/19 [2:19:48<06:32, 392.19s/it]\n",
      "Feature Extraction:   0%|          | 0/10 [00:00<?, ?it/s]\u001b[A\n",
      "Feature Extraction:  10%|█         | 1/10 [01:03<09:35, 63.91s/it]\u001b[A\n",
      "Feature Extraction:  20%|██        | 2/10 [01:05<06:00, 45.07s/it]\u001b[A\n",
      "Feature Extraction:  30%|███       | 3/10 [02:08<05:53, 50.45s/it]\u001b[A\n",
      "Feature Extraction:  40%|████      | 4/10 [02:09<03:35, 35.83s/it]\u001b[A\n",
      "Feature Extraction:  50%|█████     | 5/10 [03:12<03:39, 43.87s/it]\u001b[A\n",
      "Feature Extraction:  60%|██████    | 6/10 [03:13<02:04, 31.08s/it]\u001b[A\n",
      "Feature Extraction:  70%|███████   | 7/10 [04:17<02:02, 40.77s/it]\u001b[A\n",
      "Feature Extraction:  80%|████████  | 8/10 [04:18<00:57, 28.92s/it]\u001b[A\n",
      "Feature Extraction:  90%|█████████ | 9/10 [05:21<00:39, 39.24s/it]\u001b[A\n",
      "Feature Extraction: 100%|██████████| 10/10 [05:22<00:00, 32.23s/it]\u001b[A\n",
      "100%|██████████| 19/19 [2:26:00<00:00, 461.05s/it]\n"
     ]
    }
   ],
   "source": [
    "##### COMPUTING TARGETS AND FEATURES\n",
    "\n",
    "# parameters\n",
    "days_input  = [1, 7, 14, 21, 28, 35]\n",
    "days_target = 14\n",
    "\n",
    "# preparations\n",
    "day_first = np.max(days_input)\n",
    "day_last  = agg_orders['day_of_year'].max() - days_target + 1\n",
    "orders    = None\n",
    "\n",
    "# merge manufacturer and category\n",
    "agg_orders = agg_orders.merge(items[['itemID', 'manufacturer']], how = 'left')\n",
    "agg_orders = agg_orders.merge(items[['itemID', 'category']],     how = 'left')\n",
    "\n",
    "\n",
    "# computations\n",
    "for day_of_year in tqdm(list(range(149, day_last)) + [agg_orders['day_of_year'].max()]):\n",
    "                \n",
    "\n",
    "    ###### VALIDAION: TARGET, PROMOTIONS, PRICES\n",
    "        \n",
    "    # day intervals\n",
    "    target_day_min = day_of_year + 1\n",
    "    target_day_max = day_of_year + days_target\n",
    "    \n",
    "    # compute target and promo: labeled data\n",
    "    if day_of_year < agg_orders['day_of_year'].max():\n",
    "        \n",
    "        # target and future promo\n",
    "        tmp_df = agg_orders[(agg_orders['day_of_year'] >= target_day_min) &\n",
    "                            (agg_orders['day_of_year'] <= target_day_max)\n",
    "                           ].groupby('itemID')['order', 'promotion'].agg('sum').reset_index()\n",
    "        tmp_df.columns = ['itemID', 'target', 'promo_in_test']\n",
    "        \n",
    "        # future price\n",
    "        tmp_df['mean_price_test'] = agg_orders[(agg_orders['day_of_year'] >= target_day_min) &\n",
    "                                               (agg_orders['day_of_year'] <= target_day_max)\n",
    "                                              ].groupby('itemID')['salesPrice'].agg('mean').reset_index()['salesPrice']\n",
    "        \n",
    "        # merge manufacturer and category\n",
    "        tmp_df = tmp_df.merge(items[['itemID', 'manufacturer', 'category']], how = 'left', on = 'itemID')\n",
    "        \n",
    "        # future price per manufacturer\n",
    "        tmp_df_manufacturer = agg_orders[(agg_orders['day_of_year'] >= target_day_min) &\n",
    "                                         (agg_orders['day_of_year'] <= target_day_max)\n",
    "                                         ].groupby('manufacturer')['salesPrice'].agg('mean').reset_index()\n",
    "        tmp_df_manufacturer.columns = ['manufacturer', 'mean_price_test_manufacturer']\n",
    "        tmp_df = tmp_df.merge(tmp_df_manufacturer, how = 'left', on = 'manufacturer')\n",
    "        \n",
    "        # future price per category\n",
    "        tmp_df_category = agg_orders[(agg_orders['day_of_year'] >= target_day_min) &\n",
    "                                     (agg_orders['day_of_year'] <= target_day_max)\n",
    "                                     ].groupby('category')['salesPrice'].agg('mean').reset_index()\n",
    "        tmp_df_category.columns = ['category', 'mean_price_test_category']\n",
    "        tmp_df = tmp_df.merge(tmp_df_category, how = 'left', on = 'category')\n",
    "        \n",
    "        # future promo per manufacturer\n",
    "        tmp_df_manufacturer = agg_orders[(agg_orders['day_of_year'] >= target_day_min) &\n",
    "                                         (agg_orders['day_of_year'] <= target_day_max)\n",
    "                                         ].groupby('manufacturer')['promotion'].agg('sum').reset_index()\n",
    "        tmp_df_manufacturer.columns = ['manufacturer', 'promo_in_test_manufacturer']\n",
    "        tmp_df = tmp_df.merge(tmp_df_manufacturer, how = 'left', on = 'manufacturer')\n",
    "\n",
    "        # future promo per category\n",
    "        tmp_df_category = agg_orders[(agg_orders['day_of_year'] >= target_day_min) &\n",
    "                                     (agg_orders['day_of_year'] <= target_day_max)\n",
    "                                     ].groupby('category')['promotion'].agg('sum').reset_index()\n",
    "        tmp_df_category.columns = ['category', 'promo_in_test_category']\n",
    "        tmp_df = tmp_df.merge(tmp_df_category, how = 'left', on = 'category')\n",
    "                       \n",
    "        \n",
    "    # compute target and promo: unlabeled data\n",
    "    else:\n",
    "        \n",
    "        # placeholders\n",
    "        tmp_df = pd.DataFrame({'itemID':                     items.itemID,\n",
    "                               'target':                     np.nan,\n",
    "                               'promo_in_test':              np.nan,\n",
    "                               'mean_price_test':            items.simulationPrice,\n",
    "                               'manufacturer':               items.manufacturer,\n",
    "                               'category':                   items.category,\n",
    "                               'promo_in_test_manufacturer': np.nan,\n",
    "                               'promo_in_test_category':     np.nan})\n",
    "\n",
    "        \n",
    "    ###### TRAINING: LAG-BASED FEATURES\n",
    "            \n",
    "    # compute features\n",
    "    for day_input in days_input:\n",
    "        \n",
    "        # day intervals\n",
    "        input_day_min  = day_of_year - day_input + 1\n",
    "        input_day_max  = day_of_year\n",
    "    \n",
    "        # frequency, promo and price\n",
    "        tmp_df_input = agg_orders[(agg_orders['day_of_year'] >= input_day_min) &\n",
    "                                  (agg_orders['day_of_year'] <= input_day_max)\n",
    "                                 ].groupby('itemID')\n",
    "        tmp_df['order_sum_last_'   + str(day_input)] = tmp_df_input['order'].agg('sum').reset_index()['order']\n",
    "        tmp_df['order_count_last_' + str(day_input)] = tmp_df_input['order'].agg(lambda x: len(x[x > 0])).reset_index()['order']\n",
    "        tmp_df['promo_count_last_' + str(day_input)] = tmp_df_input['promotion'].agg('sum').reset_index()['promotion']\n",
    "        tmp_df['mean_price_last_'  + str(day_input)] = tmp_df_input['salesPrice'].agg('mean').reset_index()['salesPrice']\n",
    "\n",
    "        # frequency, promo per manufacturer\n",
    "        tmp_df_input = agg_orders[(agg_orders['day_of_year'] >= input_day_min) &\n",
    "                                  (agg_orders['day_of_year'] <= input_day_max)\n",
    "                                 ].groupby('manufacturer')\n",
    "        tmp_df_manufacturer = tmp_df_input['order'].agg('sum').reset_index()\n",
    "        tmp_df_manufacturer.columns = ['manufacturer', 'order_manufacturer_sum_last_' + str(day_input)]\n",
    "        tmp_df_manufacturer['order_manufacturer_count_last_' + str(day_input)] = tmp_df_input['order'].agg(lambda x: len(x[x > 0])).reset_index()['order']\n",
    "        tmp_df_manufacturer['promo_manufacturer_count_last_' + str(day_input)] = tmp_df_input['promotion'].agg('sum').reset_index()['promotion']\n",
    "        tmp_df = tmp_df.merge(tmp_df_manufacturer, how = 'left', on = 'manufacturer')\n",
    "    \n",
    "        # frequency, promo per category\n",
    "        tmp_df_input = agg_orders[(agg_orders['day_of_year'] >= input_day_min) &\n",
    "                                  (agg_orders['day_of_year'] <= input_day_max)\n",
    "                                 ].groupby('category')\n",
    "        tmp_df_category = tmp_df_input['order'].agg('sum').reset_index()\n",
    "        tmp_df_category.columns = ['category', 'order_category_sum_last_' + str(day_input)]       \n",
    "        tmp_df_category['order_category_count_last_' + str(day_input)] = tmp_df_input['order'].agg(lambda x: len(x[x > 0])).reset_index()['order']\n",
    "        tmp_df_category['promo_category_count_last_' + str(day_input)] = tmp_df_input['promotion'].agg('sum').reset_index()['promotion']\n",
    "        tmp_df = tmp_df.merge(tmp_df_category, how = 'left', on = 'category')\n",
    "\n",
    "        # frequency, promo per all items\n",
    "        tmp_df_input = agg_orders[(agg_orders['day_of_year'] >= input_day_min) &\n",
    "                                  (agg_orders['day_of_year'] <= input_day_max)]\n",
    "        tmp_df['order_all_sum_last_'   + str(day_input)] = tmp_df_input['order'].agg('sum')\n",
    "        tmp_df['order_all_count_last_' + str(day_input)] = tmp_df_input['order'].agg(lambda x: len(x[x > 0]))\n",
    "        tmp_df['promo_all_count_last_' + str(day_input)] = tmp_df_input['promotion'].agg('sum')\n",
    "        \n",
    "        # recency\n",
    "        if day_input == max(days_input):\n",
    "            tmp_df_input = agg_orders[(agg_orders['day_of_year'] >= input_day_min) &\n",
    "                                      (agg_orders['day_of_year'] <= input_day_max) &\n",
    "                                      (agg_orders['order'] > 0)\n",
    "                                     ].groupby('itemID')\n",
    "            tmp_df['days_since_last_order'] = (day_of_year - tmp_df_input['day_of_year'].agg('max')).reindex(tmp_df.itemID).reset_index()['day_of_year']\n",
    "            tmp_df['days_since_last_order'].fillna(day_input, inplace = True)\n",
    "            \n",
    "            \n",
    "        # tsfresh features\n",
    "        if day_input == max(days_input):\n",
    "            tmp_df_input = agg_orders[(agg_orders['day_of_year'] >= input_day_min) &\n",
    "                                      (agg_orders['day_of_year'] <= input_day_max)]\n",
    "            tmp_df_input = tmp_df_input[['day_of_year', 'itemID', 'order']]\n",
    "            extracted_features = extract_features(tmp_df_input, column_id = 'itemID', column_sort = 'day_of_year')\n",
    "            extracted_features['itemID'] = extracted_features.index\n",
    "            tmp_df = tmp_df.merge(extracted_features, how = 'left', on = 'itemID')\n",
    "            \n",
    "            \n",
    "    ###### FINAL PREPARATIONS\n",
    "            \n",
    "    # add day of year\n",
    "    tmp_df.insert(1, column = 'day_of_year', value = day_of_year)\n",
    "        \n",
    "    # merge data\n",
    "    orders = pd.concat([orders, tmp_df], axis = 0)\n",
    "    \n",
    "    # drop manufacturer and category\n",
    "    del orders['manufacturer']\n",
    "    del orders['category']"
   ]
  },
  {
   "cell_type": "code",
   "execution_count": 30,
   "metadata": {},
   "outputs": [
    {
     "data": {
      "text/plain": [
       "(1391579, 458)"
      ]
     },
     "execution_count": 30,
     "metadata": {},
     "output_type": "execute_result"
    }
   ],
   "source": [
    "##### REMOVE MISSINGS\n",
    "\n",
    "good_nas = ['target', \n",
    "            'mean_price_test_category', 'mean_price_test_manufacturer',\n",
    "            'promo_in_test', 'promo_in_test_category', 'promo_in_test_manufacturer']\n",
    "nonas = list(orders.columns[orders.isnull().sum() == 0]) + good_nas\n",
    "orders = orders[nonas]\n",
    "print(orders.shape)"
   ]
  },
  {
   "cell_type": "code",
   "execution_count": 31,
   "metadata": {},
   "outputs": [
    {
     "name": "stdout",
     "output_type": "stream",
     "text": [
      "(1391579, 458)\n",
      "(1391579, 470)\n"
     ]
    }
   ],
   "source": [
    "##### COMPUTE MEAN PRICE RATIOS\n",
    "\n",
    "print(orders.shape)\n",
    "price_vars = ['mean_price_last_1', 'mean_price_last_7', 'mean_price_last_14', \n",
    "              'mean_price_last_21', 'mean_price_last_28', 'mean_price_last_35']\n",
    "for var in price_vars:\n",
    "    orders['ratio_'              + str(var)] = orders['mean_price_test']              / orders[var]\n",
    "    orders['ratio_manufacturer_' + str(var)] = orders['mean_price_test_manufacturer'] / orders[var]\n",
    "    orders['ratio_category_'     + str(var)] = orders['mean_price_test_category']     / orders[var]\n",
    "print(orders.shape)"
   ]
  },
  {
   "cell_type": "code",
   "execution_count": 32,
   "metadata": {},
   "outputs": [
    {
     "data": {
      "text/plain": [
       "Text(0.5, 0, 'Day')"
      ]
     },
     "execution_count": 32,
     "metadata": {},
     "output_type": "execute_result"
    },
    {
     "data": {
      "image/png": "[encoded data removed]",
      "text/plain": [
       "<Figure size 720x360 with 1 Axes>"
      ]
     },
     "metadata": {
      "needs_background": "dark"
     },
     "output_type": "display_data"
    }
   ],
   "source": [
    "# example sales plot\n",
    "df = orders[orders.itemID == 1]\n",
    "plt.figure(figsize = (10, 5))\n",
    "plt.scatter(df['day_of_year'], df['target'], c = df['promo_in_test'])\n",
    "plt.title('itemID == 1')\n",
    "plt.ylabel('Target (orders in next 14 days)')\n",
    "plt.xlabel('Day')"
   ]
  },
  {
   "cell_type": "markdown",
   "metadata": {},
   "source": [
    "# MERGE DATA SETS"
   ]
  },
  {
   "cell_type": "code",
   "execution_count": 38,
   "metadata": {},
   "outputs": [
    {
     "name": "stdout",
     "output_type": "stream",
     "text": [
      "(1391579, 470)\n",
      "(10463, 16)\n",
      "(1391579, 485)\n"
     ]
    }
   ],
   "source": [
    "print(orders.shape)\n",
    "print(items.shape)\n",
    "df = pd.merge(orders, items, on = 'itemID', how = 'left')\n",
    "print(df.shape)"
   ]
  },
  {
   "cell_type": "markdown",
   "metadata": {},
   "source": [
    "# EXTRACT TEST DATA"
   ]
  },
  {
   "cell_type": "code",
   "execution_count": 39,
   "metadata": {},
   "outputs": [
    {
     "name": "stdout",
     "output_type": "stream",
     "text": [
      "(1381116, 485)\n",
      "(10463, 485)\n"
     ]
    }
   ],
   "source": [
    "# partition intro train and test\n",
    "df_train = df[df['day_of_year'] <  df['day_of_year'].max()]\n",
    "df_test  = df[df['day_of_year'] == df['day_of_year'].max()]\n",
    "print(df_train.shape)\n",
    "print(df_test.shape)"
   ]
  },
  {
   "cell_type": "code",
   "execution_count": 40,
   "metadata": {},
   "outputs": [
    {
     "name": "stdout",
     "output_type": "stream",
     "text": [
      "(10463, 484)\n",
      "(10463, 485)\n",
      "(10463, 484)\n",
      "(10463, 485)\n",
      "(10463, 485)\n"
     ]
    }
   ],
   "source": [
    "########## COMPUTE FEATURES FOR TEST DATA\n",
    "\n",
    "# add promotion info to test\n",
    "promo_vars = df_test.filter(like = 'promotion_').columns\n",
    "df_test['promo_in_test'] = 3 - df_test[promo_vars].isnull().sum(axis = 1)\n",
    "df_test['promo_in_test'].describe()\n",
    "\n",
    "\n",
    "### PROMO PER MANUFACTURER, CATEGORY\n",
    "\n",
    "del df_test['promo_in_test_manufacturer'], df_test['promo_in_test_category']\n",
    "\n",
    "# future promo per manufacturer\n",
    "tmp_df_manufacturer = df_test.groupby('manufacturer')['promo_in_test'].agg('sum').reset_index()\n",
    "tmp_df_manufacturer.columns = ['manufacturer', 'promo_in_test_manufacturer']\n",
    "df_test = df_test.merge(tmp_df_manufacturer, how = 'left', on = 'manufacturer')\n",
    "print(df_test.shape)\n",
    "\n",
    "# future promo per category\n",
    "tmp_df_category = df_test.groupby('category')['promo_in_test'].agg('sum').reset_index()\n",
    "tmp_df_category.columns = ['category', 'promo_in_test_category']\n",
    "df_test = df_test.merge(tmp_df_category, how = 'left', on = 'category')\n",
    "print(df_test.shape)\n",
    "\n",
    "\n",
    "### PRICE PER MANUFACTURER, CATEGORY\n",
    "\n",
    "del df_test['mean_price_test_manufacturer'], df_test['mean_price_test_category']\n",
    "\n",
    "# future price per manufacturer\n",
    "tmp_df_manufacturer = df_test.groupby('manufacturer')['mean_price_test'].agg('mean').reset_index()\n",
    "tmp_df_manufacturer.columns = ['manufacturer', 'mean_price_test_manufacturer']\n",
    "df_test = df_test.merge(tmp_df_manufacturer, how = 'left', on = 'manufacturer')\n",
    "print(df_test.shape)\n",
    "\n",
    "# future price per category\n",
    "tmp_df_category = df_test.groupby('category')['mean_price_test'].agg('mean').reset_index()\n",
    "tmp_df_category.columns = ['category', 'mean_price_test_category']\n",
    "df_test = df_test.merge(tmp_df_category, how = 'left', on = 'category')\n",
    "print(df_test.shape)\n",
    "\n",
    "\n",
    "### MEAN PRICE RATIOS\n",
    "\n",
    "for var in price_vars:\n",
    "    df_test['ratio_'              + str(var)] = df_test['mean_price_test']              / df_test[var]\n",
    "    df_test['ratio_manufacturer_' + str(var)] = df_test['mean_price_test_manufacturer'] / df_test[var]\n",
    "    df_test['ratio_category_'     + str(var)] = df_test['mean_price_test_category']     / df_test[var]\n",
    "print(df_test.shape)"
   ]
  },
  {
   "cell_type": "code",
   "execution_count": 41,
   "metadata": {},
   "outputs": [
    {
     "name": "stdout",
     "output_type": "stream",
     "text": [
      "(1381116, 482)\n",
      "(10463, 482)\n",
      "(1381116, 476)\n",
      "(10463, 476)\n"
     ]
    }
   ],
   "source": [
    "# drop promotion dates\n",
    "df_test.drop(promo_vars,  axis = 1, inplace = True)\n",
    "df_train.drop(promo_vars, axis = 1, inplace = True)\n",
    "print(df_train.shape)\n",
    "print(df_test.shape)\n",
    "\n",
    "# drop mean prices\n",
    "price_vars = price_vars + ['mean_price_test_manufacturer', 'mean_price_test_category']\n",
    "df_test.drop(price_vars,  axis = 1, inplace = True)\n",
    "df_train.drop(price_vars, axis = 1, inplace = True)\n",
    "print(df_train.shape)\n",
    "print(df_test.shape)"
   ]
  },
  {
   "cell_type": "markdown",
   "metadata": {},
   "source": [
    "# EXPORT"
   ]
  },
  {
   "cell_type": "code",
   "execution_count": 42,
   "metadata": {},
   "outputs": [],
   "source": [
    "##### LOGS\n",
    "\n",
    "# data (shape): descriprion\n",
    "#\n",
    "# df_v1  (1357920, 23): first aggregated df version with 4x2 lagged frequency-based features [7,14,21,28 days]\n",
    "# df_v2  (1357920, 24): added promo_in_test feature using 0.9 percentile of item-specific demand\n",
    "# df_v3  (1433431, 21): added rows with missing itemIDs for items that were never sold during training period;\n",
    "#                      added test sample with NA target and promo_in_test feature\n",
    "#                      removed promotion_i features info from training data\n",
    "# df_v4  (1433431, 26): added promo_count features; added days_since_last_order with NA set to time horizon\n",
    "# df_v5  (1433431, 34): added all_promo_count and all_order_count features for aggregated stats on all items\n",
    "# df_v6  (1433431, 34): changed technique to identify promotions using find_peaks()\n",
    "# df_v7  (1433431, 38): changed names of \"order_all_...\" features, added sum of all orders\n",
    "# df_v8  (1433431, 50): added frequency and promo features per manufacturer\n",
    "# df_v9  (1433431, 54): added mean_price ratio features\n",
    "# df_v10 (1433431, 64): added all lag features for yesterday (day = 1)\n",
    "# df_v11 (1443894, 80): multiple changes in feature computation:\n",
    "#                        - fixed bug: test data is now correctly based on day 180 (was on 165 in previous versions)\n",
    "#                                     train data includes additional data previously assigned to test\n",
    "#                        - fixed bug: manufacturer-level features are now merged correctly to the DF\n",
    "#                        - added category-level features (category is combined of c1, c2 and c3)\n",
    "#                        - removed early lag features: days = [7,14,21,28]\n",
    "#                        - new item-level features: customer rating ratio per average per manufacture and category\n",
    "#                        - new price-based feature: ratio between the mean price in test and mean price in the past\n",
    "# df_v12 (1454357, 80): added one day (166) back to the data\n",
    "# df_v13 (1454357, 106): added lags 1 and 35\n",
    "# df_v14 (1381116, 476): added tsfresh features for 35-day order vectors"
   ]
  },
  {
   "cell_type": "code",
   "execution_count": 43,
   "metadata": {},
   "outputs": [
    {
     "name": "stdout",
     "output_type": "stream",
     "text": [
      "Saved as ../data/prepared/df_v14.csv\n",
      "Saved as ../data/prepared/df_test_v14.csv\n",
      "(1381116, 476)\n",
      "(10463, 476)\n"
     ]
    }
   ],
   "source": [
    "# save data frame\n",
    "# save_csv_version() automatically adds version number to prevent overwriting\n",
    "save_csv_version('../data/prepared/df.csv',      df_train, index = False, compression = 'gzip')\n",
    "save_csv_version('../data/prepared/df_test.csv', df_test,  index = False, compression = 'gzip', min_version = 3)\n",
    "print(df_train.shape)\n",
    "print(df_test.shape)"
   ]
  }
 ],
 "metadata": {
  "kernelspec": {
   "display_name": "Python 3",
   "language": "python",
   "name": "python3"
  },
  "language_info": {
   "codemirror_mode": {
    "name": "ipython",
    "version": 3
   },
   "file_extension": ".py",
   "mimetype": "text/x-python",
   "name": "python",
   "nbconvert_exporter": "python",
   "pygments_lexer": "ipython3",
   "version": "3.7.4"
  }
 },
 "nbformat": 4,
 "nbformat_minor": 4
}
