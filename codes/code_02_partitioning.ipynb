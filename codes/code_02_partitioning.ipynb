{
 "cells": [
  {
   "cell_type": "markdown",
   "metadata": {},
   "source": [
    "# SETTINGS"
   ]
  },
  {
   "cell_type": "code",
   "execution_count": null,
   "metadata": {},
   "outputs": [],
   "source": [
    "########## LIBRARIES\n",
    "\n",
    "import numpy as np\n",
    "import pandas as pd\n",
    "\n",
    "import matplotlib.pyplot as plt\n",
    "import seaborn as sns\n",
    "\n",
    "import scipy.stats\n",
    "\n",
    "import os\n",
    "import time\n",
    "import datetime\n",
    "import random\n",
    "import multiprocessing\n",
    "import pickle\n",
    "import warnings\n",
    "import gc"
   ]
  },
  {
   "cell_type": "code",
   "execution_count": null,
   "metadata": {},
   "outputs": [],
   "source": [
    "########## SETTINGS\n",
    "\n",
    "warnings.filterwarnings('ignore')\n",
    "pd.set_option('display.max_columns', None)\n",
    "plt.style.use('dark_background')\n",
    "%matplotlib inline\n",
    "gc.enable()"
   ]
  },
  {
   "cell_type": "markdown",
   "metadata": {},
   "source": [
    "# DATA IMPORT"
   ]
  },
  {
   "cell_type": "code",
   "execution_count": null,
   "metadata": {},
   "outputs": [],
   "source": [
    "# read data\n",
    "items  = pd.read_csv('../data/prepared/items_v1.csv')\n",
    "orders = pd.read_csv('../data/prepared/orders_v1.csv')\n",
    "print(items.shape)\n",
    "print(orders.shape)"
   ]
  },
  {
   "cell_type": "code",
   "execution_count": null,
   "metadata": {},
   "outputs": [],
   "source": [
    "items.head()"
   ]
  },
  {
   "cell_type": "code",
   "execution_count": null,
   "metadata": {},
   "outputs": [],
   "source": [
    "orders.head()"
   ]
  },
  {
   "cell_type": "code",
   "execution_count": null,
   "metadata": {},
   "outputs": [],
   "source": [
    "# convert dates\n",
    "items['time']  = pd.to_datetime(items['promotion_0'].astype('str'), infer_datetime_format = True)\n",
    "items['time']  = pd.to_datetime(items['promotion_1'].astype('str'), infer_datetime_format = True)\n",
    "items['time']  = pd.to_datetime(items['promotion_2'].astype('str'), infer_datetime_format = True)\n",
    "orders['time'] = pd.to_datetime(orders['time'].astype('str'),       infer_datetime_format = True)"
   ]
  },
  {
   "cell_type": "markdown",
   "metadata": {},
   "source": [
    "# PARTITIONING"
   ]
  },
  {
   "cell_type": "code",
   "execution_count": null,
   "metadata": {},
   "outputs": [],
   "source": [
    "# check date interval\n",
    "print(orders.time.min())\n",
    "print(orders.time.max())\n",
    "print('Time interval of {} days'.format((orders.time.max() - orders.time.min()).days))"
   ]
  },
  {
   "cell_type": "code",
   "execution_count": null,
   "metadata": {},
   "outputs": [],
   "source": [
    "##### SETUP PARTITIONING INDEX\n",
    "\n",
    "# set windows\n",
    "valid_days = 14  # no. days in each validation fold\n",
    "train_days = 66  # no. days in each training fold\n",
    "step_days  = 7   # no. days between folds i and i+1 \n",
    "\n",
    "# number of folds\n",
    "num_folds = 15\n",
    "\n",
    "# placeholders\n",
    "train_idx = []\n",
    "valid_idx = []\n",
    "\n",
    "# partitioning loop\n",
    "for fold in range(num_folds):\n",
    "\n",
    "    # validation dates\n",
    "    if fold == 0:\n",
    "        v_end  = orders['time'].max() - pd.DateOffset(days = valid_days - 1) * fold\n",
    "    else:\n",
    "        v_end = v_end - pd.DateOffset(days = step_days)\n",
    "    v_start = v_end - pd.DateOffset(days = valid_days - 1)\n",
    "\n",
    "    # training dates\n",
    "    t_end   = v_start - pd.DateOffset(days = 1)\n",
    "    t_start = t_end - pd.DateOffset(days = train_days - 1)\n",
    "    \n",
    "    # extract index\n",
    "    train_idx.append(list(orders[(orders.time >= t_start) & (orders.time <= t_end)].index))\n",
    "    valid_idx.append(list(orders[(orders.time >= v_start) & (orders.time <= v_end)].index))\n",
    "    \n",
    "    # save as array\n",
    "    \n",
    "    # print information\n",
    "    print('-' * 55)\n",
    "    print('FOLD {}/{}'.format(fold + 1, num_folds))\n",
    "    print('-' * 55)\n",
    "    print('- train period: {} -- {} (n = {})'.format(str(t_start)[0:10], str(t_end)[0:10], len(train_idx[fold])))\n",
    "    print('- valid period: {} -- {} (n = {})'.format(str(v_start)[0:10], str(v_end)[0:10], len(valid_idx[fold])))\n",
    "    print('-' * 55)\n",
    "    print('')"
   ]
  },
  {
   "cell_type": "code",
   "execution_count": null,
   "metadata": {},
   "outputs": [],
   "source": [
    "# convert to numpy array\n",
    "train_idx = np.asarray(train_idx)\n",
    "valid_idx = np.asarray(valid_idx)\n",
    "part_idx = np.vstack((train_idx, valid_idx))"
   ]
  },
  {
   "cell_type": "code",
   "execution_count": null,
   "metadata": {},
   "outputs": [],
   "source": [
    "# export partitioning index\n",
    "np.save('../data/partitioning/part_idx_f{}_t{}_s{}'.format(num_folds, train_days, step_days), part_idx)\n",
    "print(part_idx.shape)"
   ]
  }
 ],
 "metadata": {
  "kernelspec": {
   "display_name": "Python 3",
   "language": "python",
   "name": "python3"
  },
  "language_info": {
   "codemirror_mode": {
    "name": "ipython",
    "version": 3
   },
   "file_extension": ".py",
   "mimetype": "text/x-python",
   "name": "python",
   "nbconvert_exporter": "python",
   "pygments_lexer": "ipython3",
   "version": "3.7.4"
  }
 },
 "nbformat": 4,
 "nbformat_minor": 4
}
