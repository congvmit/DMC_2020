{
  "cells": [
    {
      "cell_type": "markdown",
      "metadata": {
        "id": "FWXjy-ZkUwZs"
      },
      "source": [
        "# SETTINGS\n",
        "\n",
        "This notebook performs initial data processing:\n",
        "- importing the raw data\n",
        "- converting feature types\n",
        "- merging some data.frames\n",
        "- saving data as two CSV files: `orders.csv` and `items.csv`.\n",
        "\n",
        "A detailed walkthrough of the code covering the key steps is provided in [this blog post](https://kozodoi.me/python/time%20series/demand%20forecasting/competitions/2020/07/27/demand-forecasting.html)."
      ]
    },
    {
      "cell_type": "code",
      "source": [
        "from google.colab import drive\n",
        "drive.mount('/content/drive')"
      ],
      "metadata": {
        "colab": {
          "base_uri": "https://localhost:8080/"
        },
        "id": "6DJDQnb2X0Sk",
        "outputId": "220e3f03-4b44-45ef-ffe4-8a3f087847a7"
      },
      "execution_count": 31,
      "outputs": [
        {
          "output_type": "stream",
          "name": "stdout",
          "text": [
            "Mounted at /content/drive\n"
          ]
        }
      ]
    },
    {
      "cell_type": "code",
      "execution_count": 5,
      "metadata": {
        "id": "zDLfntBvUwZu"
      },
      "outputs": [],
      "source": [
        "##### LIBRARIES\n",
        "\n",
        "import numpy as np\n",
        "import pandas as pd\n",
        "\n",
        "import matplotlib.pyplot as plt\n",
        "import seaborn as sns\n",
        "\n",
        "import scipy.stats\n",
        "\n",
        "import os\n",
        "import time\n",
        "import datetime\n",
        "import random\n",
        "import multiprocessing\n",
        "import pickle\n",
        "import warnings\n",
        "import gc\n",
        "import sys"
      ]
    },
    {
      "cell_type": "code",
      "source": [],
      "metadata": {
        "id": "DwXEZerdVf0Q"
      },
      "execution_count": 5,
      "outputs": []
    },
    {
      "cell_type": "code",
      "execution_count": 6,
      "metadata": {
        "id": "pfLLC8zqUwZu"
      },
      "outputs": [],
      "source": [
        "##### MODULES\n",
        "sys.path.append('/content/drive/MyDrive/DMC_2020/source_code/codes')  \n",
        "\n",
        "from data_prep import print_factor_levels, print_missings, find_constant_features, split_nested_features\n",
        "from versioning import save_csv_version"
      ]
    },
    {
      "cell_type": "code",
      "execution_count": 7,
      "metadata": {
        "id": "Xwmq4q_iUwZv"
      },
      "outputs": [],
      "source": [
        "##### SETTINGS\n",
        "\n",
        "warnings.filterwarnings('ignore')\n",
        "pd.set_option('display.max_columns', None)\n",
        "plt.style.use('dark_background')\n",
        "%matplotlib inline\n",
        "gc.enable()"
      ]
    },
    {
      "cell_type": "markdown",
      "metadata": {
        "id": "_KIGCaF5UwZv"
      },
      "source": [
        "# DATA IMPORT"
      ]
    },
    {
      "cell_type": "code",
      "execution_count": 8,
      "metadata": {
        "colab": {
          "base_uri": "https://localhost:8080/"
        },
        "id": "wPgwIucRUwZv",
        "outputId": "d602f8b2-90c2-40ea-9fb0-e491514ec731"
      },
      "outputs": [
        {
          "output_type": "stream",
          "name": "stdout",
          "text": [
            "(10463, 3)\n",
            "(10463, 8)\n",
            "(2181955, 5)\n"
          ]
        }
      ],
      "source": [
        "##### IMPORT\n",
        "\n",
        "infos  = pd.read_csv('/content/drive/MyDrive/DMC_2020/source_code/data/raw/infos.csv',  sep = '|')\n",
        "items  = pd.read_csv('/content/drive/MyDrive/DMC_2020/source_code/data/raw/items.csv',  sep = '|')\n",
        "orders = pd.read_csv('/content/drive/MyDrive/DMC_2020/source_code/data/raw/orders.csv', sep = '|')\n",
        "\n",
        "print(infos.shape)\n",
        "print(items.shape)\n",
        "print(orders.shape)"
      ]
    },
    {
      "cell_type": "code",
      "execution_count": 9,
      "metadata": {
        "colab": {
          "base_uri": "https://localhost:8080/",
          "height": 206
        },
        "id": "Ti8quxjeUwZw",
        "outputId": "c4dd07c7-ae6d-4cfb-bb95-942677971662"
      },
      "outputs": [
        {
          "output_type": "execute_result",
          "data": {
            "text/plain": [
              "   itemID  simulationPrice promotion\n",
              "0       1             3.43       NaN\n",
              "1       2             9.15       NaN\n",
              "2       3            14.04       NaN\n",
              "3       4            14.10       NaN\n",
              "4       5             7.48       NaN"
            ],
            "text/html": [
              "\n",
              "  <div id=\"df-bfd336c5-892f-4912-a315-6c2a64d3ff83\">\n",
              "    <div class=\"colab-df-container\">\n",
              "      <div>\n",
              "<style scoped>\n",
              "    .dataframe tbody tr th:only-of-type {\n",
              "        vertical-align: middle;\n",
              "    }\n",
              "\n",
              "    .dataframe tbody tr th {\n",
              "        vertical-align: top;\n",
              "    }\n",
              "\n",
              "    .dataframe thead th {\n",
              "        text-align: right;\n",
              "    }\n",
              "</style>\n",
              "<table border=\"1\" class=\"dataframe\">\n",
              "  <thead>\n",
              "    <tr style=\"text-align: right;\">\n",
              "      <th></th>\n",
              "      <th>itemID</th>\n",
              "      <th>simulationPrice</th>\n",
              "      <th>promotion</th>\n",
              "    </tr>\n",
              "  </thead>\n",
              "  <tbody>\n",
              "    <tr>\n",
              "      <th>0</th>\n",
              "      <td>1</td>\n",
              "      <td>3.43</td>\n",
              "      <td>NaN</td>\n",
              "    </tr>\n",
              "    <tr>\n",
              "      <th>1</th>\n",
              "      <td>2</td>\n",
              "      <td>9.15</td>\n",
              "      <td>NaN</td>\n",
              "    </tr>\n",
              "    <tr>\n",
              "      <th>2</th>\n",
              "      <td>3</td>\n",
              "      <td>14.04</td>\n",
              "      <td>NaN</td>\n",
              "    </tr>\n",
              "    <tr>\n",
              "      <th>3</th>\n",
              "      <td>4</td>\n",
              "      <td>14.10</td>\n",
              "      <td>NaN</td>\n",
              "    </tr>\n",
              "    <tr>\n",
              "      <th>4</th>\n",
              "      <td>5</td>\n",
              "      <td>7.48</td>\n",
              "      <td>NaN</td>\n",
              "    </tr>\n",
              "  </tbody>\n",
              "</table>\n",
              "</div>\n",
              "      <button class=\"colab-df-convert\" onclick=\"convertToInteractive('df-bfd336c5-892f-4912-a315-6c2a64d3ff83')\"\n",
              "              title=\"Convert this dataframe to an interactive table.\"\n",
              "              style=\"display:none;\">\n",
              "        \n",
              "  <svg xmlns=\"http://www.w3.org/2000/svg\" height=\"24px\"viewBox=\"0 0 24 24\"\n",
              "       width=\"24px\">\n",
              "    <path d=\"M0 0h24v24H0V0z\" fill=\"none\"/>\n",
              "    <path d=\"M18.56 5.44l.94 2.06.94-2.06 2.06-.94-2.06-.94-.94-2.06-.94 2.06-2.06.94zm-11 1L8.5 8.5l.94-2.06 2.06-.94-2.06-.94L8.5 2.5l-.94 2.06-2.06.94zm10 10l.94 2.06.94-2.06 2.06-.94-2.06-.94-.94-2.06-.94 2.06-2.06.94z\"/><path d=\"M17.41 7.96l-1.37-1.37c-.4-.4-.92-.59-1.43-.59-.52 0-1.04.2-1.43.59L10.3 9.45l-7.72 7.72c-.78.78-.78 2.05 0 2.83L4 21.41c.39.39.9.59 1.41.59.51 0 1.02-.2 1.41-.59l7.78-7.78 2.81-2.81c.8-.78.8-2.07 0-2.86zM5.41 20L4 18.59l7.72-7.72 1.47 1.35L5.41 20z\"/>\n",
              "  </svg>\n",
              "      </button>\n",
              "      \n",
              "  <style>\n",
              "    .colab-df-container {\n",
              "      display:flex;\n",
              "      flex-wrap:wrap;\n",
              "      gap: 12px;\n",
              "    }\n",
              "\n",
              "    .colab-df-convert {\n",
              "      background-color: #E8F0FE;\n",
              "      border: none;\n",
              "      border-radius: 50%;\n",
              "      cursor: pointer;\n",
              "      display: none;\n",
              "      fill: #1967D2;\n",
              "      height: 32px;\n",
              "      padding: 0 0 0 0;\n",
              "      width: 32px;\n",
              "    }\n",
              "\n",
              "    .colab-df-convert:hover {\n",
              "      background-color: #E2EBFA;\n",
              "      box-shadow: 0px 1px 2px rgba(60, 64, 67, 0.3), 0px 1px 3px 1px rgba(60, 64, 67, 0.15);\n",
              "      fill: #174EA6;\n",
              "    }\n",
              "\n",
              "    [theme=dark] .colab-df-convert {\n",
              "      background-color: #3B4455;\n",
              "      fill: #D2E3FC;\n",
              "    }\n",
              "\n",
              "    [theme=dark] .colab-df-convert:hover {\n",
              "      background-color: #434B5C;\n",
              "      box-shadow: 0px 1px 3px 1px rgba(0, 0, 0, 0.15);\n",
              "      filter: drop-shadow(0px 1px 2px rgba(0, 0, 0, 0.3));\n",
              "      fill: #FFFFFF;\n",
              "    }\n",
              "  </style>\n",
              "\n",
              "      <script>\n",
              "        const buttonEl =\n",
              "          document.querySelector('#df-bfd336c5-892f-4912-a315-6c2a64d3ff83 button.colab-df-convert');\n",
              "        buttonEl.style.display =\n",
              "          google.colab.kernel.accessAllowed ? 'block' : 'none';\n",
              "\n",
              "        async function convertToInteractive(key) {\n",
              "          const element = document.querySelector('#df-bfd336c5-892f-4912-a315-6c2a64d3ff83');\n",
              "          const dataTable =\n",
              "            await google.colab.kernel.invokeFunction('convertToInteractive',\n",
              "                                                     [key], {});\n",
              "          if (!dataTable) return;\n",
              "\n",
              "          const docLinkHtml = 'Like what you see? Visit the ' +\n",
              "            '<a target=\"_blank\" href=https://colab.research.google.com/notebooks/data_table.ipynb>data table notebook</a>'\n",
              "            + ' to learn more about interactive tables.';\n",
              "          element.innerHTML = '';\n",
              "          dataTable['output_type'] = 'display_data';\n",
              "          await google.colab.output.renderOutput(dataTable, element);\n",
              "          const docLink = document.createElement('div');\n",
              "          docLink.innerHTML = docLinkHtml;\n",
              "          element.appendChild(docLink);\n",
              "        }\n",
              "      </script>\n",
              "    </div>\n",
              "  </div>\n",
              "  "
            ]
          },
          "metadata": {},
          "execution_count": 9
        }
      ],
      "source": [
        "infos.head()"
      ]
    },
    {
      "cell_type": "code",
      "execution_count": 10,
      "metadata": {
        "colab": {
          "base_uri": "https://localhost:8080/",
          "height": 206
        },
        "id": "Iq-XcVnVUwZw",
        "outputId": "0b1b2e57-7ed9-48aa-afb2-767a97b14bec"
      },
      "outputs": [
        {
          "output_type": "execute_result",
          "data": {
            "text/plain": [
              "   itemID  brand  manufacturer  customerRating  category1  category2  \\\n",
              "0       1      0             1            4.38          1          1   \n",
              "1       2      0             2            3.00          1          2   \n",
              "2       3      0             3            5.00          1          3   \n",
              "3       4      0             2            4.44          1          2   \n",
              "4       5      0             2            2.33          1          1   \n",
              "\n",
              "   category3  recommendedRetailPrice  \n",
              "0          1                    8.84  \n",
              "1          1                   16.92  \n",
              "2          1                   15.89  \n",
              "3          1                   40.17  \n",
              "4          1                   17.04  "
            ],
            "text/html": [
              "\n",
              "  <div id=\"df-b988d4bc-b046-4e92-8086-596a83ac93f9\">\n",
              "    <div class=\"colab-df-container\">\n",
              "      <div>\n",
              "<style scoped>\n",
              "    .dataframe tbody tr th:only-of-type {\n",
              "        vertical-align: middle;\n",
              "    }\n",
              "\n",
              "    .dataframe tbody tr th {\n",
              "        vertical-align: top;\n",
              "    }\n",
              "\n",
              "    .dataframe thead th {\n",
              "        text-align: right;\n",
              "    }\n",
              "</style>\n",
              "<table border=\"1\" class=\"dataframe\">\n",
              "  <thead>\n",
              "    <tr style=\"text-align: right;\">\n",
              "      <th></th>\n",
              "      <th>itemID</th>\n",
              "      <th>brand</th>\n",
              "      <th>manufacturer</th>\n",
              "      <th>customerRating</th>\n",
              "      <th>category1</th>\n",
              "      <th>category2</th>\n",
              "      <th>category3</th>\n",
              "      <th>recommendedRetailPrice</th>\n",
              "    </tr>\n",
              "  </thead>\n",
              "  <tbody>\n",
              "    <tr>\n",
              "      <th>0</th>\n",
              "      <td>1</td>\n",
              "      <td>0</td>\n",
              "      <td>1</td>\n",
              "      <td>4.38</td>\n",
              "      <td>1</td>\n",
              "      <td>1</td>\n",
              "      <td>1</td>\n",
              "      <td>8.84</td>\n",
              "    </tr>\n",
              "    <tr>\n",
              "      <th>1</th>\n",
              "      <td>2</td>\n",
              "      <td>0</td>\n",
              "      <td>2</td>\n",
              "      <td>3.00</td>\n",
              "      <td>1</td>\n",
              "      <td>2</td>\n",
              "      <td>1</td>\n",
              "      <td>16.92</td>\n",
              "    </tr>\n",
              "    <tr>\n",
              "      <th>2</th>\n",
              "      <td>3</td>\n",
              "      <td>0</td>\n",
              "      <td>3</td>\n",
              "      <td>5.00</td>\n",
              "      <td>1</td>\n",
              "      <td>3</td>\n",
              "      <td>1</td>\n",
              "      <td>15.89</td>\n",
              "    </tr>\n",
              "    <tr>\n",
              "      <th>3</th>\n",
              "      <td>4</td>\n",
              "      <td>0</td>\n",
              "      <td>2</td>\n",
              "      <td>4.44</td>\n",
              "      <td>1</td>\n",
              "      <td>2</td>\n",
              "      <td>1</td>\n",
              "      <td>40.17</td>\n",
              "    </tr>\n",
              "    <tr>\n",
              "      <th>4</th>\n",
              "      <td>5</td>\n",
              "      <td>0</td>\n",
              "      <td>2</td>\n",
              "      <td>2.33</td>\n",
              "      <td>1</td>\n",
              "      <td>1</td>\n",
              "      <td>1</td>\n",
              "      <td>17.04</td>\n",
              "    </tr>\n",
              "  </tbody>\n",
              "</table>\n",
              "</div>\n",
              "      <button class=\"colab-df-convert\" onclick=\"convertToInteractive('df-b988d4bc-b046-4e92-8086-596a83ac93f9')\"\n",
              "              title=\"Convert this dataframe to an interactive table.\"\n",
              "              style=\"display:none;\">\n",
              "        \n",
              "  <svg xmlns=\"http://www.w3.org/2000/svg\" height=\"24px\"viewBox=\"0 0 24 24\"\n",
              "       width=\"24px\">\n",
              "    <path d=\"M0 0h24v24H0V0z\" fill=\"none\"/>\n",
              "    <path d=\"M18.56 5.44l.94 2.06.94-2.06 2.06-.94-2.06-.94-.94-2.06-.94 2.06-2.06.94zm-11 1L8.5 8.5l.94-2.06 2.06-.94-2.06-.94L8.5 2.5l-.94 2.06-2.06.94zm10 10l.94 2.06.94-2.06 2.06-.94-2.06-.94-.94-2.06-.94 2.06-2.06.94z\"/><path d=\"M17.41 7.96l-1.37-1.37c-.4-.4-.92-.59-1.43-.59-.52 0-1.04.2-1.43.59L10.3 9.45l-7.72 7.72c-.78.78-.78 2.05 0 2.83L4 21.41c.39.39.9.59 1.41.59.51 0 1.02-.2 1.41-.59l7.78-7.78 2.81-2.81c.8-.78.8-2.07 0-2.86zM5.41 20L4 18.59l7.72-7.72 1.47 1.35L5.41 20z\"/>\n",
              "  </svg>\n",
              "      </button>\n",
              "      \n",
              "  <style>\n",
              "    .colab-df-container {\n",
              "      display:flex;\n",
              "      flex-wrap:wrap;\n",
              "      gap: 12px;\n",
              "    }\n",
              "\n",
              "    .colab-df-convert {\n",
              "      background-color: #E8F0FE;\n",
              "      border: none;\n",
              "      border-radius: 50%;\n",
              "      cursor: pointer;\n",
              "      display: none;\n",
              "      fill: #1967D2;\n",
              "      height: 32px;\n",
              "      padding: 0 0 0 0;\n",
              "      width: 32px;\n",
              "    }\n",
              "\n",
              "    .colab-df-convert:hover {\n",
              "      background-color: #E2EBFA;\n",
              "      box-shadow: 0px 1px 2px rgba(60, 64, 67, 0.3), 0px 1px 3px 1px rgba(60, 64, 67, 0.15);\n",
              "      fill: #174EA6;\n",
              "    }\n",
              "\n",
              "    [theme=dark] .colab-df-convert {\n",
              "      background-color: #3B4455;\n",
              "      fill: #D2E3FC;\n",
              "    }\n",
              "\n",
              "    [theme=dark] .colab-df-convert:hover {\n",
              "      background-color: #434B5C;\n",
              "      box-shadow: 0px 1px 3px 1px rgba(0, 0, 0, 0.15);\n",
              "      filter: drop-shadow(0px 1px 2px rgba(0, 0, 0, 0.3));\n",
              "      fill: #FFFFFF;\n",
              "    }\n",
              "  </style>\n",
              "\n",
              "      <script>\n",
              "        const buttonEl =\n",
              "          document.querySelector('#df-b988d4bc-b046-4e92-8086-596a83ac93f9 button.colab-df-convert');\n",
              "        buttonEl.style.display =\n",
              "          google.colab.kernel.accessAllowed ? 'block' : 'none';\n",
              "\n",
              "        async function convertToInteractive(key) {\n",
              "          const element = document.querySelector('#df-b988d4bc-b046-4e92-8086-596a83ac93f9');\n",
              "          const dataTable =\n",
              "            await google.colab.kernel.invokeFunction('convertToInteractive',\n",
              "                                                     [key], {});\n",
              "          if (!dataTable) return;\n",
              "\n",
              "          const docLinkHtml = 'Like what you see? Visit the ' +\n",
              "            '<a target=\"_blank\" href=https://colab.research.google.com/notebooks/data_table.ipynb>data table notebook</a>'\n",
              "            + ' to learn more about interactive tables.';\n",
              "          element.innerHTML = '';\n",
              "          dataTable['output_type'] = 'display_data';\n",
              "          await google.colab.output.renderOutput(dataTable, element);\n",
              "          const docLink = document.createElement('div');\n",
              "          docLink.innerHTML = docLinkHtml;\n",
              "          element.appendChild(docLink);\n",
              "        }\n",
              "      </script>\n",
              "    </div>\n",
              "  </div>\n",
              "  "
            ]
          },
          "metadata": {},
          "execution_count": 10
        }
      ],
      "source": [
        "items.head()"
      ]
    },
    {
      "cell_type": "code",
      "execution_count": 11,
      "metadata": {
        "colab": {
          "base_uri": "https://localhost:8080/",
          "height": 206
        },
        "id": "q7ml2DXkUwZw",
        "outputId": "b00b487d-4b04-4ebb-f587-3a8e1578a993"
      },
      "outputs": [
        {
          "output_type": "execute_result",
          "data": {
            "text/plain": [
              "                  time  transactID  itemID  order  salesPrice\n",
              "0  2018-01-01 00:01:56     2278968     450      1       17.42\n",
              "1  2018-01-01 00:01:56     2278968      83      1        5.19\n",
              "2  2018-01-01 00:07:11     2255797    7851      2       20.47\n",
              "3  2018-01-01 00:09:24     2278968     450      1       17.42\n",
              "4  2018-01-01 00:09:24     2278968      83      1        5.19"
            ],
            "text/html": [
              "\n",
              "  <div id=\"df-6a40f6bb-3063-400d-9816-8de23e99e7f6\">\n",
              "    <div class=\"colab-df-container\">\n",
              "      <div>\n",
              "<style scoped>\n",
              "    .dataframe tbody tr th:only-of-type {\n",
              "        vertical-align: middle;\n",
              "    }\n",
              "\n",
              "    .dataframe tbody tr th {\n",
              "        vertical-align: top;\n",
              "    }\n",
              "\n",
              "    .dataframe thead th {\n",
              "        text-align: right;\n",
              "    }\n",
              "</style>\n",
              "<table border=\"1\" class=\"dataframe\">\n",
              "  <thead>\n",
              "    <tr style=\"text-align: right;\">\n",
              "      <th></th>\n",
              "      <th>time</th>\n",
              "      <th>transactID</th>\n",
              "      <th>itemID</th>\n",
              "      <th>order</th>\n",
              "      <th>salesPrice</th>\n",
              "    </tr>\n",
              "  </thead>\n",
              "  <tbody>\n",
              "    <tr>\n",
              "      <th>0</th>\n",
              "      <td>2018-01-01 00:01:56</td>\n",
              "      <td>2278968</td>\n",
              "      <td>450</td>\n",
              "      <td>1</td>\n",
              "      <td>17.42</td>\n",
              "    </tr>\n",
              "    <tr>\n",
              "      <th>1</th>\n",
              "      <td>2018-01-01 00:01:56</td>\n",
              "      <td>2278968</td>\n",
              "      <td>83</td>\n",
              "      <td>1</td>\n",
              "      <td>5.19</td>\n",
              "    </tr>\n",
              "    <tr>\n",
              "      <th>2</th>\n",
              "      <td>2018-01-01 00:07:11</td>\n",
              "      <td>2255797</td>\n",
              "      <td>7851</td>\n",
              "      <td>2</td>\n",
              "      <td>20.47</td>\n",
              "    </tr>\n",
              "    <tr>\n",
              "      <th>3</th>\n",
              "      <td>2018-01-01 00:09:24</td>\n",
              "      <td>2278968</td>\n",
              "      <td>450</td>\n",
              "      <td>1</td>\n",
              "      <td>17.42</td>\n",
              "    </tr>\n",
              "    <tr>\n",
              "      <th>4</th>\n",
              "      <td>2018-01-01 00:09:24</td>\n",
              "      <td>2278968</td>\n",
              "      <td>83</td>\n",
              "      <td>1</td>\n",
              "      <td>5.19</td>\n",
              "    </tr>\n",
              "  </tbody>\n",
              "</table>\n",
              "</div>\n",
              "      <button class=\"colab-df-convert\" onclick=\"convertToInteractive('df-6a40f6bb-3063-400d-9816-8de23e99e7f6')\"\n",
              "              title=\"Convert this dataframe to an interactive table.\"\n",
              "              style=\"display:none;\">\n",
              "        \n",
              "  <svg xmlns=\"http://www.w3.org/2000/svg\" height=\"24px\"viewBox=\"0 0 24 24\"\n",
              "       width=\"24px\">\n",
              "    <path d=\"M0 0h24v24H0V0z\" fill=\"none\"/>\n",
              "    <path d=\"M18.56 5.44l.94 2.06.94-2.06 2.06-.94-2.06-.94-.94-2.06-.94 2.06-2.06.94zm-11 1L8.5 8.5l.94-2.06 2.06-.94-2.06-.94L8.5 2.5l-.94 2.06-2.06.94zm10 10l.94 2.06.94-2.06 2.06-.94-2.06-.94-.94-2.06-.94 2.06-2.06.94z\"/><path d=\"M17.41 7.96l-1.37-1.37c-.4-.4-.92-.59-1.43-.59-.52 0-1.04.2-1.43.59L10.3 9.45l-7.72 7.72c-.78.78-.78 2.05 0 2.83L4 21.41c.39.39.9.59 1.41.59.51 0 1.02-.2 1.41-.59l7.78-7.78 2.81-2.81c.8-.78.8-2.07 0-2.86zM5.41 20L4 18.59l7.72-7.72 1.47 1.35L5.41 20z\"/>\n",
              "  </svg>\n",
              "      </button>\n",
              "      \n",
              "  <style>\n",
              "    .colab-df-container {\n",
              "      display:flex;\n",
              "      flex-wrap:wrap;\n",
              "      gap: 12px;\n",
              "    }\n",
              "\n",
              "    .colab-df-convert {\n",
              "      background-color: #E8F0FE;\n",
              "      border: none;\n",
              "      border-radius: 50%;\n",
              "      cursor: pointer;\n",
              "      display: none;\n",
              "      fill: #1967D2;\n",
              "      height: 32px;\n",
              "      padding: 0 0 0 0;\n",
              "      width: 32px;\n",
              "    }\n",
              "\n",
              "    .colab-df-convert:hover {\n",
              "      background-color: #E2EBFA;\n",
              "      box-shadow: 0px 1px 2px rgba(60, 64, 67, 0.3), 0px 1px 3px 1px rgba(60, 64, 67, 0.15);\n",
              "      fill: #174EA6;\n",
              "    }\n",
              "\n",
              "    [theme=dark] .colab-df-convert {\n",
              "      background-color: #3B4455;\n",
              "      fill: #D2E3FC;\n",
              "    }\n",
              "\n",
              "    [theme=dark] .colab-df-convert:hover {\n",
              "      background-color: #434B5C;\n",
              "      box-shadow: 0px 1px 3px 1px rgba(0, 0, 0, 0.15);\n",
              "      filter: drop-shadow(0px 1px 2px rgba(0, 0, 0, 0.3));\n",
              "      fill: #FFFFFF;\n",
              "    }\n",
              "  </style>\n",
              "\n",
              "      <script>\n",
              "        const buttonEl =\n",
              "          document.querySelector('#df-6a40f6bb-3063-400d-9816-8de23e99e7f6 button.colab-df-convert');\n",
              "        buttonEl.style.display =\n",
              "          google.colab.kernel.accessAllowed ? 'block' : 'none';\n",
              "\n",
              "        async function convertToInteractive(key) {\n",
              "          const element = document.querySelector('#df-6a40f6bb-3063-400d-9816-8de23e99e7f6');\n",
              "          const dataTable =\n",
              "            await google.colab.kernel.invokeFunction('convertToInteractive',\n",
              "                                                     [key], {});\n",
              "          if (!dataTable) return;\n",
              "\n",
              "          const docLinkHtml = 'Like what you see? Visit the ' +\n",
              "            '<a target=\"_blank\" href=https://colab.research.google.com/notebooks/data_table.ipynb>data table notebook</a>'\n",
              "            + ' to learn more about interactive tables.';\n",
              "          element.innerHTML = '';\n",
              "          dataTable['output_type'] = 'display_data';\n",
              "          await google.colab.output.renderOutput(dataTable, element);\n",
              "          const docLink = document.createElement('div');\n",
              "          docLink.innerHTML = docLinkHtml;\n",
              "          element.appendChild(docLink);\n",
              "        }\n",
              "      </script>\n",
              "    </div>\n",
              "  </div>\n",
              "  "
            ]
          },
          "metadata": {},
          "execution_count": 11
        }
      ],
      "source": [
        "orders.head()"
      ]
    },
    {
      "cell_type": "markdown",
      "metadata": {
        "id": "NhmaG09IUwZx"
      },
      "source": [
        "# PROCESSING"
      ]
    },
    {
      "cell_type": "markdown",
      "metadata": {
        "id": "jOwK6olMUwZx"
      },
      "source": [
        "### MERGE INFOS AND ITEMS"
      ]
    },
    {
      "cell_type": "code",
      "execution_count": 12,
      "metadata": {
        "colab": {
          "base_uri": "https://localhost:8080/"
        },
        "id": "6C4s8OUVUwZx",
        "outputId": "494a62dc-7057-4a8a-aefc-41b4a08fe628"
      },
      "outputs": [
        {
          "output_type": "stream",
          "name": "stdout",
          "text": [
            "(10463, 3)\n",
            "(10463, 8)\n",
            "(10463, 10)\n"
          ]
        }
      ],
      "source": [
        "##### MERGER\n",
        "\n",
        "print(infos.shape)\n",
        "print(items.shape)\n",
        "items = pd.merge(infos, items, on = 'itemID', how = 'left')\n",
        "print(items.shape)\n",
        "del infos"
      ]
    },
    {
      "cell_type": "markdown",
      "metadata": {
        "id": "d8FeGehjUwZx"
      },
      "source": [
        "### CONVERT FEATURE TYPES"
      ]
    },
    {
      "cell_type": "code",
      "execution_count": 13,
      "metadata": {
        "colab": {
          "base_uri": "https://localhost:8080/"
        },
        "id": "XI_5mVeEUwZx",
        "outputId": "2a92e666-ce33-4a6c-c8ff-4ce301214255"
      },
      "outputs": [
        {
          "output_type": "stream",
          "name": "stdout",
          "text": [
            "--------------------------------------------------\n",
            "itemID                      int64\n",
            "simulationPrice           float64\n",
            "promotion                  object\n",
            "brand                       int64\n",
            "manufacturer                int64\n",
            "customerRating            float64\n",
            "category1                   int64\n",
            "category2                   int64\n",
            "category3                   int64\n",
            "recommendedRetailPrice    float64\n",
            "dtype: object\n",
            "--------------------------------------------------\n",
            "time           object\n",
            "transactID      int64\n",
            "itemID          int64\n",
            "order           int64\n",
            "salesPrice    float64\n",
            "dtype: object\n",
            "--------------------------------------------------\n"
          ]
        }
      ],
      "source": [
        "print('-' * 50)\n",
        "print(items.dtypes)\n",
        "print('-' * 50)\n",
        "print(orders.dtypes)\n",
        "print('-' * 50)"
      ]
    },
    {
      "cell_type": "code",
      "execution_count": 14,
      "metadata": {
        "id": "3lV2gyuiUwZx"
      },
      "outputs": [],
      "source": [
        "# items\n",
        "for var in ['itemID', 'brand', 'manufacturer', 'category1', 'category2', 'category3']:\n",
        "    items[var] = items[var].astype('str').astype('object') \n",
        "    \n",
        "# orders\n",
        "for var in ['transactID', 'itemID']:\n",
        "    orders[var] = orders[var].astype('str').astype('object') \n",
        "    \n",
        "# dates\n",
        "orders['time'] = pd.to_datetime(orders['time'].astype('str'), infer_datetime_format = True)"
      ]
    },
    {
      "cell_type": "markdown",
      "metadata": {
        "id": "MP-z-BLIUwZy"
      },
      "source": [
        "### CHECK FEATURES"
      ]
    },
    {
      "cell_type": "code",
      "execution_count": 15,
      "metadata": {
        "colab": {
          "base_uri": "https://localhost:8080/"
        },
        "id": "UZqZkfezUwZy",
        "outputId": "742f11af-cbe6-4f2b-c235-90cf226ce68c"
      },
      "outputs": [
        {
          "output_type": "stream",
          "name": "stdout",
          "text": [
            "Found 7 categorical features.\n",
            "\n",
            "------------------------------\n",
            "itemID: 10463 unique values\n",
            "------------------------------\n",
            "1       0.000096\n",
            "6990    0.000096\n",
            "6972    0.000096\n",
            "Name: itemID, dtype: float64\n",
            "------------------------------\n",
            "\n",
            "------------------------------\n",
            "promotion: 85 unique values\n",
            "------------------------------\n",
            "NaN           0.823855\n",
            "2018-07-04    0.016152\n",
            "2018-07-06    0.013763\n",
            "Name: promotion, dtype: float64\n",
            "------------------------------\n",
            "\n",
            "------------------------------\n",
            "brand: 275 unique values\n",
            "------------------------------\n",
            "0      0.500048\n",
            "101    0.023129\n",
            "82     0.018924\n",
            "Name: brand, dtype: float64\n",
            "------------------------------\n",
            "\n",
            "------------------------------\n",
            "manufacturer: 253 unique values\n",
            "------------------------------\n",
            "86     0.045972\n",
            "159    0.042818\n",
            "164    0.033260\n",
            "Name: manufacturer, dtype: float64\n",
            "------------------------------\n",
            "\n",
            "------------------------------\n",
            "category1: 8 unique values\n",
            "------------------------------\n",
            "2    0.224410\n",
            "1    0.174233\n",
            "8    0.165727\n",
            "Name: category1, dtype: float64\n",
            "------------------------------\n",
            "\n",
            "------------------------------\n",
            "category2: 52 unique values\n",
            "------------------------------\n",
            "44    0.128835\n",
            "8     0.106948\n",
            "32    0.103699\n",
            "Name: category2, dtype: float64\n",
            "------------------------------\n",
            "\n",
            "------------------------------\n",
            "category3: 8 unique values\n",
            "------------------------------\n",
            "2    0.229380\n",
            "1    0.174233\n",
            "8    0.165822\n",
            "Name: category3, dtype: float64\n",
            "------------------------------\n",
            "\n"
          ]
        }
      ],
      "source": [
        "print_factor_levels(items, top = 3)"
      ]
    },
    {
      "cell_type": "code",
      "execution_count": 16,
      "metadata": {
        "colab": {
          "base_uri": "https://localhost:8080/"
        },
        "id": "hrJAvmhSUwZy",
        "outputId": "9b9bc6bd-984a-402f-bd9e-f3db3ccbf819"
      },
      "outputs": [
        {
          "output_type": "stream",
          "name": "stdout",
          "text": [
            "Found 2 categorical features.\n",
            "\n",
            "------------------------------\n",
            "transactID: 2076066 unique values\n",
            "------------------------------\n",
            "2280569    0.000088\n",
            "2258169    0.000085\n",
            "2280300    0.000080\n",
            "Name: transactID, dtype: float64\n",
            "------------------------------\n",
            "\n",
            "------------------------------\n",
            "itemID: 9840 unique values\n",
            "------------------------------\n",
            "5035    0.004112\n",
            "5117    0.003695\n",
            "7789    0.003398\n",
            "Name: itemID, dtype: float64\n",
            "------------------------------\n",
            "\n"
          ]
        }
      ],
      "source": [
        "print_factor_levels(orders, top = 3)"
      ]
    },
    {
      "cell_type": "code",
      "execution_count": 18,
      "metadata": {
        "colab": {
          "base_uri": "https://localhost:8080/"
        },
        "id": "JZnhr1wBUwZy",
        "outputId": "61de26ea-b5ef-4781-ba8a-1f009ea6e9a9"
      },
      "outputs": [
        {
          "output_type": "stream",
          "name": "stdout",
          "text": [
            "No constant features found.\n"
          ]
        }
      ],
      "source": [
        "find_constant_features(items)"
      ]
    },
    {
      "cell_type": "code",
      "execution_count": 19,
      "metadata": {
        "colab": {
          "base_uri": "https://localhost:8080/"
        },
        "id": "TMR8ZIi3UwZy",
        "outputId": "37202b40-1f67-4cc1-cde8-b8face57521f"
      },
      "outputs": [
        {
          "output_type": "stream",
          "name": "stdout",
          "text": [
            "No constant features found.\n"
          ]
        }
      ],
      "source": [
        "find_constant_features(orders)"
      ]
    },
    {
      "cell_type": "markdown",
      "metadata": {
        "id": "iYjBJuDmUwZy"
      },
      "source": [
        "### MISSING VALUES"
      ]
    },
    {
      "cell_type": "code",
      "execution_count": 20,
      "metadata": {
        "id": "eQDJd1K8UwZy"
      },
      "outputs": [],
      "source": [
        "# change zeros to NA where relvant\n",
        "items.loc[items['brand']          == '0', 'brand']        = np.nan\n",
        "items.loc[items['customerRating'] == 0, 'customerRating'] = np.nan"
      ]
    },
    {
      "cell_type": "code",
      "execution_count": 21,
      "metadata": {
        "colab": {
          "base_uri": "https://localhost:8080/",
          "height": 161
        },
        "id": "BIFNQdi-UwZy",
        "outputId": "0df8199c-b560-4ee9-ced0-c55331cb26ba"
      },
      "outputs": [
        {
          "output_type": "stream",
          "name": "stdout",
          "text": [
            "Found 3 features with missing values.\n"
          ]
        },
        {
          "output_type": "execute_result",
          "data": {
            "text/plain": [
              "                Total   Percent\n",
              "promotion        8620  0.823855\n",
              "customerRating   7117  0.680206\n",
              "brand            5232  0.500048"
            ],
            "text/html": [
              "\n",
              "  <div id=\"df-e2887164-c403-43e6-8b61-b736447b8069\">\n",
              "    <div class=\"colab-df-container\">\n",
              "      <div>\n",
              "<style scoped>\n",
              "    .dataframe tbody tr th:only-of-type {\n",
              "        vertical-align: middle;\n",
              "    }\n",
              "\n",
              "    .dataframe tbody tr th {\n",
              "        vertical-align: top;\n",
              "    }\n",
              "\n",
              "    .dataframe thead th {\n",
              "        text-align: right;\n",
              "    }\n",
              "</style>\n",
              "<table border=\"1\" class=\"dataframe\">\n",
              "  <thead>\n",
              "    <tr style=\"text-align: right;\">\n",
              "      <th></th>\n",
              "      <th>Total</th>\n",
              "      <th>Percent</th>\n",
              "    </tr>\n",
              "  </thead>\n",
              "  <tbody>\n",
              "    <tr>\n",
              "      <th>promotion</th>\n",
              "      <td>8620</td>\n",
              "      <td>0.823855</td>\n",
              "    </tr>\n",
              "    <tr>\n",
              "      <th>customerRating</th>\n",
              "      <td>7117</td>\n",
              "      <td>0.680206</td>\n",
              "    </tr>\n",
              "    <tr>\n",
              "      <th>brand</th>\n",
              "      <td>5232</td>\n",
              "      <td>0.500048</td>\n",
              "    </tr>\n",
              "  </tbody>\n",
              "</table>\n",
              "</div>\n",
              "      <button class=\"colab-df-convert\" onclick=\"convertToInteractive('df-e2887164-c403-43e6-8b61-b736447b8069')\"\n",
              "              title=\"Convert this dataframe to an interactive table.\"\n",
              "              style=\"display:none;\">\n",
              "        \n",
              "  <svg xmlns=\"http://www.w3.org/2000/svg\" height=\"24px\"viewBox=\"0 0 24 24\"\n",
              "       width=\"24px\">\n",
              "    <path d=\"M0 0h24v24H0V0z\" fill=\"none\"/>\n",
              "    <path d=\"M18.56 5.44l.94 2.06.94-2.06 2.06-.94-2.06-.94-.94-2.06-.94 2.06-2.06.94zm-11 1L8.5 8.5l.94-2.06 2.06-.94-2.06-.94L8.5 2.5l-.94 2.06-2.06.94zm10 10l.94 2.06.94-2.06 2.06-.94-2.06-.94-.94-2.06-.94 2.06-2.06.94z\"/><path d=\"M17.41 7.96l-1.37-1.37c-.4-.4-.92-.59-1.43-.59-.52 0-1.04.2-1.43.59L10.3 9.45l-7.72 7.72c-.78.78-.78 2.05 0 2.83L4 21.41c.39.39.9.59 1.41.59.51 0 1.02-.2 1.41-.59l7.78-7.78 2.81-2.81c.8-.78.8-2.07 0-2.86zM5.41 20L4 18.59l7.72-7.72 1.47 1.35L5.41 20z\"/>\n",
              "  </svg>\n",
              "      </button>\n",
              "      \n",
              "  <style>\n",
              "    .colab-df-container {\n",
              "      display:flex;\n",
              "      flex-wrap:wrap;\n",
              "      gap: 12px;\n",
              "    }\n",
              "\n",
              "    .colab-df-convert {\n",
              "      background-color: #E8F0FE;\n",
              "      border: none;\n",
              "      border-radius: 50%;\n",
              "      cursor: pointer;\n",
              "      display: none;\n",
              "      fill: #1967D2;\n",
              "      height: 32px;\n",
              "      padding: 0 0 0 0;\n",
              "      width: 32px;\n",
              "    }\n",
              "\n",
              "    .colab-df-convert:hover {\n",
              "      background-color: #E2EBFA;\n",
              "      box-shadow: 0px 1px 2px rgba(60, 64, 67, 0.3), 0px 1px 3px 1px rgba(60, 64, 67, 0.15);\n",
              "      fill: #174EA6;\n",
              "    }\n",
              "\n",
              "    [theme=dark] .colab-df-convert {\n",
              "      background-color: #3B4455;\n",
              "      fill: #D2E3FC;\n",
              "    }\n",
              "\n",
              "    [theme=dark] .colab-df-convert:hover {\n",
              "      background-color: #434B5C;\n",
              "      box-shadow: 0px 1px 3px 1px rgba(0, 0, 0, 0.15);\n",
              "      filter: drop-shadow(0px 1px 2px rgba(0, 0, 0, 0.3));\n",
              "      fill: #FFFFFF;\n",
              "    }\n",
              "  </style>\n",
              "\n",
              "      <script>\n",
              "        const buttonEl =\n",
              "          document.querySelector('#df-e2887164-c403-43e6-8b61-b736447b8069 button.colab-df-convert');\n",
              "        buttonEl.style.display =\n",
              "          google.colab.kernel.accessAllowed ? 'block' : 'none';\n",
              "\n",
              "        async function convertToInteractive(key) {\n",
              "          const element = document.querySelector('#df-e2887164-c403-43e6-8b61-b736447b8069');\n",
              "          const dataTable =\n",
              "            await google.colab.kernel.invokeFunction('convertToInteractive',\n",
              "                                                     [key], {});\n",
              "          if (!dataTable) return;\n",
              "\n",
              "          const docLinkHtml = 'Like what you see? Visit the ' +\n",
              "            '<a target=\"_blank\" href=https://colab.research.google.com/notebooks/data_table.ipynb>data table notebook</a>'\n",
              "            + ' to learn more about interactive tables.';\n",
              "          element.innerHTML = '';\n",
              "          dataTable['output_type'] = 'display_data';\n",
              "          await google.colab.output.renderOutput(dataTable, element);\n",
              "          const docLink = document.createElement('div');\n",
              "          docLink.innerHTML = docLinkHtml;\n",
              "          element.appendChild(docLink);\n",
              "        }\n",
              "      </script>\n",
              "    </div>\n",
              "  </div>\n",
              "  "
            ]
          },
          "metadata": {},
          "execution_count": 21
        }
      ],
      "source": [
        "print_missings(items)"
      ]
    },
    {
      "cell_type": "code",
      "execution_count": 22,
      "metadata": {
        "colab": {
          "base_uri": "https://localhost:8080/"
        },
        "id": "T5cNK9QmUwZy",
        "outputId": "a6320324-9c74-479f-a63c-e996c3cddccd"
      },
      "outputs": [
        {
          "output_type": "stream",
          "name": "stdout",
          "text": [
            "No missing values found.\n"
          ]
        }
      ],
      "source": [
        "print_missings(orders)"
      ]
    },
    {
      "cell_type": "markdown",
      "metadata": {
        "id": "JAvt4k_SUwZy"
      },
      "source": [
        "### UNFOLD PROMOTIONS"
      ]
    },
    {
      "cell_type": "code",
      "source": [
        "items['promotion'].unique()"
      ],
      "metadata": {
        "colab": {
          "base_uri": "https://localhost:8080/"
        },
        "id": "OarXw1jrXG8y",
        "outputId": "655a8964-d1dc-41c6-ca1c-e83432c46ab5"
      },
      "execution_count": 27,
      "outputs": [
        {
          "output_type": "execute_result",
          "data": {
            "text/plain": [
              "array([nan, '2018-07-13', '2018-07-01,2018-07-02,2018-07-13',\n",
              "       '2018-07-05,2018-07-11', '2018-07-05', '2018-07-01', '2018-07-04',\n",
              "       '2018-07-08', '2018-07-08,2018-07-13', '2018-07-09', '2018-06-30',\n",
              "       '2018-07-11', '2018-07-06', '2018-07-08,2018-07-11',\n",
              "       '2018-06-30,2018-07-13', '2018-06-30,2018-07-01,2018-07-11',\n",
              "       '2018-07-06,2018-07-13', '2018-07-06,2018-07-10', '2018-07-10',\n",
              "       '2018-07-08,2018-07-10', '2018-06-30,2018-07-04',\n",
              "       '2018-07-01,2018-07-10', '2018-07-02', '2018-06-30,2018-07-01',\n",
              "       '2018-07-04,2018-07-05,2018-07-06', '2018-07-04,2018-07-05',\n",
              "       '2018-07-01,2018-07-06', '2018-06-30,2018-07-06',\n",
              "       '2018-07-05,2018-07-13', '2018-07-01,2018-07-02', '2018-07-03',\n",
              "       '2018-07-03,2018-07-04,2018-07-05',\n",
              "       '2018-07-03,2018-07-04,2018-07-06', '2018-07-03,2018-07-04',\n",
              "       '2018-07-03,2018-07-05', '2018-07-04,2018-07-09',\n",
              "       '2018-07-04,2018-07-06', '2018-07-02,2018-07-04', '2018-07-12',\n",
              "       '2018-07-02,2018-07-03,2018-07-04', '2018-07-02,2018-07-03',\n",
              "       '2018-07-01,2018-07-08', '2018-07-02,2018-07-04,2018-07-06',\n",
              "       '2018-07-02,2018-07-08', '2018-07-01,2018-07-04',\n",
              "       '2018-07-02,2018-07-04,2018-07-08', '2018-07-02,2018-07-12',\n",
              "       '2018-07-02,2018-07-04,2018-07-05', '2018-07-02,2018-07-09',\n",
              "       '2018-07-04,2018-07-06,2018-07-08', '2018-07-02,2018-07-11',\n",
              "       '2018-07-07', '2018-07-07,2018-07-10', '2018-07-02,2018-07-07',\n",
              "       '2018-07-03,2018-07-07', '2018-07-02,2018-07-05',\n",
              "       '2018-07-02,2018-07-04,2018-07-07', '2018-07-02,2018-07-10',\n",
              "       '2018-07-02,2018-07-07,2018-07-10', '2018-07-03,2018-07-10',\n",
              "       '2018-07-01,2018-07-07', '2018-07-04,2018-07-07',\n",
              "       '2018-06-30,2018-07-05', '2018-07-04,2018-07-12',\n",
              "       '2018-07-07,2018-07-08', '2018-07-04,2018-07-10',\n",
              "       '2018-07-10,2018-07-12', '2018-07-04,2018-07-12,2018-07-13',\n",
              "       '2018-07-04,2018-07-05,2018-07-08',\n",
              "       '2018-07-05,2018-07-10,2018-07-11', '2018-07-02,2018-07-06',\n",
              "       '2018-07-05,2018-07-10', '2018-07-04,2018-07-06,2018-07-10',\n",
              "       '2018-07-01,2018-07-02,2018-07-12', '2018-06-30,2018-07-02',\n",
              "       '2018-07-08,2018-07-09', '2018-07-09,2018-07-11',\n",
              "       '2018-07-01,2018-07-09', '2018-07-09,2018-07-10',\n",
              "       '2018-07-05,2018-07-06', '2018-07-11,2018-07-12',\n",
              "       '2018-07-07,2018-07-09', '2018-07-05,2018-07-07',\n",
              "       '2018-07-02,2018-07-05,2018-07-07', '2018-07-04,2018-07-08',\n",
              "       '2018-07-05,2018-07-09'], dtype=object)"
            ]
          },
          "metadata": {},
          "execution_count": 27
        }
      ]
    },
    {
      "cell_type": "code",
      "execution_count": 28,
      "metadata": {
        "colab": {
          "base_uri": "https://localhost:8080/",
          "height": 224
        },
        "id": "k5S0OwcrUwZz",
        "outputId": "0d445884-69d5-4bc6-e376-392991880ebb"
      },
      "outputs": [
        {
          "output_type": "stream",
          "name": "stdout",
          "text": [
            "Added 3 split-based features.\n"
          ]
        },
        {
          "output_type": "execute_result",
          "data": {
            "text/plain": [
              "  itemID  simulationPrice brand manufacturer  customerRating category1  \\\n",
              "0      1             3.43   NaN            1            4.38         1   \n",
              "1      2             9.15   NaN            2            3.00         1   \n",
              "2      3            14.04   NaN            3            5.00         1   \n",
              "3      4            14.10   NaN            2            4.44         1   \n",
              "4      5             7.48   NaN            2            2.33         1   \n",
              "\n",
              "  category2 category3  recommendedRetailPrice promotion_0 promotion_1  \\\n",
              "0         1         1                    8.84         NaN         NaN   \n",
              "1         2         1                   16.92         NaN         NaN   \n",
              "2         3         1                   15.89         NaN         NaN   \n",
              "3         2         1                   40.17         NaN         NaN   \n",
              "4         1         1                   17.04         NaN         NaN   \n",
              "\n",
              "  promotion_2  \n",
              "0         NaN  \n",
              "1         NaN  \n",
              "2         NaN  \n",
              "3         NaN  \n",
              "4         NaN  "
            ],
            "text/html": [
              "\n",
              "  <div id=\"df-ca944b99-0c65-4ffc-a4da-0c0cff527660\">\n",
              "    <div class=\"colab-df-container\">\n",
              "      <div>\n",
              "<style scoped>\n",
              "    .dataframe tbody tr th:only-of-type {\n",
              "        vertical-align: middle;\n",
              "    }\n",
              "\n",
              "    .dataframe tbody tr th {\n",
              "        vertical-align: top;\n",
              "    }\n",
              "\n",
              "    .dataframe thead th {\n",
              "        text-align: right;\n",
              "    }\n",
              "</style>\n",
              "<table border=\"1\" class=\"dataframe\">\n",
              "  <thead>\n",
              "    <tr style=\"text-align: right;\">\n",
              "      <th></th>\n",
              "      <th>itemID</th>\n",
              "      <th>simulationPrice</th>\n",
              "      <th>brand</th>\n",
              "      <th>manufacturer</th>\n",
              "      <th>customerRating</th>\n",
              "      <th>category1</th>\n",
              "      <th>category2</th>\n",
              "      <th>category3</th>\n",
              "      <th>recommendedRetailPrice</th>\n",
              "      <th>promotion_0</th>\n",
              "      <th>promotion_1</th>\n",
              "      <th>promotion_2</th>\n",
              "    </tr>\n",
              "  </thead>\n",
              "  <tbody>\n",
              "    <tr>\n",
              "      <th>0</th>\n",
              "      <td>1</td>\n",
              "      <td>3.43</td>\n",
              "      <td>NaN</td>\n",
              "      <td>1</td>\n",
              "      <td>4.38</td>\n",
              "      <td>1</td>\n",
              "      <td>1</td>\n",
              "      <td>1</td>\n",
              "      <td>8.84</td>\n",
              "      <td>NaN</td>\n",
              "      <td>NaN</td>\n",
              "      <td>NaN</td>\n",
              "    </tr>\n",
              "    <tr>\n",
              "      <th>1</th>\n",
              "      <td>2</td>\n",
              "      <td>9.15</td>\n",
              "      <td>NaN</td>\n",
              "      <td>2</td>\n",
              "      <td>3.00</td>\n",
              "      <td>1</td>\n",
              "      <td>2</td>\n",
              "      <td>1</td>\n",
              "      <td>16.92</td>\n",
              "      <td>NaN</td>\n",
              "      <td>NaN</td>\n",
              "      <td>NaN</td>\n",
              "    </tr>\n",
              "    <tr>\n",
              "      <th>2</th>\n",
              "      <td>3</td>\n",
              "      <td>14.04</td>\n",
              "      <td>NaN</td>\n",
              "      <td>3</td>\n",
              "      <td>5.00</td>\n",
              "      <td>1</td>\n",
              "      <td>3</td>\n",
              "      <td>1</td>\n",
              "      <td>15.89</td>\n",
              "      <td>NaN</td>\n",
              "      <td>NaN</td>\n",
              "      <td>NaN</td>\n",
              "    </tr>\n",
              "    <tr>\n",
              "      <th>3</th>\n",
              "      <td>4</td>\n",
              "      <td>14.10</td>\n",
              "      <td>NaN</td>\n",
              "      <td>2</td>\n",
              "      <td>4.44</td>\n",
              "      <td>1</td>\n",
              "      <td>2</td>\n",
              "      <td>1</td>\n",
              "      <td>40.17</td>\n",
              "      <td>NaN</td>\n",
              "      <td>NaN</td>\n",
              "      <td>NaN</td>\n",
              "    </tr>\n",
              "    <tr>\n",
              "      <th>4</th>\n",
              "      <td>5</td>\n",
              "      <td>7.48</td>\n",
              "      <td>NaN</td>\n",
              "      <td>2</td>\n",
              "      <td>2.33</td>\n",
              "      <td>1</td>\n",
              "      <td>1</td>\n",
              "      <td>1</td>\n",
              "      <td>17.04</td>\n",
              "      <td>NaN</td>\n",
              "      <td>NaN</td>\n",
              "      <td>NaN</td>\n",
              "    </tr>\n",
              "  </tbody>\n",
              "</table>\n",
              "</div>\n",
              "      <button class=\"colab-df-convert\" onclick=\"convertToInteractive('df-ca944b99-0c65-4ffc-a4da-0c0cff527660')\"\n",
              "              title=\"Convert this dataframe to an interactive table.\"\n",
              "              style=\"display:none;\">\n",
              "        \n",
              "  <svg xmlns=\"http://www.w3.org/2000/svg\" height=\"24px\"viewBox=\"0 0 24 24\"\n",
              "       width=\"24px\">\n",
              "    <path d=\"M0 0h24v24H0V0z\" fill=\"none\"/>\n",
              "    <path d=\"M18.56 5.44l.94 2.06.94-2.06 2.06-.94-2.06-.94-.94-2.06-.94 2.06-2.06.94zm-11 1L8.5 8.5l.94-2.06 2.06-.94-2.06-.94L8.5 2.5l-.94 2.06-2.06.94zm10 10l.94 2.06.94-2.06 2.06-.94-2.06-.94-.94-2.06-.94 2.06-2.06.94z\"/><path d=\"M17.41 7.96l-1.37-1.37c-.4-.4-.92-.59-1.43-.59-.52 0-1.04.2-1.43.59L10.3 9.45l-7.72 7.72c-.78.78-.78 2.05 0 2.83L4 21.41c.39.39.9.59 1.41.59.51 0 1.02-.2 1.41-.59l7.78-7.78 2.81-2.81c.8-.78.8-2.07 0-2.86zM5.41 20L4 18.59l7.72-7.72 1.47 1.35L5.41 20z\"/>\n",
              "  </svg>\n",
              "      </button>\n",
              "      \n",
              "  <style>\n",
              "    .colab-df-container {\n",
              "      display:flex;\n",
              "      flex-wrap:wrap;\n",
              "      gap: 12px;\n",
              "    }\n",
              "\n",
              "    .colab-df-convert {\n",
              "      background-color: #E8F0FE;\n",
              "      border: none;\n",
              "      border-radius: 50%;\n",
              "      cursor: pointer;\n",
              "      display: none;\n",
              "      fill: #1967D2;\n",
              "      height: 32px;\n",
              "      padding: 0 0 0 0;\n",
              "      width: 32px;\n",
              "    }\n",
              "\n",
              "    .colab-df-convert:hover {\n",
              "      background-color: #E2EBFA;\n",
              "      box-shadow: 0px 1px 2px rgba(60, 64, 67, 0.3), 0px 1px 3px 1px rgba(60, 64, 67, 0.15);\n",
              "      fill: #174EA6;\n",
              "    }\n",
              "\n",
              "    [theme=dark] .colab-df-convert {\n",
              "      background-color: #3B4455;\n",
              "      fill: #D2E3FC;\n",
              "    }\n",
              "\n",
              "    [theme=dark] .colab-df-convert:hover {\n",
              "      background-color: #434B5C;\n",
              "      box-shadow: 0px 1px 3px 1px rgba(0, 0, 0, 0.15);\n",
              "      filter: drop-shadow(0px 1px 2px rgba(0, 0, 0, 0.3));\n",
              "      fill: #FFFFFF;\n",
              "    }\n",
              "  </style>\n",
              "\n",
              "      <script>\n",
              "        const buttonEl =\n",
              "          document.querySelector('#df-ca944b99-0c65-4ffc-a4da-0c0cff527660 button.colab-df-convert');\n",
              "        buttonEl.style.display =\n",
              "          google.colab.kernel.accessAllowed ? 'block' : 'none';\n",
              "\n",
              "        async function convertToInteractive(key) {\n",
              "          const element = document.querySelector('#df-ca944b99-0c65-4ffc-a4da-0c0cff527660');\n",
              "          const dataTable =\n",
              "            await google.colab.kernel.invokeFunction('convertToInteractive',\n",
              "                                                     [key], {});\n",
              "          if (!dataTable) return;\n",
              "\n",
              "          const docLinkHtml = 'Like what you see? Visit the ' +\n",
              "            '<a target=\"_blank\" href=https://colab.research.google.com/notebooks/data_table.ipynb>data table notebook</a>'\n",
              "            + ' to learn more about interactive tables.';\n",
              "          element.innerHTML = '';\n",
              "          dataTable['output_type'] = 'display_data';\n",
              "          await google.colab.output.renderOutput(dataTable, element);\n",
              "          const docLink = document.createElement('div');\n",
              "          docLink.innerHTML = docLinkHtml;\n",
              "          element.appendChild(docLink);\n",
              "        }\n",
              "      </script>\n",
              "    </div>\n",
              "  </div>\n",
              "  "
            ]
          },
          "metadata": {},
          "execution_count": 28
        }
      ],
      "source": [
        "# split promotion feature\n",
        "items = split_nested_features(items, split_vars = 'promotion', sep = ',')\n",
        "items.head()"
      ]
    },
    {
      "cell_type": "code",
      "execution_count": 29,
      "metadata": {
        "colab": {
          "base_uri": "https://localhost:8080/"
        },
        "id": "1CxffAMXUwZz",
        "outputId": "32fa10be-e7f9-4f3c-8489-25149bd3311c"
      },
      "outputs": [
        {
          "output_type": "execute_result",
          "data": {
            "text/plain": [
              "itemID                            object\n",
              "simulationPrice                  float64\n",
              "brand                             object\n",
              "manufacturer                      object\n",
              "customerRating                   float64\n",
              "category1                         object\n",
              "category2                         object\n",
              "category3                         object\n",
              "recommendedRetailPrice           float64\n",
              "promotion_0               datetime64[ns]\n",
              "promotion_1               datetime64[ns]\n",
              "promotion_2               datetime64[ns]\n",
              "dtype: object"
            ]
          },
          "metadata": {},
          "execution_count": 29
        }
      ],
      "source": [
        "# convert date types\n",
        "promotion_vars = items.filter(like = 'promotion_').columns\n",
        "for var in promotion_vars:\n",
        "    items[var] = pd.to_datetime(items[var], infer_datetime_format = True)\n",
        "    \n",
        "items.dtypes"
      ]
    },
    {
      "cell_type": "markdown",
      "metadata": {
        "id": "80OlsP-AUwZz"
      },
      "source": [
        "# EXPORT"
      ]
    },
    {
      "cell_type": "code",
      "execution_count": 30,
      "metadata": {
        "colab": {
          "base_uri": "https://localhost:8080/"
        },
        "id": "Gx4sLytyUwZz",
        "outputId": "5c412d18-9f71-4e69-ee2c-e3fcc8c82fd3"
      },
      "outputs": [
        {
          "output_type": "stream",
          "name": "stdout",
          "text": [
            "Saved as /content/prepared/orders_v1.csv\n",
            "Saved as /content/prepared/items_v1.csv\n",
            "(2181955, 5)\n",
            "(10463, 12)\n"
          ]
        }
      ],
      "source": [
        "# save data frame\n",
        "# save_csv_version() automatically adds version number to prevent overwriting\n",
        "os.makedirs('/content/drive/MyDrive/DMC_2020/source_code/data/prepared', exist_ok=True)\n",
        "save_csv_version('/content/drive/MyDrive/DMC_2020/source_code/data/prepared/orders.csv', orders, index = False, compression = 'gzip')\n",
        "save_csv_version('/content/drive/MyDrive/DMC_2020/source_code/data/prepared/items.csv',  items,  index = False, compression = 'gzip')\n",
        "print(orders.shape)\n",
        "print(items.shape)"
      ]
    }
  ],
  "metadata": {
    "kernelspec": {
      "display_name": "Python 3",
      "language": "python",
      "name": "python3"
    },
    "language_info": {
      "codemirror_mode": {
        "name": "ipython",
        "version": 3
      },
      "file_extension": ".py",
      "mimetype": "text/x-python",
      "name": "python",
      "nbconvert_exporter": "python",
      "pygments_lexer": "ipython3",
      "version": "3.7.4"
    },
    "colab": {
      "provenance": []
    }
  },
  "nbformat": 4,
  "nbformat_minor": 0
}