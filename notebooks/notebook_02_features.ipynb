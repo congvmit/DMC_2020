{
  "cells": [
    {
      "cell_type": "markdown",
      "metadata": {
        "id": "Qe1Tcl2OZd6t"
      },
      "source": [
        "# SETTINGS\n",
        "\n",
        "This notebooks imports the processed data `orders.csv` and `items.csv` generated in `notebook_01_data_prep.ipynb`. \n",
        "\n",
        "The notebook performs the following operations:\n",
        "- creating new item and order-related features \n",
        "- transforming order data in the format suitable for modeling\n",
        "- exporting the resulting labeled and unlabeled data as `df.csv` and `df_test.csv`. \n",
        " \n",
        "The created features include:\n",
        "- fine-grained item categories\n",
        "- average customer ratings per category and manufacturer\n",
        "- mean prices per category and manufacturer\n",
        "- count and total amount of orders over previous time periods\n",
        "- number of promotion days \n",
        "- days since the last order\n",
        "- automatically extracted time series features using `tsfresh`\n",
        "\n",
        "A detailed walkthrough of the code covering the key steps is provided in [this blog post](https://kozodoi.me/python/time%20series/demand%20forecasting/competitions/2020/07/27/demand-forecasting.html)."
      ]
    },
    {
      "cell_type": "code",
      "source": [
        "from google.colab import drive\n",
        "drive.mount('/content/drive')"
      ],
      "metadata": {
        "id": "7rV-BGa_ZgiK",
        "outputId": "749b3dc9-1339-4645-ea5f-0f518163825b",
        "colab": {
          "base_uri": "https://localhost:8080/"
        }
      },
      "execution_count": 1,
      "outputs": [
        {
          "output_type": "stream",
          "name": "stdout",
          "text": [
            "Mounted at /content/drive\n"
          ]
        }
      ]
    },
    {
      "cell_type": "code",
      "source": [
        "%%bash \n",
        "pip install tsfresh -q"
      ],
      "metadata": {
        "id": "6pRCR4DAaLR5"
      },
      "execution_count": 4,
      "outputs": []
    },
    {
      "cell_type": "code",
      "execution_count": 5,
      "metadata": {
        "id": "oJUHk-IWZd6w",
        "outputId": "0429eb76-4a73-48c5-ad3d-841f3d708888",
        "colab": {
          "base_uri": "https://localhost:8080/"
        }
      },
      "outputs": [
        {
          "output_type": "stream",
          "name": "stderr",
          "text": [
            "ERROR:numba.cuda.cudadrv.driver:Call to cuInit results in CUDA_ERROR_NO_DEVICE\n"
          ]
        }
      ],
      "source": [
        "##### LIBRARIES\n",
        "\n",
        "import numpy as np\n",
        "import pandas as pd\n",
        "\n",
        "import matplotlib.pyplot as plt\n",
        "import seaborn as sns\n",
        "\n",
        "import scipy.stats\n",
        "from scipy.signal import find_peaks\n",
        "\n",
        "import os\n",
        "import time\n",
        "import datetime\n",
        "import random\n",
        "import multiprocessing\n",
        "import pickle\n",
        "import warnings\n",
        "import gc\n",
        "from tqdm import tqdm\n",
        "import sys\n",
        "\n",
        "from tsfresh import extract_features"
      ]
    },
    {
      "cell_type": "code",
      "execution_count": 6,
      "metadata": {
        "id": "mb0UFq4bZd6x"
      },
      "outputs": [],
      "source": [
        "##### MODULES\n",
        "\n",
        "sys.path.append('/content/drive/MyDrive/DMC_2020/source_code/codes')  \n",
        "\n",
        "from versioning import save_csv_version"
      ]
    },
    {
      "cell_type": "code",
      "execution_count": 7,
      "metadata": {
        "id": "ar4Q4JnYZd6y"
      },
      "outputs": [],
      "source": [
        "##### SETTINGS\n",
        "\n",
        "warnings.filterwarnings('ignore')\n",
        "pd.set_option('display.max_columns', None)\n",
        "plt.style.use('dark_background')\n",
        "%matplotlib inline\n",
        "gc.enable()"
      ]
    },
    {
      "cell_type": "markdown",
      "metadata": {
        "id": "nSxtsSM4Zd6y"
      },
      "source": [
        "# DATA IMPORT"
      ]
    },
    {
      "cell_type": "code",
      "execution_count": 8,
      "metadata": {
        "id": "aJbCkxfaZd6y",
        "outputId": "4eff29d3-5f10-4b82-d159-e4cf50c372ef",
        "colab": {
          "base_uri": "https://localhost:8080/"
        }
      },
      "outputs": [
        {
          "output_type": "stream",
          "name": "stdout",
          "text": [
            "(2181955, 5)\n",
            "(10463, 12)\n"
          ]
        }
      ],
      "source": [
        "# read data\n",
        "orders = pd.read_csv('/content/drive/MyDrive/DMC_2020/source_code/data/prepared/orders_v1.csv', compression = 'gzip')\n",
        "items  = pd.read_csv('/content/drive/MyDrive/DMC_2020/source_code/data/prepared/items_v1.csv',  compression = 'gzip')\n",
        "print(orders.shape)\n",
        "print(items.shape)"
      ]
    },
    {
      "cell_type": "code",
      "execution_count": 9,
      "metadata": {
        "id": "ne9K01QhZd6z"
      },
      "outputs": [],
      "source": [
        "# convert dates\n",
        "orders['time']       = pd.to_datetime(orders['time'].astype('str'),       infer_datetime_format = True)\n",
        "items['promotion_0'] = pd.to_datetime(items['promotion_0'].astype('str'), infer_datetime_format = True)\n",
        "items['promotion_1'] = pd.to_datetime(items['promotion_1'].astype('str'), infer_datetime_format = True)\n",
        "items['promotion_2'] = pd.to_datetime(items['promotion_2'].astype('str'), infer_datetime_format = True)"
      ]
    },
    {
      "cell_type": "markdown",
      "metadata": {
        "id": "hQyxb-zbZd6z"
      },
      "source": [
        "# ADD FEATURES: ITEMS"
      ]
    },
    {
      "cell_type": "code",
      "execution_count": 10,
      "metadata": {
        "id": "R2V_67RaZd6z",
        "outputId": "30746431-f45e-480f-c00f-0f1d273c4849",
        "colab": {
          "base_uri": "https://localhost:8080/",
          "height": 206
        }
      },
      "outputs": [
        {
          "output_type": "execute_result",
          "data": {
            "text/plain": [
              "   itemID  simulationPrice  brand  manufacturer  customerRating  category1  \\\n",
              "0       1             3.43    NaN             1            4.38          1   \n",
              "1       2             9.15    NaN             2            3.00          1   \n",
              "2       3            14.04    NaN             3            5.00          1   \n",
              "3       4            14.10    NaN             2            4.44          1   \n",
              "4       5             7.48    NaN             2            2.33          1   \n",
              "\n",
              "   category2  category3  recommendedRetailPrice promotion_0 promotion_1  \\\n",
              "0          1          1                    8.84         NaT         NaT   \n",
              "1          2          1                   16.92         NaT         NaT   \n",
              "2          3          1                   15.89         NaT         NaT   \n",
              "3          2          1                   40.17         NaT         NaT   \n",
              "4          1          1                   17.04         NaT         NaT   \n",
              "\n",
              "  promotion_2  \n",
              "0         NaT  \n",
              "1         NaT  \n",
              "2         NaT  \n",
              "3         NaT  \n",
              "4         NaT  "
            ],
            "text/html": [
              "\n",
              "  <div id=\"df-18afd9de-fa74-4b34-8112-ffe268fb9d83\">\n",
              "    <div class=\"colab-df-container\">\n",
              "      <div>\n",
              "<style scoped>\n",
              "    .dataframe tbody tr th:only-of-type {\n",
              "        vertical-align: middle;\n",
              "    }\n",
              "\n",
              "    .dataframe tbody tr th {\n",
              "        vertical-align: top;\n",
              "    }\n",
              "\n",
              "    .dataframe thead th {\n",
              "        text-align: right;\n",
              "    }\n",
              "</style>\n",
              "<table border=\"1\" class=\"dataframe\">\n",
              "  <thead>\n",
              "    <tr style=\"text-align: right;\">\n",
              "      <th></th>\n",
              "      <th>itemID</th>\n",
              "      <th>simulationPrice</th>\n",
              "      <th>brand</th>\n",
              "      <th>manufacturer</th>\n",
              "      <th>customerRating</th>\n",
              "      <th>category1</th>\n",
              "      <th>category2</th>\n",
              "      <th>category3</th>\n",
              "      <th>recommendedRetailPrice</th>\n",
              "      <th>promotion_0</th>\n",
              "      <th>promotion_1</th>\n",
              "      <th>promotion_2</th>\n",
              "    </tr>\n",
              "  </thead>\n",
              "  <tbody>\n",
              "    <tr>\n",
              "      <th>0</th>\n",
              "      <td>1</td>\n",
              "      <td>3.43</td>\n",
              "      <td>NaN</td>\n",
              "      <td>1</td>\n",
              "      <td>4.38</td>\n",
              "      <td>1</td>\n",
              "      <td>1</td>\n",
              "      <td>1</td>\n",
              "      <td>8.84</td>\n",
              "      <td>NaT</td>\n",
              "      <td>NaT</td>\n",
              "      <td>NaT</td>\n",
              "    </tr>\n",
              "    <tr>\n",
              "      <th>1</th>\n",
              "      <td>2</td>\n",
              "      <td>9.15</td>\n",
              "      <td>NaN</td>\n",
              "      <td>2</td>\n",
              "      <td>3.00</td>\n",
              "      <td>1</td>\n",
              "      <td>2</td>\n",
              "      <td>1</td>\n",
              "      <td>16.92</td>\n",
              "      <td>NaT</td>\n",
              "      <td>NaT</td>\n",
              "      <td>NaT</td>\n",
              "    </tr>\n",
              "    <tr>\n",
              "      <th>2</th>\n",
              "      <td>3</td>\n",
              "      <td>14.04</td>\n",
              "      <td>NaN</td>\n",
              "      <td>3</td>\n",
              "      <td>5.00</td>\n",
              "      <td>1</td>\n",
              "      <td>3</td>\n",
              "      <td>1</td>\n",
              "      <td>15.89</td>\n",
              "      <td>NaT</td>\n",
              "      <td>NaT</td>\n",
              "      <td>NaT</td>\n",
              "    </tr>\n",
              "    <tr>\n",
              "      <th>3</th>\n",
              "      <td>4</td>\n",
              "      <td>14.10</td>\n",
              "      <td>NaN</td>\n",
              "      <td>2</td>\n",
              "      <td>4.44</td>\n",
              "      <td>1</td>\n",
              "      <td>2</td>\n",
              "      <td>1</td>\n",
              "      <td>40.17</td>\n",
              "      <td>NaT</td>\n",
              "      <td>NaT</td>\n",
              "      <td>NaT</td>\n",
              "    </tr>\n",
              "    <tr>\n",
              "      <th>4</th>\n",
              "      <td>5</td>\n",
              "      <td>7.48</td>\n",
              "      <td>NaN</td>\n",
              "      <td>2</td>\n",
              "      <td>2.33</td>\n",
              "      <td>1</td>\n",
              "      <td>1</td>\n",
              "      <td>1</td>\n",
              "      <td>17.04</td>\n",
              "      <td>NaT</td>\n",
              "      <td>NaT</td>\n",
              "      <td>NaT</td>\n",
              "    </tr>\n",
              "  </tbody>\n",
              "</table>\n",
              "</div>\n",
              "      <button class=\"colab-df-convert\" onclick=\"convertToInteractive('df-18afd9de-fa74-4b34-8112-ffe268fb9d83')\"\n",
              "              title=\"Convert this dataframe to an interactive table.\"\n",
              "              style=\"display:none;\">\n",
              "        \n",
              "  <svg xmlns=\"http://www.w3.org/2000/svg\" height=\"24px\"viewBox=\"0 0 24 24\"\n",
              "       width=\"24px\">\n",
              "    <path d=\"M0 0h24v24H0V0z\" fill=\"none\"/>\n",
              "    <path d=\"M18.56 5.44l.94 2.06.94-2.06 2.06-.94-2.06-.94-.94-2.06-.94 2.06-2.06.94zm-11 1L8.5 8.5l.94-2.06 2.06-.94-2.06-.94L8.5 2.5l-.94 2.06-2.06.94zm10 10l.94 2.06.94-2.06 2.06-.94-2.06-.94-.94-2.06-.94 2.06-2.06.94z\"/><path d=\"M17.41 7.96l-1.37-1.37c-.4-.4-.92-.59-1.43-.59-.52 0-1.04.2-1.43.59L10.3 9.45l-7.72 7.72c-.78.78-.78 2.05 0 2.83L4 21.41c.39.39.9.59 1.41.59.51 0 1.02-.2 1.41-.59l7.78-7.78 2.81-2.81c.8-.78.8-2.07 0-2.86zM5.41 20L4 18.59l7.72-7.72 1.47 1.35L5.41 20z\"/>\n",
              "  </svg>\n",
              "      </button>\n",
              "      \n",
              "  <style>\n",
              "    .colab-df-container {\n",
              "      display:flex;\n",
              "      flex-wrap:wrap;\n",
              "      gap: 12px;\n",
              "    }\n",
              "\n",
              "    .colab-df-convert {\n",
              "      background-color: #E8F0FE;\n",
              "      border: none;\n",
              "      border-radius: 50%;\n",
              "      cursor: pointer;\n",
              "      display: none;\n",
              "      fill: #1967D2;\n",
              "      height: 32px;\n",
              "      padding: 0 0 0 0;\n",
              "      width: 32px;\n",
              "    }\n",
              "\n",
              "    .colab-df-convert:hover {\n",
              "      background-color: #E2EBFA;\n",
              "      box-shadow: 0px 1px 2px rgba(60, 64, 67, 0.3), 0px 1px 3px 1px rgba(60, 64, 67, 0.15);\n",
              "      fill: #174EA6;\n",
              "    }\n",
              "\n",
              "    [theme=dark] .colab-df-convert {\n",
              "      background-color: #3B4455;\n",
              "      fill: #D2E3FC;\n",
              "    }\n",
              "\n",
              "    [theme=dark] .colab-df-convert:hover {\n",
              "      background-color: #434B5C;\n",
              "      box-shadow: 0px 1px 3px 1px rgba(0, 0, 0, 0.15);\n",
              "      filter: drop-shadow(0px 1px 2px rgba(0, 0, 0, 0.3));\n",
              "      fill: #FFFFFF;\n",
              "    }\n",
              "  </style>\n",
              "\n",
              "      <script>\n",
              "        const buttonEl =\n",
              "          document.querySelector('#df-18afd9de-fa74-4b34-8112-ffe268fb9d83 button.colab-df-convert');\n",
              "        buttonEl.style.display =\n",
              "          google.colab.kernel.accessAllowed ? 'block' : 'none';\n",
              "\n",
              "        async function convertToInteractive(key) {\n",
              "          const element = document.querySelector('#df-18afd9de-fa74-4b34-8112-ffe268fb9d83');\n",
              "          const dataTable =\n",
              "            await google.colab.kernel.invokeFunction('convertToInteractive',\n",
              "                                                     [key], {});\n",
              "          if (!dataTable) return;\n",
              "\n",
              "          const docLinkHtml = 'Like what you see? Visit the ' +\n",
              "            '<a target=\"_blank\" href=https://colab.research.google.com/notebooks/data_table.ipynb>data table notebook</a>'\n",
              "            + ' to learn more about interactive tables.';\n",
              "          element.innerHTML = '';\n",
              "          dataTable['output_type'] = 'display_data';\n",
              "          await google.colab.output.renderOutput(dataTable, element);\n",
              "          const docLink = document.createElement('div');\n",
              "          docLink.innerHTML = docLinkHtml;\n",
              "          element.appendChild(docLink);\n",
              "        }\n",
              "      </script>\n",
              "    </div>\n",
              "  </div>\n",
              "  "
            ]
          },
          "metadata": {},
          "execution_count": 10
        }
      ],
      "source": [
        "items.head()"
      ]
    },
    {
      "cell_type": "code",
      "execution_count": 11,
      "metadata": {
        "id": "rrO0QUkZZd6z",
        "outputId": "1bec8365-565f-4668-d1cb-b7158e62223c",
        "colab": {
          "base_uri": "https://localhost:8080/"
        }
      },
      "outputs": [
        {
          "output_type": "execute_result",
          "data": {
            "text/plain": [
              "count    10463.000000\n",
              "mean         0.957107\n",
              "std          0.616878\n",
              "min          0.020094\n",
              "25%          0.449184\n",
              "50%          0.813378\n",
              "75%          1.359211\n",
              "max          5.678983\n",
              "Name: recommended_simulation_price_ratio, dtype: float64"
            ]
          },
          "metadata": {},
          "execution_count": 11
        }
      ],
      "source": [
        "# price ratio\n",
        "items['recommended_simulation_price_ratio'] = items['simulationPrice'] / items['recommendedRetailPrice']\n",
        "items['recommended_simulation_price_ratio'].describe()"
      ]
    },
    {
      "cell_type": "code",
      "execution_count": 12,
      "metadata": {
        "id": "P4B2FC63Zd60",
        "outputId": "755828f1-5fe0-4748-c027-9df316eff59d",
        "colab": {
          "base_uri": "https://localhost:8080/"
        }
      },
      "outputs": [
        {
          "output_type": "execute_result",
          "data": {
            "text/plain": [
              "75"
            ]
          },
          "metadata": {},
          "execution_count": 12
        }
      ],
      "source": [
        "# detailed item category\n",
        "items['category'] = items['category1'].astype(str) + items['category2'].astype(str) + items['category3'].astype(str)\n",
        "items['category'] = items['category'].astype(int)\n",
        "items['category'].nunique()"
      ]
    },
    {
      "cell_type": "code",
      "execution_count": 13,
      "metadata": {
        "id": "ZtTPWempZd60",
        "outputId": "4b37edc0-aef1-49fc-9f76-d755efde3584",
        "colab": {
          "base_uri": "https://localhost:8080/"
        }
      },
      "outputs": [
        {
          "output_type": "execute_result",
          "data": {
            "text/plain": [
              "count    3346.000000\n",
              "mean        1.000000\n",
              "std         0.231363\n",
              "min         0.211680\n",
              "25%         0.944197\n",
              "50%         1.060606\n",
              "75%         1.136024\n",
              "max         1.767617\n",
              "Name: customerRating_manufacturer_ratio, dtype: float64"
            ]
          },
          "metadata": {},
          "execution_count": 13
        }
      ],
      "source": [
        "# customer rating ratio per manufacturer\n",
        "rating_manufacturer = items.groupby('manufacturer')['customerRating'].agg('mean').reset_index()\n",
        "rating_manufacturer.columns = ['manufacturer', 'mean_customerRating_manufacturer']\n",
        "items = items.merge(rating_manufacturer, how = 'left', on = 'manufacturer')\n",
        "items['customerRating_manufacturer_ratio'] = items['customerRating'] / items['mean_customerRating_manufacturer']\n",
        "del items['mean_customerRating_manufacturer']\n",
        "items['customerRating_manufacturer_ratio'].describe()"
      ]
    },
    {
      "cell_type": "code",
      "execution_count": 14,
      "metadata": {
        "id": "E6P9wfkaZd60",
        "outputId": "0055d07c-9ae7-4ba3-e535-631b29cc317d",
        "colab": {
          "base_uri": "https://localhost:8080/"
        }
      },
      "outputs": [
        {
          "output_type": "execute_result",
          "data": {
            "text/plain": [
              "count    3346.000000\n",
              "mean        1.000000\n",
              "std         0.233089\n",
              "min         0.211423\n",
              "25%         0.927767\n",
              "50%         1.098585\n",
              "75%         1.125704\n",
              "max         1.714286\n",
              "Name: customerRating_category_ratio, dtype: float64"
            ]
          },
          "metadata": {},
          "execution_count": 14
        }
      ],
      "source": [
        "# customer rating ratio per category\n",
        "rating_category = items.groupby('category')['customerRating'].agg('mean').reset_index()\n",
        "rating_category.columns = ['category', 'mean_customerRating_category']\n",
        "items = items.merge(rating_category, how = 'left', on = 'category')\n",
        "items['customerRating_category_ratio'] = items['customerRating'] / items['mean_customerRating_category']\n",
        "del items['mean_customerRating_category']\n",
        "items['customerRating_category_ratio'].describe()"
      ]
    },
    {
      "cell_type": "markdown",
      "metadata": {
        "id": "3Rwj1fxeZd60"
      },
      "source": [
        "# ADD FEATURES: ORDERS"
      ]
    },
    {
      "cell_type": "code",
      "execution_count": 15,
      "metadata": {
        "id": "N4ZLvECGZd60",
        "outputId": "c1370b4b-77f6-40d6-b06d-024202df0e8f",
        "colab": {
          "base_uri": "https://localhost:8080/"
        }
      },
      "outputs": [
        {
          "output_type": "stream",
          "name": "stdout",
          "text": [
            "2715559\n"
          ]
        }
      ],
      "source": [
        "# total orders\n",
        "print(orders['order'].sum())"
      ]
    },
    {
      "cell_type": "code",
      "execution_count": 16,
      "metadata": {
        "id": "Wi0umhg1Zd61",
        "outputId": "d960f737-ab38-4517-d8c6-5fa6be1fe6ca",
        "colab": {
          "base_uri": "https://localhost:8080/",
          "height": 206
        }
      },
      "outputs": [
        {
          "output_type": "execute_result",
          "data": {
            "text/plain": [
              "   itemID  day_of_year  order\n",
              "0       1           23      1\n",
              "1       1           25      1\n",
              "2       1           29    307\n",
              "3       1           30      3\n",
              "4       1           31      1"
            ],
            "text/html": [
              "\n",
              "  <div id=\"df-7240008a-391a-4901-b3e0-d011c36bda19\">\n",
              "    <div class=\"colab-df-container\">\n",
              "      <div>\n",
              "<style scoped>\n",
              "    .dataframe tbody tr th:only-of-type {\n",
              "        vertical-align: middle;\n",
              "    }\n",
              "\n",
              "    .dataframe tbody tr th {\n",
              "        vertical-align: top;\n",
              "    }\n",
              "\n",
              "    .dataframe thead th {\n",
              "        text-align: right;\n",
              "    }\n",
              "</style>\n",
              "<table border=\"1\" class=\"dataframe\">\n",
              "  <thead>\n",
              "    <tr style=\"text-align: right;\">\n",
              "      <th></th>\n",
              "      <th>itemID</th>\n",
              "      <th>day_of_year</th>\n",
              "      <th>order</th>\n",
              "    </tr>\n",
              "  </thead>\n",
              "  <tbody>\n",
              "    <tr>\n",
              "      <th>0</th>\n",
              "      <td>1</td>\n",
              "      <td>23</td>\n",
              "      <td>1</td>\n",
              "    </tr>\n",
              "    <tr>\n",
              "      <th>1</th>\n",
              "      <td>1</td>\n",
              "      <td>25</td>\n",
              "      <td>1</td>\n",
              "    </tr>\n",
              "    <tr>\n",
              "      <th>2</th>\n",
              "      <td>1</td>\n",
              "      <td>29</td>\n",
              "      <td>307</td>\n",
              "    </tr>\n",
              "    <tr>\n",
              "      <th>3</th>\n",
              "      <td>1</td>\n",
              "      <td>30</td>\n",
              "      <td>3</td>\n",
              "    </tr>\n",
              "    <tr>\n",
              "      <th>4</th>\n",
              "      <td>1</td>\n",
              "      <td>31</td>\n",
              "      <td>1</td>\n",
              "    </tr>\n",
              "  </tbody>\n",
              "</table>\n",
              "</div>\n",
              "      <button class=\"colab-df-convert\" onclick=\"convertToInteractive('df-7240008a-391a-4901-b3e0-d011c36bda19')\"\n",
              "              title=\"Convert this dataframe to an interactive table.\"\n",
              "              style=\"display:none;\">\n",
              "        \n",
              "  <svg xmlns=\"http://www.w3.org/2000/svg\" height=\"24px\"viewBox=\"0 0 24 24\"\n",
              "       width=\"24px\">\n",
              "    <path d=\"M0 0h24v24H0V0z\" fill=\"none\"/>\n",
              "    <path d=\"M18.56 5.44l.94 2.06.94-2.06 2.06-.94-2.06-.94-.94-2.06-.94 2.06-2.06.94zm-11 1L8.5 8.5l.94-2.06 2.06-.94-2.06-.94L8.5 2.5l-.94 2.06-2.06.94zm10 10l.94 2.06.94-2.06 2.06-.94-2.06-.94-.94-2.06-.94 2.06-2.06.94z\"/><path d=\"M17.41 7.96l-1.37-1.37c-.4-.4-.92-.59-1.43-.59-.52 0-1.04.2-1.43.59L10.3 9.45l-7.72 7.72c-.78.78-.78 2.05 0 2.83L4 21.41c.39.39.9.59 1.41.59.51 0 1.02-.2 1.41-.59l7.78-7.78 2.81-2.81c.8-.78.8-2.07 0-2.86zM5.41 20L4 18.59l7.72-7.72 1.47 1.35L5.41 20z\"/>\n",
              "  </svg>\n",
              "      </button>\n",
              "      \n",
              "  <style>\n",
              "    .colab-df-container {\n",
              "      display:flex;\n",
              "      flex-wrap:wrap;\n",
              "      gap: 12px;\n",
              "    }\n",
              "\n",
              "    .colab-df-convert {\n",
              "      background-color: #E8F0FE;\n",
              "      border: none;\n",
              "      border-radius: 50%;\n",
              "      cursor: pointer;\n",
              "      display: none;\n",
              "      fill: #1967D2;\n",
              "      height: 32px;\n",
              "      padding: 0 0 0 0;\n",
              "      width: 32px;\n",
              "    }\n",
              "\n",
              "    .colab-df-convert:hover {\n",
              "      background-color: #E2EBFA;\n",
              "      box-shadow: 0px 1px 2px rgba(60, 64, 67, 0.3), 0px 1px 3px 1px rgba(60, 64, 67, 0.15);\n",
              "      fill: #174EA6;\n",
              "    }\n",
              "\n",
              "    [theme=dark] .colab-df-convert {\n",
              "      background-color: #3B4455;\n",
              "      fill: #D2E3FC;\n",
              "    }\n",
              "\n",
              "    [theme=dark] .colab-df-convert:hover {\n",
              "      background-color: #434B5C;\n",
              "      box-shadow: 0px 1px 3px 1px rgba(0, 0, 0, 0.15);\n",
              "      filter: drop-shadow(0px 1px 2px rgba(0, 0, 0, 0.3));\n",
              "      fill: #FFFFFF;\n",
              "    }\n",
              "  </style>\n",
              "\n",
              "      <script>\n",
              "        const buttonEl =\n",
              "          document.querySelector('#df-7240008a-391a-4901-b3e0-d011c36bda19 button.colab-df-convert');\n",
              "        buttonEl.style.display =\n",
              "          google.colab.kernel.accessAllowed ? 'block' : 'none';\n",
              "\n",
              "        async function convertToInteractive(key) {\n",
              "          const element = document.querySelector('#df-7240008a-391a-4901-b3e0-d011c36bda19');\n",
              "          const dataTable =\n",
              "            await google.colab.kernel.invokeFunction('convertToInteractive',\n",
              "                                                     [key], {});\n",
              "          if (!dataTable) return;\n",
              "\n",
              "          const docLinkHtml = 'Like what you see? Visit the ' +\n",
              "            '<a target=\"_blank\" href=https://colab.research.google.com/notebooks/data_table.ipynb>data table notebook</a>'\n",
              "            + ' to learn more about interactive tables.';\n",
              "          element.innerHTML = '';\n",
              "          dataTable['output_type'] = 'display_data';\n",
              "          await google.colab.output.renderOutput(dataTable, element);\n",
              "          const docLink = document.createElement('div');\n",
              "          docLink.innerHTML = docLinkHtml;\n",
              "          element.appendChild(docLink);\n",
              "        }\n",
              "      </script>\n",
              "    </div>\n",
              "  </div>\n",
              "  "
            ]
          },
          "metadata": {},
          "execution_count": 16
        }
      ],
      "source": [
        "##### AGGREGATE ORDERS BY DAY\n",
        "\n",
        "# aggregation\n",
        "orders['day_of_year'] = orders['time'].dt.dayofyear\n",
        "orders_price = orders.groupby(['itemID', 'day_of_year'])['salesPrice'].agg('mean').reset_index()\n",
        "orders = orders.groupby(['itemID', 'day_of_year'])['order'].agg('sum').reset_index()\n",
        "orders.head()"
      ]
    },
    {
      "cell_type": "code",
      "execution_count": 17,
      "metadata": {
        "id": "kLkMMzlLZd61",
        "outputId": "f5442756-fee5-4f4d-b817-46ca69e80a24",
        "colab": {
          "base_uri": "https://localhost:8080/"
        }
      },
      "outputs": [
        {
          "output_type": "stream",
          "name": "stdout",
          "text": [
            "2715559\n"
          ]
        }
      ],
      "source": [
        "# check total orders\n",
        "print(orders['order'].sum())"
      ]
    },
    {
      "cell_type": "code",
      "execution_count": 18,
      "metadata": {
        "id": "al8_UGIEZd61",
        "outputId": "c28d2051-a821-4ba1-ae8f-1ad637bfd5e4",
        "colab": {
          "base_uri": "https://localhost:8080/"
        }
      },
      "outputs": [
        {
          "output_type": "stream",
          "name": "stdout",
          "text": [
            "(100771, 3)\n",
            "(1883340, 3)\n"
          ]
        }
      ],
      "source": [
        "##### ADD MISSING INPUTS [ORDERS]\n",
        "\n",
        "# add items that were never sold before\n",
        "missing_itemIDs = set(items['itemID'].unique()) - set(orders['itemID'].unique())\n",
        "missing_rows = pd.DataFrame({'itemID':     list(missing_itemIDs), \n",
        "                            'day_of_year': np.ones(len(missing_itemIDs)).astype('int'), \n",
        "                            'order':       np.zeros(len(missing_itemIDs)).astype('int')})\n",
        "orders = pd.concat([orders, missing_rows], axis = 0)\n",
        "print(orders.shape)\n",
        "\n",
        "# add zeros for days with no transactions\n",
        "agg_orders = orders.groupby(['itemID', 'day_of_year']).order.unique().unstack('day_of_year').stack('day_of_year', dropna = False)\n",
        "agg_orders = agg_orders.reset_index()\n",
        "agg_orders.columns = ['itemID', 'day_of_year', 'order']\n",
        "agg_orders['order'].fillna(0, inplace = True)\n",
        "agg_orders['order'] = agg_orders['order'].astype(int)\n",
        "print(agg_orders.shape)"
      ]
    },
    {
      "cell_type": "code",
      "execution_count": 19,
      "metadata": {
        "id": "Dao6LjSUZd61",
        "outputId": "62e4b3d5-00fe-462f-83ec-6288b4d1ccb4",
        "colab": {
          "base_uri": "https://localhost:8080/"
        }
      },
      "outputs": [
        {
          "output_type": "stream",
          "name": "stdout",
          "text": [
            "(100771, 3)\n",
            "(1883340, 3)\n",
            "(1883340, 4)\n"
          ]
        }
      ],
      "source": [
        "##### ADD MISSING INPUTS [PRICES]\n",
        "\n",
        "# add items that were never sold before\n",
        "missing_rows = pd.DataFrame({'itemID':     list(missing_itemIDs), \n",
        "                            'day_of_year': np.ones(len(missing_itemIDs)).astype('int'), \n",
        "                            'salesPrice':  np.zeros(len(missing_itemIDs)).astype('int')})\n",
        "orders_price = pd.concat([orders_price, missing_rows], axis = 0)\n",
        "print(orders_price.shape)\n",
        "\n",
        "# add zeros for days with no transactions\n",
        "agg_orders_price = orders_price.groupby(['itemID', 'day_of_year']).salesPrice.unique().unstack('day_of_year').stack('day_of_year', dropna = False)\n",
        "agg_orders_price = agg_orders_price.reset_index()\n",
        "agg_orders_price.columns = ['itemID', 'day_of_year', 'salesPrice']\n",
        "agg_orders_price['salesPrice'].fillna(0, inplace = True)\n",
        "agg_orders_price['salesPrice'] = agg_orders_price['salesPrice'].astype(int)\n",
        "agg_orders_price['salesPrice'][agg_orders_price['salesPrice'] == 0] = np.nan\n",
        "print(agg_orders_price.shape)\n",
        "\n",
        "# fill missing prices for dates with no orders\n",
        "agg_orders_price['salesPrice'] = agg_orders_price.groupby(['itemID']).salesPrice.fillna(method = 'ffill')\n",
        "agg_orders_price['salesPrice'] = agg_orders_price.groupby(['itemID']).salesPrice.fillna(method = 'bfill')\n",
        "agg_orders_price = agg_orders_price.merge(items[['itemID', 'simulationPrice']], how = 'left', on = 'itemID')\n",
        "agg_orders_price['salesPrice'][agg_orders_price['salesPrice'].isnull()] = agg_orders_price['simulationPrice'][agg_orders_price['salesPrice'].isnull()]\n",
        "del agg_orders_price['simulationPrice']\n",
        "\n",
        "# merge prices to orders\n",
        "agg_orders = agg_orders.merge(agg_orders_price, how = 'left', on = ['itemID', 'day_of_year'])\n",
        "print(agg_orders.shape)"
      ]
    },
    {
      "cell_type": "code",
      "execution_count": 20,
      "metadata": {
        "id": "YsLr8EyeZd61",
        "outputId": "b5f2915c-d012-4ad0-db8b-f8fc99cc7c3a",
        "colab": {
          "base_uri": "https://localhost:8080/"
        }
      },
      "outputs": [
        {
          "output_type": "stream",
          "name": "stderr",
          "text": [
            "100%|██████████| 10463/10463 [00:58<00:00, 180.00it/s]"
          ]
        },
        {
          "output_type": "stream",
          "name": "stdout",
          "text": [
            "14920\n"
          ]
        },
        {
          "output_type": "stream",
          "name": "stderr",
          "text": [
            "\n"
          ]
        }
      ],
      "source": [
        "##### FIND PROMOTION DAYS\n",
        "\n",
        "# documentation says that we have to manually mark promotion days in the training period\n",
        "# without marking, predictions are difficult because orders in some days explode without apparent reason\n",
        "# we need to be very careful with threshold and rely on visual analysis and/or better metric to mark promos\n",
        "# I started with treating promotions as days when the number of orders for a given item exceeds 90th percentile\n",
        "# now I am trying to use a smarter technique using find_peaks() and specifying height and prominence\n",
        "\n",
        "# computations\n",
        "import numexpr\n",
        "\n",
        "\n",
        "def compute_peak(promo, avg, std, order_values):\n",
        "    peaks, _ = find_peaks(np.append(order_values, avg), # append avg to enable marking last point as promo\n",
        "                          prominence = max(5, std),  # peak difference with neighbor points; max(5,std) to exclude cases when std is too small\n",
        "                          height     = avg + 2*std)  # minimal height of a peak\n",
        "    return peaks\n",
        "\n",
        "def ne(values, itemID):\n",
        "    return numexpr.evaluate(f'(values == {itemID})')\n",
        "\n",
        "v_items_ = agg_orders['itemID'].astype(int).values\n",
        "agg_orders['promotion'] = 0\n",
        "for itemID in tqdm(agg_orders['itemID'].unique()):\n",
        "    '''\n",
        "    # using quantiles\n",
        "    promo_quant = orders[orders['itemID'] == itemID]['order'].quantile(0.90)\n",
        "    orders.loc[(orders['itemID'] == itemID) & (orders['order'] >= promo_quant), 'promotion'] = 1\n",
        "    '''\n",
        "    # using find_peaks\n",
        "    v_mask_ = ne(v_items_, int(itemID)) #agg_orders['itemID'] == itemID\n",
        "    v_orders_ = agg_orders[v_mask_]['order'].values\n",
        "\n",
        "    promo        = np.zeros(len(v_orders_))\n",
        "    avg          = np.median(v_orders_)\n",
        "    std          = np.std(v_orders_)\n",
        "    order_values = v_orders_\n",
        "    peaks, _ = find_peaks(np.append(order_values, avg), # append avg to enable marking last point as promo\n",
        "                          prominence = max(5, std),  # peak difference with neighbor points; max(5,std) to exclude cases when std is too small\n",
        "                          height     = avg + 2*std)  # minimal height of a peak\n",
        "    promo[peaks] = 1\n",
        "    agg_orders.loc[v_mask_, 'promotion'] = promo\n",
        "\n",
        "    ## Slow version\n",
        "    # promo    = np.zeros(len(agg_orders[agg_orders['itemID'] == itemID]))\n",
        "    # avg      = agg_orders[(agg_orders['itemID'] == itemID)]['order'].median()\n",
        "    # std      = agg_orders[(agg_orders['itemID'] == itemID)]['order'].std()\n",
        "    # peaks, _ = find_peaks(np.append(agg_orders[agg_orders['itemID'] == itemID]['order'].values, avg), # append avg to enable marking last point as promo\n",
        "    #                       prominence = max(5, std),  # peak difference with neighbor points; max(5,std) to exclude cases when std is too small\n",
        "    #                       height     = avg + 2*std)  # minimal height of a peak\n",
        "    # promo[peaks] = 1\n",
        "    # agg_orders.loc[agg_orders['itemID'] == itemID, 'promotion'] = promo\n",
        "    \n",
        "# check total promotions\n",
        "print(agg_orders['promotion'].sum())"
      ]
    },
    {
      "cell_type": "code",
      "source": [
        "print(agg_orders['promotion'].sum())"
      ],
      "metadata": {
        "id": "I5bzD3medD8x",
        "outputId": "49aa44cc-08d2-4d7b-b296-3ed061b8d5f9",
        "colab": {
          "base_uri": "https://localhost:8080/"
        }
      },
      "execution_count": 21,
      "outputs": [
        {
          "output_type": "stream",
          "name": "stdout",
          "text": [
            "14920\n"
          ]
        }
      ]
    },
    {
      "cell_type": "code",
      "execution_count": 22,
      "metadata": {
        "id": "l3mw3aH0Zd62",
        "outputId": "7ef8a3a1-f8fd-494a-e7f1-4e5af3405ead",
        "colab": {
          "base_uri": "https://localhost:8080/"
        }
      },
      "outputs": [
        {
          "output_type": "stream",
          "name": "stdout",
          "text": [
            "Daily p(promotion) per item in train: 0.0079\n",
            "Daily p(promotion) per item in test:  0.0141\n"
          ]
        }
      ],
      "source": [
        "##### COMPARE PROMOTIONS NUMBER\n",
        "\n",
        "# computations\n",
        "promo_in_train = (agg_orders['promotion'].sum() / agg_orders['day_of_year'].max()) / len(items)\n",
        "promo_in_test  = (3*len(items) - items.promotion_0.isnull().sum() - items.promotion_2.isnull().sum() - items.promotion_1.isnull().sum()) / 14 / len(items)\n",
        "\n",
        "# info\n",
        "print('Daily p(promotion) per item in train: {}'.format(np.round(promo_in_train, 4)))\n",
        "print('Daily p(promotion) per item in test:  {}'.format(np.round(promo_in_test , 4)))"
      ]
    },
    {
      "cell_type": "code",
      "execution_count": 23,
      "metadata": {
        "id": "D2wrO2KEZd62",
        "outputId": "d98be39c-28a9-4fe4-e5b9-245487d0e88b",
        "colab": {
          "base_uri": "https://localhost:8080/",
          "height": 1000
        }
      },
      "outputs": [
        {
          "output_type": "display_data",
          "data": {
            "text/plain": [
              "<Figure size 1600x1200 with 12 Axes>"
            ],
            "image/png": "[encoded data removed]"
          },
          "metadata": {}
        }
      ],
      "source": [
        "##### EXAMPLE SALES PLOT\n",
        "\n",
        "# compute promo count\n",
        "promo_count = agg_orders.groupby('itemID')['promotion'].agg('sum').reset_index()\n",
        "promo_count = promo_count.sort_values('promotion').reset_index(drop = True)\n",
        "\n",
        "# plot some items\n",
        "item_plots = [0, 2000, 4000, 6000, 8000, 9000, 10000, 10100, 10200, 10300, 10400, 10462]\n",
        "fig = plt.figure(figsize = (16, 12))\n",
        "for i in range(len(item_plots)):\n",
        "    plt.subplot(3, 4, i + 1)\n",
        "    df = agg_orders[agg_orders.itemID == promo_count['itemID'][item_plots[i]]]\n",
        "    plt.scatter(df['day_of_year'], df['order'], c = df['promotion'])\n",
        "    plt.ylabel('Total Orders')\n",
        "    plt.xlabel('Day')"
      ]
    },
    {
      "cell_type": "code",
      "execution_count": null,
      "metadata": {
        "collapsed": true,
        "jupyter": {
          "outputs_hidden": true
        },
        "id": "MflxdqrFZd62",
        "outputId": "feca8b1b-2aa3-432d-b6a5-eb641f7e2b7a",
        "colab": {
          "base_uri": "https://localhost:8080/"
        }
      },
      "outputs": [
        {
          "output_type": "stream",
          "name": "stderr",
          "text": [
            "\n",
            "Feature Extraction:   1%|          | 86/10463 [00:06<12:54, 13.41it/s]\u001b[A\n",
            "Feature Extraction:   1%|          | 88/10463 [00:07<12:49, 13.49it/s]\u001b[A\n",
            "Feature Extraction:   1%|          | 90/10463 [00:07<12:29, 13.85it/s]\u001b[A\n",
            "Feature Extraction:   1%|          | 92/10463 [00:07<12:38, 13.66it/s]\u001b[A\n",
            "Feature Extraction:   1%|          | 94/10463 [00:07<12:24, 13.92it/s]\u001b[A\n",
            "Feature Extraction:   1%|          | 96/10463 [00:07<12:19, 14.03it/s]\u001b[A\n",
            "Feature Extraction:   1%|          | 98/10463 [00:07<12:20, 13.99it/s]\u001b[A\n",
            "Feature Extraction:   1%|          | 100/10463 [00:07<12:50, 13.45it/s]\u001b[A\n",
            "Feature Extraction:   1%|          | 102/10463 [00:08<13:01, 13.26it/s]\u001b[A\n",
            "Feature Extraction:   1%|          | 104/10463 [00:08<13:01, 13.25it/s]\u001b[A\n",
            "Feature Extraction:   1%|          | 106/10463 [00:08<12:53, 13.38it/s]\u001b[A\n",
            "Feature Extraction:   1%|          | 108/10463 [00:08<13:05, 13.19it/s]\u001b[A\n",
            "Feature Extraction:   1%|          | 110/10463 [00:08<12:54, 13.37it/s]\u001b[A\n",
            "Feature Extraction:   1%|          | 112/10463 [00:08<13:16, 13.00it/s]\u001b[A\n",
            "Feature Extraction:   1%|          | 114/10463 [00:09<13:58, 12.35it/s]\u001b[A\n",
            "Feature Extraction:   1%|          | 116/10463 [00:09<13:46, 12.52it/s]\u001b[A\n",
            "Feature Extraction:   1%|          | 118/10463 [00:09<13:23, 12.87it/s]\u001b[A\n",
            "Feature Extraction:   1%|          | 120/10463 [00:09<13:15, 13.00it/s]\u001b[A\n",
            "Feature Extraction:   1%|          | 122/10463 [00:09<13:09, 13.11it/s]\u001b[A\n",
            "Feature Extraction:   1%|          | 124/10463 [00:09<12:52, 13.39it/s]\u001b[A\n",
            "Feature Extraction:   1%|          | 126/10463 [00:09<12:31, 13.76it/s]\u001b[A\n",
            "Feature Extraction:   1%|          | 128/10463 [00:10<12:49, 13.43it/s]\u001b[A\n",
            "Feature Extraction:   1%|          | 130/10463 [00:10<12:33, 13.71it/s]\u001b[A\n",
            "Feature Extraction:   1%|▏         | 132/10463 [00:10<12:20, 13.94it/s]\u001b[A\n",
            "Feature Extraction:   1%|▏         | 134/10463 [00:10<12:11, 14.12it/s]\u001b[A\n",
            "Feature Extraction:   1%|▏         | 136/10463 [00:10<12:18, 13.99it/s]\u001b[A\n",
            "Feature Extraction:   1%|▏         | 138/10463 [00:10<12:25, 13.86it/s]\u001b[A\n",
            "Feature Extraction:   1%|▏         | 140/10463 [00:10<12:28, 13.79it/s]\u001b[A\n",
            "Feature Extraction:   1%|▏         | 142/10463 [00:11<13:28, 12.76it/s]\u001b[A\n",
            "Feature Extraction:   1%|▏         | 144/10463 [00:11<14:14, 12.07it/s]\u001b[A\n",
            "Feature Extraction:   1%|▏         | 146/10463 [00:11<14:24, 11.94it/s]\u001b[A\n",
            "Feature Extraction:   1%|▏         | 148/10463 [00:11<14:34, 11.80it/s]\u001b[A\n",
            "Feature Extraction:   1%|▏         | 150/10463 [00:11<14:30, 11.85it/s]\u001b[A\n",
            "Feature Extraction:   1%|▏         | 152/10463 [00:11<14:23, 11.95it/s]\u001b[A\n",
            "Feature Extraction:   1%|▏         | 154/10463 [00:12<14:54, 11.52it/s]\u001b[A\n",
            "Feature Extraction:   1%|▏         | 156/10463 [00:12<14:16, 12.03it/s]\u001b[A\n",
            "Feature Extraction:   2%|▏         | 158/10463 [00:12<14:01, 12.25it/s]\u001b[A\n",
            "Feature Extraction:   2%|▏         | 160/10463 [00:12<13:48, 12.43it/s]\u001b[A\n",
            "Feature Extraction:   2%|▏         | 162/10463 [00:12<14:10, 12.12it/s]\u001b[A\n",
            "Feature Extraction:   2%|▏         | 164/10463 [00:12<14:29, 11.84it/s]\u001b[A\n",
            "Feature Extraction:   2%|▏         | 166/10463 [00:13<14:17, 12.00it/s]\u001b[A\n",
            "Feature Extraction:   2%|▏         | 168/10463 [00:13<14:19, 11.98it/s]\u001b[A\n",
            "Feature Extraction:   2%|▏         | 170/10463 [00:13<14:29, 11.83it/s]\u001b[A\n",
            "Feature Extraction:   2%|▏         | 172/10463 [00:13<13:59, 12.26it/s]\u001b[A\n",
            "Feature Extraction:   2%|▏         | 174/10463 [00:13<13:50, 12.39it/s]\u001b[A\n",
            "Feature Extraction:   2%|▏         | 176/10463 [00:13<13:35, 12.61it/s]\u001b[A\n",
            "Feature Extraction:   2%|▏         | 178/10463 [00:14<13:37, 12.58it/s]\u001b[A\n",
            "Feature Extraction:   2%|▏         | 180/10463 [00:14<13:37, 12.59it/s]\u001b[A\n",
            "Feature Extraction:   2%|▏         | 182/10463 [00:14<14:23, 11.91it/s]\u001b[A\n",
            "Feature Extraction:   2%|▏         | 184/10463 [00:14<14:00, 12.24it/s]\u001b[A\n",
            "Feature Extraction:   2%|▏         | 186/10463 [00:14<14:08, 12.11it/s]\u001b[A\n",
            "Feature Extraction:   2%|▏         | 188/10463 [00:14<14:41, 11.66it/s]\u001b[A\n",
            "Feature Extraction:   2%|▏         | 190/10463 [00:15<16:26, 10.41it/s]\u001b[A\n",
            "Feature Extraction:   2%|▏         | 192/10463 [00:15<16:10, 10.58it/s]\u001b[A\n",
            "Feature Extraction:   2%|▏         | 194/10463 [00:15<17:09,  9.98it/s]\u001b[A\n",
            "Feature Extraction:   2%|▏         | 196/10463 [00:15<17:22,  9.84it/s]\u001b[A\n",
            "Feature Extraction:   2%|▏         | 198/10463 [00:16<17:26,  9.81it/s]\u001b[A\n",
            "Feature Extraction:   2%|▏         | 199/10463 [00:16<17:49,  9.60it/s]\u001b[A\n",
            "Feature Extraction:   2%|▏         | 200/10463 [00:16<17:52,  9.57it/s]\u001b[A\n",
            "Feature Extraction:   2%|▏         | 201/10463 [00:16<18:09,  9.42it/s]\u001b[A\n",
            "Feature Extraction:   2%|▏         | 202/10463 [00:16<19:03,  8.98it/s]\u001b[A\n",
            "Feature Extraction:   2%|▏         | 203/10463 [00:16<18:41,  9.15it/s]\u001b[A\n",
            "Feature Extraction:   2%|▏         | 205/10463 [00:16<17:26,  9.80it/s]\u001b[A\n",
            "Feature Extraction:   2%|▏         | 206/10463 [00:16<18:13,  9.38it/s]\u001b[A\n",
            "Feature Extraction:   2%|▏         | 207/10463 [00:17<18:27,  9.26it/s]\u001b[A\n",
            "Feature Extraction:   2%|▏         | 209/10463 [00:17<16:50, 10.15it/s]\u001b[A\n",
            "Feature Extraction:   2%|▏         | 210/10463 [00:17<17:44,  9.63it/s]\u001b[A\n",
            "Feature Extraction:   2%|▏         | 212/10463 [00:17<16:34, 10.31it/s]\u001b[A\n",
            "Feature Extraction:   2%|▏         | 214/10463 [00:17<16:41, 10.23it/s]\u001b[A\n",
            "Feature Extraction:   2%|▏         | 216/10463 [00:17<16:13, 10.53it/s]\u001b[A\n",
            "Feature Extraction:   2%|▏         | 218/10463 [00:18<16:07, 10.59it/s]\u001b[A\n",
            "Feature Extraction:   2%|▏         | 220/10463 [00:18<15:58, 10.68it/s]\u001b[A\n",
            "Feature Extraction:   2%|▏         | 222/10463 [00:18<15:27, 11.05it/s]\u001b[A\n",
            "Feature Extraction:   2%|▏         | 224/10463 [00:18<15:48, 10.80it/s]\u001b[A\n",
            "Feature Extraction:   2%|▏         | 226/10463 [00:18<15:33, 10.97it/s]\u001b[A\n",
            "Feature Extraction:   2%|▏         | 228/10463 [00:18<15:41, 10.87it/s]\u001b[A\n",
            "Feature Extraction:   2%|▏         | 230/10463 [00:19<14:55, 11.43it/s]\u001b[A\n",
            "Feature Extraction:   2%|▏         | 232/10463 [00:19<14:24, 11.84it/s]\u001b[A\n",
            "Feature Extraction:   2%|▏         | 234/10463 [00:19<14:06, 12.08it/s]\u001b[A\n",
            "Feature Extraction:   2%|▏         | 236/10463 [00:19<13:35, 12.55it/s]\u001b[A\n",
            "Feature Extraction:   2%|▏         | 238/10463 [00:19<13:46, 12.38it/s]\u001b[A\n",
            "Feature Extraction:   2%|▏         | 240/10463 [00:19<13:31, 12.61it/s]\u001b[A\n",
            "Feature Extraction:   2%|▏         | 242/10463 [00:20<13:14, 12.87it/s]\u001b[A\n",
            "Feature Extraction:   2%|▏         | 244/10463 [00:20<13:02, 13.07it/s]\u001b[A\n",
            "Feature Extraction:   2%|▏         | 246/10463 [00:20<12:52, 13.23it/s]\u001b[A\n",
            "Feature Extraction:   2%|▏         | 248/10463 [00:20<12:56, 13.15it/s]\u001b[A\n",
            "Feature Extraction:   2%|▏         | 250/10463 [00:20<12:55, 13.17it/s]\u001b[A\n",
            "Feature Extraction:   2%|▏         | 252/10463 [00:20<13:14, 12.85it/s]\u001b[A\n",
            "Feature Extraction:   2%|▏         | 254/10463 [00:20<13:14, 12.85it/s]\u001b[A\n",
            "Feature Extraction:   2%|▏         | 256/10463 [00:21<13:15, 12.83it/s]\u001b[A\n",
            "Feature Extraction:   2%|▏         | 258/10463 [00:21<14:03, 12.10it/s]\u001b[A\n",
            "Feature Extraction:   2%|▏         | 260/10463 [00:21<14:26, 11.78it/s]\u001b[A\n",
            "Feature Extraction:   3%|▎         | 262/10463 [00:21<14:04, 12.08it/s]\u001b[A\n",
            "Feature Extraction:   3%|▎         | 264/10463 [00:21<14:11, 11.97it/s]\u001b[A\n",
            "Feature Extraction:   3%|▎         | 266/10463 [00:21<13:54, 12.22it/s]\u001b[A\n",
            "Feature Extraction:   3%|▎         | 268/10463 [00:22<13:51, 12.26it/s]\u001b[A\n",
            "Feature Extraction:   3%|▎         | 270/10463 [00:22<13:30, 12.57it/s]\u001b[A\n",
            "Feature Extraction:   3%|▎         | 272/10463 [00:22<13:12, 12.86it/s]\u001b[A\n",
            "Feature Extraction:   3%|▎         | 274/10463 [00:22<13:10, 12.88it/s]\u001b[A\n",
            "Feature Extraction:   3%|▎         | 276/10463 [00:22<12:54, 13.16it/s]\u001b[A\n",
            "Feature Extraction:   3%|▎         | 278/10463 [00:22<12:50, 13.22it/s]\u001b[A\n",
            "Feature Extraction:   3%|▎         | 280/10463 [00:23<12:48, 13.24it/s]\u001b[A\n",
            "Feature Extraction:   3%|▎         | 282/10463 [00:23<12:56, 13.11it/s]\u001b[A\n",
            "Feature Extraction:   3%|▎         | 284/10463 [00:23<12:52, 13.18it/s]\u001b[A\n",
            "Feature Extraction:   3%|▎         | 286/10463 [00:23<12:53, 13.16it/s]\u001b[A\n",
            "Feature Extraction:   3%|▎         | 288/10463 [00:23<12:50, 13.21it/s]\u001b[A\n",
            "Feature Extraction:   3%|▎         | 290/10463 [00:23<12:50, 13.21it/s]\u001b[A\n",
            "Feature Extraction:   3%|▎         | 292/10463 [00:23<12:41, 13.35it/s]\u001b[A\n",
            "Feature Extraction:   3%|▎         | 294/10463 [00:24<12:19, 13.75it/s]\u001b[A\n",
            "Feature Extraction:   3%|▎         | 296/10463 [00:24<12:11, 13.90it/s]\u001b[A\n",
            "Feature Extraction:   3%|▎         | 298/10463 [00:24<12:03, 14.04it/s]\u001b[A\n",
            "Feature Extraction:   3%|▎         | 300/10463 [00:24<12:00, 14.11it/s]\u001b[A\n",
            "Feature Extraction:   3%|▎         | 302/10463 [00:24<11:51, 14.29it/s]\u001b[A\n",
            "Feature Extraction:   3%|▎         | 304/10463 [00:24<11:52, 14.27it/s]\u001b[A\n",
            "Feature Extraction:   3%|▎         | 306/10463 [00:24<11:57, 14.15it/s]\u001b[A\n",
            "Feature Extraction:   3%|▎         | 308/10463 [00:25<11:52, 14.25it/s]\u001b[A\n",
            "Feature Extraction:   3%|▎         | 310/10463 [00:25<11:59, 14.11it/s]\u001b[A\n",
            "Feature Extraction:   3%|▎         | 312/10463 [00:25<12:06, 13.98it/s]\u001b[A\n",
            "Feature Extraction:   3%|▎         | 314/10463 [00:25<11:58, 14.13it/s]\u001b[A\n",
            "Feature Extraction:   3%|▎         | 316/10463 [00:25<11:52, 14.24it/s]\u001b[A\n",
            "Feature Extraction:   3%|▎         | 318/10463 [00:25<11:53, 14.21it/s]\u001b[A\n",
            "Feature Extraction:   3%|▎         | 320/10463 [00:25<12:04, 14.01it/s]\u001b[A\n",
            "Feature Extraction:   3%|▎         | 322/10463 [00:26<11:49, 14.29it/s]\u001b[A\n",
            "Feature Extraction:   3%|▎         | 324/10463 [00:26<11:40, 14.48it/s]\u001b[A\n",
            "Feature Extraction:   3%|▎         | 326/10463 [00:26<11:37, 14.53it/s]\u001b[A\n",
            "Feature Extraction:   3%|▎         | 328/10463 [00:26<11:42, 14.43it/s]\u001b[A\n",
            "Feature Extraction:   3%|▎         | 330/10463 [00:26<11:39, 14.49it/s]\u001b[A\n",
            "Feature Extraction:   3%|▎         | 332/10463 [00:26<11:45, 14.36it/s]\u001b[A\n",
            "Feature Extraction:   3%|▎         | 334/10463 [00:26<11:33, 14.60it/s]\u001b[A\n",
            "Feature Extraction:   3%|▎         | 336/10463 [00:26<11:50, 14.25it/s]\u001b[A\n",
            "Feature Extraction:   3%|▎         | 338/10463 [00:27<11:46, 14.33it/s]\u001b[A\n",
            "Feature Extraction:   3%|▎         | 340/10463 [00:27<11:46, 14.32it/s]\u001b[A\n",
            "Feature Extraction:   3%|▎         | 342/10463 [00:27<12:05, 13.96it/s]\u001b[A\n",
            "Feature Extraction:   3%|▎         | 344/10463 [00:27<11:59, 14.07it/s]\u001b[A\n",
            "Feature Extraction:   3%|▎         | 346/10463 [00:27<11:51, 14.23it/s]\u001b[A\n",
            "Feature Extraction:   3%|▎         | 348/10463 [00:27<11:42, 14.41it/s]\u001b[A\n",
            "Feature Extraction:   3%|▎         | 350/10463 [00:27<11:56, 14.10it/s]\u001b[A\n",
            "Feature Extraction:   3%|▎         | 352/10463 [00:28<11:46, 14.30it/s]\u001b[A\n",
            "Feature Extraction:   3%|▎         | 354/10463 [00:28<11:50, 14.23it/s]\u001b[A\n",
            "Feature Extraction:   3%|▎         | 356/10463 [00:28<11:54, 14.15it/s]\u001b[A\n",
            "Feature Extraction:   3%|▎         | 358/10463 [00:28<11:50, 14.23it/s]\u001b[A\n",
            "Feature Extraction:   3%|▎         | 360/10463 [00:28<11:44, 14.34it/s]\u001b[A\n",
            "Feature Extraction:   3%|▎         | 362/10463 [00:28<11:45, 14.32it/s]\u001b[A\n",
            "Feature Extraction:   3%|▎         | 364/10463 [00:28<12:09, 13.84it/s]\u001b[A\n",
            "Feature Extraction:   3%|▎         | 366/10463 [00:29<13:09, 12.79it/s]\u001b[A\n",
            "Feature Extraction:   4%|▎         | 368/10463 [00:29<13:58, 12.04it/s]\u001b[A\n",
            "Feature Extraction:   4%|▎         | 370/10463 [00:29<14:34, 11.55it/s]\u001b[A\n",
            "Feature Extraction:   4%|▎         | 372/10463 [00:29<14:31, 11.58it/s]\u001b[A\n",
            "Feature Extraction:   4%|▎         | 374/10463 [00:29<14:34, 11.54it/s]\u001b[A\n",
            "Feature Extraction:   4%|▎         | 376/10463 [00:30<14:37, 11.50it/s]\u001b[A\n",
            "Feature Extraction:   4%|▎         | 378/10463 [00:30<15:28, 10.86it/s]\u001b[A\n",
            "Feature Extraction:   4%|▎         | 380/10463 [00:30<15:05, 11.14it/s]\u001b[A\n",
            "Feature Extraction:   4%|▎         | 382/10463 [00:30<14:30, 11.59it/s]\u001b[A\n",
            "Feature Extraction:   4%|▎         | 384/10463 [00:30<13:57, 12.04it/s]\u001b[A\n",
            "Feature Extraction:   4%|▎         | 386/10463 [00:30<13:38, 12.31it/s]\u001b[A\n",
            "Feature Extraction:   4%|▎         | 388/10463 [00:31<13:22, 12.55it/s]\u001b[A\n",
            "Feature Extraction:   4%|▎         | 390/10463 [00:31<14:05, 11.91it/s]\u001b[A\n",
            "Feature Extraction:   4%|▎         | 392/10463 [00:31<13:44, 12.21it/s]\u001b[A\n",
            "Feature Extraction:   4%|▍         | 394/10463 [00:31<13:42, 12.24it/s]\u001b[A\n",
            "Feature Extraction:   4%|▍         | 396/10463 [00:31<13:20, 12.58it/s]\u001b[A\n",
            "Feature Extraction:   4%|▍         | 398/10463 [00:31<13:04, 12.83it/s]\u001b[A\n",
            "Feature Extraction:   4%|▍         | 400/10463 [00:31<12:56, 12.95it/s]\u001b[A\n",
            "Feature Extraction:   4%|▍         | 402/10463 [00:32<12:58, 12.92it/s]\u001b[A\n",
            "Feature Extraction:   4%|▍         | 404/10463 [00:32<13:07, 12.77it/s]\u001b[A\n",
            "Feature Extraction:   4%|▍         | 406/10463 [00:32<13:30, 12.40it/s]\u001b[A\n",
            "Feature Extraction:   4%|▍         | 408/10463 [00:32<13:42, 12.23it/s]\u001b[A\n",
            "Feature Extraction:   4%|▍         | 410/10463 [00:32<13:35, 12.33it/s]\u001b[A\n",
            "Feature Extraction:   4%|▍         | 412/10463 [00:32<13:59, 11.97it/s]\u001b[A\n",
            "Feature Extraction:   4%|▍         | 414/10463 [00:33<14:43, 11.37it/s]\u001b[A\n",
            "Feature Extraction:   4%|▍         | 416/10463 [00:33<15:51, 10.56it/s]\u001b[A\n",
            "Feature Extraction:   4%|▍         | 418/10463 [00:33<16:01, 10.45it/s]\u001b[A\n",
            "Feature Extraction:   4%|▍         | 420/10463 [00:33<15:10, 11.02it/s]\u001b[A\n",
            "Feature Extraction:   4%|▍         | 422/10463 [00:33<15:36, 10.73it/s]\u001b[A\n",
            "Feature Extraction:   4%|▍         | 424/10463 [00:34<15:12, 11.01it/s]\u001b[A\n",
            "Feature Extraction:   4%|▍         | 426/10463 [00:34<14:57, 11.19it/s]\u001b[A\n",
            "Feature Extraction:   4%|▍         | 428/10463 [00:34<14:48, 11.30it/s]\u001b[A\n",
            "Feature Extraction:   4%|▍         | 430/10463 [00:34<14:19, 11.67it/s]\u001b[A\n",
            "Feature Extraction:   4%|▍         | 432/10463 [00:34<13:50, 12.08it/s]\u001b[A\n",
            "Feature Extraction:   4%|▍         | 434/10463 [00:34<13:27, 12.42it/s]\u001b[A\n",
            "Feature Extraction:   4%|▍         | 436/10463 [00:35<13:25, 12.45it/s]\u001b[A\n",
            "Feature Extraction:   4%|▍         | 438/10463 [00:35<13:07, 12.72it/s]\u001b[A\n",
            "Feature Extraction:   4%|▍         | 440/10463 [00:35<13:29, 12.38it/s]\u001b[A\n",
            "Feature Extraction:   4%|▍         | 442/10463 [00:35<13:17, 12.57it/s]\u001b[A\n",
            "Feature Extraction:   4%|▍         | 444/10463 [00:35<13:14, 12.60it/s]\u001b[A\n",
            "Feature Extraction:   4%|▍         | 446/10463 [00:35<13:10, 12.68it/s]\u001b[A\n",
            "Feature Extraction:   4%|▍         | 448/10463 [00:36<14:22, 11.61it/s]\u001b[A\n",
            "Feature Extraction:   4%|▍         | 450/10463 [00:36<14:16, 11.70it/s]\u001b[A\n",
            "Feature Extraction:   4%|▍         | 452/10463 [00:36<14:26, 11.55it/s]\u001b[A\n",
            "Feature Extraction:   4%|▍         | 454/10463 [00:36<14:25, 11.56it/s]\u001b[A\n",
            "Feature Extraction:   4%|▍         | 456/10463 [00:36<14:28, 11.53it/s]\u001b[A\n",
            "Feature Extraction:   4%|▍         | 458/10463 [00:36<14:27, 11.54it/s]\u001b[A\n",
            "Feature Extraction:   4%|▍         | 460/10463 [00:37<15:14, 10.94it/s]\u001b[A\n",
            "Feature Extraction:   4%|▍         | 462/10463 [00:37<14:33, 11.44it/s]\u001b[A\n",
            "Feature Extraction:   4%|▍         | 464/10463 [00:37<14:07, 11.80it/s]\u001b[A\n",
            "Feature Extraction:   4%|▍         | 466/10463 [00:37<13:49, 12.05it/s]\u001b[A\n",
            "Feature Extraction:   4%|▍         | 468/10463 [00:37<13:27, 12.37it/s]\u001b[A\n",
            "Feature Extraction:   4%|▍         | 470/10463 [00:37<13:07, 12.69it/s]\u001b[A\n",
            "Feature Extraction:   5%|▍         | 472/10463 [00:38<12:56, 12.87it/s]\u001b[A\n",
            "Feature Extraction:   5%|▍         | 474/10463 [00:38<12:57, 12.85it/s]\u001b[A\n",
            "Feature Extraction:   5%|▍         | 476/10463 [00:38<12:48, 13.00it/s]\u001b[A\n",
            "Feature Extraction:   5%|▍         | 478/10463 [00:38<12:44, 13.06it/s]\u001b[A\n",
            "Feature Extraction:   5%|▍         | 480/10463 [00:38<12:37, 13.17it/s]\u001b[A\n",
            "Feature Extraction:   5%|▍         | 482/10463 [00:38<12:27, 13.35it/s]\u001b[A\n",
            "Feature Extraction:   5%|▍         | 484/10463 [00:38<12:37, 13.18it/s]\u001b[A\n",
            "Feature Extraction:   5%|▍         | 486/10463 [00:39<12:34, 13.22it/s]\u001b[A\n",
            "Feature Extraction:   5%|▍         | 488/10463 [00:39<12:28, 13.32it/s]\u001b[A\n",
            "Feature Extraction:   5%|▍         | 490/10463 [00:39<12:56, 12.84it/s]\u001b[A\n",
            "Feature Extraction:   5%|▍         | 492/10463 [00:39<13:38, 12.17it/s]\u001b[A\n",
            "Feature Extraction:   5%|▍         | 494/10463 [00:39<13:39, 12.16it/s]\u001b[A\n",
            "Feature Extraction:   5%|▍         | 496/10463 [00:39<13:21, 12.44it/s]\u001b[A\n",
            "Feature Extraction:   5%|▍         | 498/10463 [00:40<13:12, 12.58it/s]\u001b[A\n",
            "Feature Extraction:   5%|▍         | 500/10463 [00:40<13:08, 12.63it/s]\u001b[A\n",
            "Feature Extraction:   5%|▍         | 502/10463 [00:40<13:11, 12.58it/s]\u001b[A\n",
            "Feature Extraction:   5%|▍         | 504/10463 [00:40<13:21, 12.43it/s]\u001b[A\n",
            "Feature Extraction:   5%|▍         | 506/10463 [00:40<13:29, 12.29it/s]\u001b[A\n",
            "Feature Extraction:   5%|▍         | 508/10463 [00:40<13:16, 12.50it/s]\u001b[A\n",
            "Feature Extraction:   5%|▍         | 510/10463 [00:41<13:24, 12.37it/s]\u001b[A\n",
            "Feature Extraction:   5%|▍         | 512/10463 [00:41<13:20, 12.43it/s]\u001b[A\n",
            "Feature Extraction:   5%|▍         | 514/10463 [00:41<13:14, 12.52it/s]\u001b[A\n",
            "Feature Extraction:   5%|▍         | 516/10463 [00:41<13:06, 12.64it/s]\u001b[A\n",
            "Feature Extraction:   5%|▍         | 518/10463 [00:41<12:51, 12.89it/s]\u001b[A\n",
            "Feature Extraction:   5%|▍         | 520/10463 [00:41<13:15, 12.50it/s]\u001b[A\n",
            "Feature Extraction:   5%|▍         | 522/10463 [00:42<13:02, 12.70it/s]\u001b[A\n",
            "Feature Extraction:   5%|▌         | 524/10463 [00:42<12:44, 12.99it/s]\u001b[A\n",
            "Feature Extraction:   5%|▌         | 526/10463 [00:42<12:25, 13.32it/s]\u001b[A\n",
            "Feature Extraction:   5%|▌         | 528/10463 [00:42<12:12, 13.57it/s]\u001b[A\n",
            "Feature Extraction:   5%|▌         | 530/10463 [00:42<12:36, 13.13it/s]\u001b[A\n",
            "Feature Extraction:   5%|▌         | 532/10463 [00:42<12:31, 13.21it/s]\u001b[A\n",
            "Feature Extraction:   5%|▌         | 534/10463 [00:42<12:43, 13.00it/s]\u001b[A\n",
            "Feature Extraction:   5%|▌         | 536/10463 [00:43<12:57, 12.78it/s]\u001b[A\n",
            "Feature Extraction:   5%|▌         | 538/10463 [00:43<12:41, 13.03it/s]\u001b[A\n",
            "Feature Extraction:   5%|▌         | 540/10463 [00:43<12:43, 13.00it/s]\u001b[A\n",
            "Feature Extraction:   5%|▌         | 542/10463 [00:43<12:20, 13.39it/s]\u001b[A\n",
            "Feature Extraction:   5%|▌         | 544/10463 [00:43<12:09, 13.59it/s]\u001b[A\n",
            "Feature Extraction:   5%|▌         | 546/10463 [00:43<11:53, 13.90it/s]\u001b[A\n",
            "Feature Extraction:   5%|▌         | 548/10463 [00:43<12:03, 13.70it/s]\u001b[A\n",
            "Feature Extraction:   5%|▌         | 550/10463 [00:44<11:49, 13.96it/s]\u001b[A\n",
            "Feature Extraction:   5%|▌         | 552/10463 [00:44<11:41, 14.12it/s]\u001b[A\n",
            "Feature Extraction:   5%|▌         | 554/10463 [00:44<11:39, 14.18it/s]\u001b[A\n",
            "Feature Extraction:   5%|▌         | 556/10463 [00:44<12:40, 13.02it/s]\u001b[A\n",
            "Feature Extraction:   5%|▌         | 558/10463 [00:44<12:27, 13.26it/s]\u001b[A\n",
            "Feature Extraction:   5%|▌         | 560/10463 [00:44<12:20, 13.38it/s]\u001b[A\n",
            "Feature Extraction:   5%|▌         | 562/10463 [00:45<12:48, 12.88it/s]\u001b[A\n",
            "Feature Extraction:   5%|▌         | 564/10463 [00:45<12:37, 13.07it/s]\u001b[A\n",
            "Feature Extraction:   5%|▌         | 566/10463 [00:45<12:23, 13.31it/s]\u001b[A\n",
            "Feature Extraction:   5%|▌         | 568/10463 [00:45<12:43, 12.96it/s]\u001b[A\n",
            "Feature Extraction:   5%|▌         | 570/10463 [00:45<12:33, 13.13it/s]\u001b[A\n",
            "Feature Extraction:   5%|▌         | 572/10463 [00:45<12:10, 13.55it/s]\u001b[A\n",
            "Feature Extraction:   5%|▌         | 574/10463 [00:45<11:52, 13.88it/s]\u001b[A\n",
            "Feature Extraction:   6%|▌         | 576/10463 [00:46<11:57, 13.78it/s]\u001b[A\n",
            "Feature Extraction:   6%|▌         | 578/10463 [00:46<12:05, 13.63it/s]\u001b[A\n",
            "Feature Extraction:   6%|▌         | 580/10463 [00:46<11:51, 13.88it/s]\u001b[A\n",
            "Feature Extraction:   6%|▌         | 582/10463 [00:46<11:48, 13.95it/s]\u001b[A\n",
            "Feature Extraction:   6%|▌         | 584/10463 [00:46<12:00, 13.70it/s]\u001b[A\n",
            "Feature Extraction:   6%|▌         | 586/10463 [00:46<12:00, 13.72it/s]\u001b[A\n",
            "Feature Extraction:   6%|▌         | 588/10463 [00:46<11:45, 14.00it/s]\u001b[A\n",
            "Feature Extraction:   6%|▌         | 590/10463 [00:47<11:54, 13.82it/s]\u001b[A\n",
            "Feature Extraction:   6%|▌         | 592/10463 [00:47<12:25, 13.24it/s]\u001b[A\n",
            "Feature Extraction:   6%|▌         | 594/10463 [00:47<12:41, 12.96it/s]\u001b[A\n",
            "Feature Extraction:   6%|▌         | 596/10463 [00:47<12:59, 12.66it/s]\u001b[A\n",
            "Feature Extraction:   6%|▌         | 598/10463 [00:47<13:39, 12.03it/s]\u001b[A\n",
            "Feature Extraction:   6%|▌         | 600/10463 [00:47<14:48, 11.10it/s]\u001b[A\n",
            "Feature Extraction:   6%|▌         | 602/10463 [00:48<15:41, 10.47it/s]\u001b[A\n",
            "Feature Extraction:   6%|▌         | 604/10463 [00:48<15:06, 10.87it/s]\u001b[A\n",
            "Feature Extraction:   6%|▌         | 606/10463 [00:48<15:04, 10.90it/s]\u001b[A\n",
            "Feature Extraction:   6%|▌         | 608/10463 [00:48<14:56, 11.00it/s]\u001b[A\n",
            "Feature Extraction:   6%|▌         | 610/10463 [00:48<14:41, 11.17it/s]\u001b[A\n",
            "Feature Extraction:   6%|▌         | 612/10463 [00:49<14:56, 10.99it/s]\u001b[A\n",
            "Feature Extraction:   6%|▌         | 614/10463 [00:49<15:35, 10.52it/s]\u001b[A\n",
            "Feature Extraction:   6%|▌         | 616/10463 [00:49<15:30, 10.58it/s]\u001b[A\n",
            "Feature Extraction:   6%|▌         | 618/10463 [00:49<15:37, 10.51it/s]\u001b[A\n",
            "Feature Extraction:   6%|▌         | 620/10463 [00:49<14:57, 10.96it/s]\u001b[A\n",
            "Feature Extraction:   6%|▌         | 622/10463 [00:49<15:04, 10.88it/s]\u001b[A\n",
            "Feature Extraction:   6%|▌         | 624/10463 [00:50<14:38, 11.19it/s]\u001b[A\n",
            "Feature Extraction:   6%|▌         | 626/10463 [00:50<14:22, 11.40it/s]\u001b[A\n",
            "Feature Extraction:   6%|▌         | 628/10463 [00:50<14:23, 11.39it/s]\u001b[A\n",
            "Feature Extraction:   6%|▌         | 630/10463 [00:50<14:04, 11.64it/s]\u001b[A\n",
            "Feature Extraction:   6%|▌         | 632/10463 [00:50<13:41, 11.96it/s]\u001b[A\n",
            "Feature Extraction:   6%|▌         | 634/10463 [00:50<13:06, 12.49it/s]\u001b[A\n",
            "Feature Extraction:   6%|▌         | 636/10463 [00:51<12:57, 12.65it/s]\u001b[A\n",
            "Feature Extraction:   6%|▌         | 638/10463 [00:51<12:50, 12.76it/s]\u001b[A\n",
            "Feature Extraction:   6%|▌         | 640/10463 [00:51<12:46, 12.82it/s]\u001b[A\n",
            "Feature Extraction:   6%|▌         | 642/10463 [00:51<12:42, 12.88it/s]\u001b[A\n",
            "Feature Extraction:   6%|▌         | 644/10463 [00:51<12:46, 12.81it/s]\u001b[A\n",
            "Feature Extraction:   6%|▌         | 646/10463 [00:51<12:35, 13.00it/s]\u001b[A\n",
            "Feature Extraction:   6%|▌         | 648/10463 [00:52<12:34, 13.01it/s]\u001b[A\n",
            "Feature Extraction:   6%|▌         | 650/10463 [00:52<12:43, 12.86it/s]\u001b[A\n",
            "Feature Extraction:   6%|▌         | 652/10463 [00:52<13:36, 12.01it/s]\u001b[A\n",
            "Feature Extraction:   6%|▋         | 654/10463 [00:52<13:25, 12.18it/s]\u001b[A\n",
            "Feature Extraction:   6%|▋         | 656/10463 [00:52<13:04, 12.51it/s]\u001b[A\n",
            "Feature Extraction:   6%|▋         | 658/10463 [00:52<12:58, 12.59it/s]\u001b[A\n",
            "Feature Extraction:   6%|▋         | 660/10463 [00:53<12:57, 12.61it/s]\u001b[A\n",
            "Feature Extraction:   6%|▋         | 662/10463 [00:53<12:47, 12.77it/s]\u001b[A\n",
            "Feature Extraction:   6%|▋         | 664/10463 [00:53<12:32, 13.02it/s]\u001b[A\n",
            "Feature Extraction:   6%|▋         | 666/10463 [00:53<13:24, 12.18it/s]\u001b[A\n",
            "Feature Extraction:   6%|▋         | 668/10463 [00:53<14:22, 11.36it/s]\u001b[A\n",
            "Feature Extraction:   6%|▋         | 670/10463 [00:53<14:26, 11.30it/s]\u001b[A\n",
            "Feature Extraction:   6%|▋         | 672/10463 [00:54<15:33, 10.49it/s]\u001b[A"
          ]
        }
      ],
      "source": [
        "##### COMPUTING TARGETS AND FEATURES\n",
        "\n",
        "# parameters\n",
        "days_input  = [1, 7, 14, 21, 28, 35]\n",
        "days_target = 14\n",
        "\n",
        "# preparations\n",
        "day_first = np.max(days_input)\n",
        "day_last  = agg_orders['day_of_year'].max() - days_target + 1\n",
        "orders    = None\n",
        "\n",
        "# merge manufacturer and category\n",
        "agg_orders = agg_orders.merge(items[['itemID', 'manufacturer']], how = 'left')\n",
        "agg_orders = agg_orders.merge(items[['itemID', 'category']],     how = 'left')\n",
        "\n",
        "\n",
        "# computations\n",
        "for day_of_year in tqdm(list(range(149, day_last)) + [agg_orders['day_of_year'].max()]):\n",
        "                \n",
        "\n",
        "    ### VALIDAION: TARGET, PROMOTIONS, PRICES\n",
        "        \n",
        "    # day intervals\n",
        "    target_day_min = day_of_year + 1\n",
        "    target_day_max = day_of_year + days_target\n",
        "    \n",
        "    # compute target and promo: labeled data\n",
        "    if day_of_year < agg_orders['day_of_year'].max():\n",
        "        \n",
        "        # target and future promo\n",
        "        tmp_df = agg_orders[(agg_orders['day_of_year'] >= target_day_min) &\n",
        "                            (agg_orders['day_of_year'] <= target_day_max)\n",
        "                           ].groupby('itemID')['order', 'promotion'].agg('sum').reset_index()\n",
        "        tmp_df.columns = ['itemID', 'target', 'promo_in_test']\n",
        "        \n",
        "        # future price\n",
        "        tmp_df['mean_price_test'] = agg_orders[(agg_orders['day_of_year'] >= target_day_min) &\n",
        "                                               (agg_orders['day_of_year'] <= target_day_max)\n",
        "                                              ].groupby('itemID')['salesPrice'].agg('mean').reset_index()['salesPrice']\n",
        "        \n",
        "        # merge manufacturer and category\n",
        "        tmp_df = tmp_df.merge(items[['itemID', 'manufacturer', 'category']], how = 'left', on = 'itemID')\n",
        "        \n",
        "        # future price per manufacturer\n",
        "        tmp_df_manufacturer = agg_orders[(agg_orders['day_of_year'] >= target_day_min) &\n",
        "                                         (agg_orders['day_of_year'] <= target_day_max)\n",
        "                                         ].groupby('manufacturer')['salesPrice'].agg('mean').reset_index()\n",
        "        tmp_df_manufacturer.columns = ['manufacturer', 'mean_price_test_manufacturer']\n",
        "        tmp_df = tmp_df.merge(tmp_df_manufacturer, how = 'left', on = 'manufacturer')\n",
        "        \n",
        "        # future price per category\n",
        "        tmp_df_category = agg_orders[(agg_orders['day_of_year'] >= target_day_min) &\n",
        "                                     (agg_orders['day_of_year'] <= target_day_max)\n",
        "                                     ].groupby('category')['salesPrice'].agg('mean').reset_index()\n",
        "        tmp_df_category.columns = ['category', 'mean_price_test_category']\n",
        "        tmp_df = tmp_df.merge(tmp_df_category, how = 'left', on = 'category')\n",
        "        \n",
        "        # future promo per manufacturer\n",
        "        tmp_df_manufacturer = agg_orders[(agg_orders['day_of_year'] >= target_day_min) &\n",
        "                                         (agg_orders['day_of_year'] <= target_day_max)\n",
        "                                         ].groupby('manufacturer')['promotion'].agg('sum').reset_index()\n",
        "        tmp_df_manufacturer.columns = ['manufacturer', 'promo_in_test_manufacturer']\n",
        "        tmp_df = tmp_df.merge(tmp_df_manufacturer, how = 'left', on = 'manufacturer')\n",
        "\n",
        "        # future promo per category\n",
        "        tmp_df_category = agg_orders[(agg_orders['day_of_year'] >= target_day_min) &\n",
        "                                     (agg_orders['day_of_year'] <= target_day_max)\n",
        "                                     ].groupby('category')['promotion'].agg('sum').reset_index()\n",
        "        tmp_df_category.columns = ['category', 'promo_in_test_category']\n",
        "        tmp_df = tmp_df.merge(tmp_df_category, how = 'left', on = 'category')\n",
        "                       \n",
        "        \n",
        "    # compute target and promo: unlabeled data\n",
        "    else:\n",
        "        \n",
        "        # placeholders\n",
        "        tmp_df = pd.DataFrame({'itemID':                     items.itemID,\n",
        "                               'target':                     np.nan,\n",
        "                               'promo_in_test':              np.nan,\n",
        "                               'mean_price_test':            items.simulationPrice,\n",
        "                               'manufacturer':               items.manufacturer,\n",
        "                               'category':                   items.category,\n",
        "                               'promo_in_test_manufacturer': np.nan,\n",
        "                               'promo_in_test_category':     np.nan})\n",
        "\n",
        "        \n",
        "    ### TRAINING: LAG-BASED FEATURES\n",
        "            \n",
        "    # compute features\n",
        "    for day_input in days_input:\n",
        "        \n",
        "        # day intervals\n",
        "        input_day_min  = day_of_year - day_input + 1\n",
        "        input_day_max  = day_of_year\n",
        "    \n",
        "        # frequency, promo and price\n",
        "        tmp_df_input = agg_orders[(agg_orders['day_of_year'] >= input_day_min) &\n",
        "                                  (agg_orders['day_of_year'] <= input_day_max)\n",
        "                                 ].groupby('itemID')\n",
        "        tmp_df['order_sum_last_'   + str(day_input)] = tmp_df_input['order'].agg('sum').reset_index()['order']\n",
        "        tmp_df['order_count_last_' + str(day_input)] = tmp_df_input['order'].agg(lambda x: len(x[x > 0])).reset_index()['order']\n",
        "        tmp_df['promo_count_last_' + str(day_input)] = tmp_df_input['promotion'].agg('sum').reset_index()['promotion']\n",
        "        tmp_df['mean_price_last_'  + str(day_input)] = tmp_df_input['salesPrice'].agg('mean').reset_index()['salesPrice']\n",
        "\n",
        "        # frequency, promo per manufacturer\n",
        "        tmp_df_input = agg_orders[(agg_orders['day_of_year'] >= input_day_min) &\n",
        "                                  (agg_orders['day_of_year'] <= input_day_max)\n",
        "                                 ].groupby('manufacturer')\n",
        "        tmp_df_manufacturer = tmp_df_input['order'].agg('sum').reset_index()\n",
        "        tmp_df_manufacturer.columns = ['manufacturer', 'order_manufacturer_sum_last_' + str(day_input)]\n",
        "        tmp_df_manufacturer['order_manufacturer_count_last_' + str(day_input)] = tmp_df_input['order'].agg(lambda x: len(x[x > 0])).reset_index()['order']\n",
        "        tmp_df_manufacturer['promo_manufacturer_count_last_' + str(day_input)] = tmp_df_input['promotion'].agg('sum').reset_index()['promotion']\n",
        "        tmp_df = tmp_df.merge(tmp_df_manufacturer, how = 'left', on = 'manufacturer')\n",
        "    \n",
        "        # frequency, promo per category\n",
        "        tmp_df_input = agg_orders[(agg_orders['day_of_year'] >= input_day_min) &\n",
        "                                  (agg_orders['day_of_year'] <= input_day_max)\n",
        "                                 ].groupby('category')\n",
        "        tmp_df_category = tmp_df_input['order'].agg('sum').reset_index()\n",
        "        tmp_df_category.columns = ['category', 'order_category_sum_last_' + str(day_input)]       \n",
        "        tmp_df_category['order_category_count_last_' + str(day_input)] = tmp_df_input['order'].agg(lambda x: len(x[x > 0])).reset_index()['order']\n",
        "        tmp_df_category['promo_category_count_last_' + str(day_input)] = tmp_df_input['promotion'].agg('sum').reset_index()['promotion']\n",
        "        tmp_df = tmp_df.merge(tmp_df_category, how = 'left', on = 'category')\n",
        "\n",
        "        # frequency, promo per all items\n",
        "        tmp_df_input = agg_orders[(agg_orders['day_of_year'] >= input_day_min) &\n",
        "                                  (agg_orders['day_of_year'] <= input_day_max)]\n",
        "        tmp_df['order_all_sum_last_'   + str(day_input)] = tmp_df_input['order'].agg('sum')\n",
        "        tmp_df['order_all_count_last_' + str(day_input)] = tmp_df_input['order'].agg(lambda x: len(x[x > 0]))\n",
        "        tmp_df['promo_all_count_last_' + str(day_input)] = tmp_df_input['promotion'].agg('sum')\n",
        "        \n",
        "        # recency\n",
        "        if day_input == max(days_input):\n",
        "            tmp_df_input = agg_orders[(agg_orders['day_of_year'] >= input_day_min) &\n",
        "                                      (agg_orders['day_of_year'] <= input_day_max) &\n",
        "                                      (agg_orders['order'] > 0)\n",
        "                                     ].groupby('itemID')\n",
        "            tmp_df['days_since_last_order'] = (day_of_year - tmp_df_input['day_of_year'].agg('max')).reindex(tmp_df.itemID).reset_index()['day_of_year']\n",
        "            tmp_df['days_since_last_order'].fillna(day_input, inplace = True)\n",
        "            \n",
        "            \n",
        "        # tsfresh features\n",
        "        if day_input == max(days_input):\n",
        "            tmp_df_input = agg_orders[(agg_orders['day_of_year'] >= input_day_min) &\n",
        "                                      (agg_orders['day_of_year'] <= input_day_max)]\n",
        "            tmp_df_input = tmp_df_input[['day_of_year', 'itemID', 'order']]\n",
        "            extracted_features = extract_features(tmp_df_input, column_id = 'itemID', column_sort = 'day_of_year')\n",
        "            extracted_features['itemID'] = extracted_features.index\n",
        "            tmp_df = tmp_df.merge(extracted_features, how = 'left', on = 'itemID')\n",
        "            \n",
        "            \n",
        "    ### FINAL PREPARATIONS\n",
        "            \n",
        "    # add day of year\n",
        "    tmp_df.insert(1, column = 'day_of_year', value = day_of_year)\n",
        "        \n",
        "    # merge data\n",
        "    orders = pd.concat([orders, tmp_df], axis = 0)\n",
        "    \n",
        "    # drop manufacturer and category\n",
        "    del orders['manufacturer']\n",
        "    del orders['category']"
      ]
    },
    {
      "cell_type": "code",
      "execution_count": null,
      "metadata": {
        "id": "Y_wQ5fbHZd62",
        "outputId": "f2ee285e-e0f6-4024-e105-1e98cb20c765"
      },
      "outputs": [
        {
          "data": {
            "text/plain": [
              "(1391579, 458)"
            ]
          },
          "execution_count": 30,
          "metadata": {},
          "output_type": "execute_result"
        }
      ],
      "source": [
        "##### REMOVE MISSINGS\n",
        "\n",
        "good_nas = ['target', \n",
        "            'mean_price_test_category', 'mean_price_test_manufacturer',\n",
        "            'promo_in_test', 'promo_in_test_category', 'promo_in_test_manufacturer']\n",
        "nonas = list(orders.columns[orders.isnull().sum() == 0]) + good_nas\n",
        "orders = orders[nonas]\n",
        "print(orders.shape)"
      ]
    },
    {
      "cell_type": "code",
      "execution_count": null,
      "metadata": {
        "id": "ol6hWeHlZd63",
        "outputId": "4e671f0b-827e-4824-efbd-c4ea286ee8cc"
      },
      "outputs": [
        {
          "name": "stdout",
          "output_type": "stream",
          "text": [
            "(1391579, 458)\n",
            "(1391579, 470)\n"
          ]
        }
      ],
      "source": [
        "##### COMPUTE MEAN PRICE RATIOS\n",
        "\n",
        "print(orders.shape)\n",
        "price_vars = ['mean_price_last_1', 'mean_price_last_7', 'mean_price_last_14', \n",
        "              'mean_price_last_21', 'mean_price_last_28', 'mean_price_last_35']\n",
        "for var in price_vars:\n",
        "    orders['ratio_'              + str(var)] = orders['mean_price_test']              / orders[var]\n",
        "    orders['ratio_manufacturer_' + str(var)] = orders['mean_price_test_manufacturer'] / orders[var]\n",
        "    orders['ratio_category_'     + str(var)] = orders['mean_price_test_category']     / orders[var]\n",
        "print(orders.shape)"
      ]
    },
    {
      "cell_type": "code",
      "execution_count": null,
      "metadata": {
        "id": "y_6kPCGhZd63",
        "outputId": "10ce9661-e32c-415f-f43c-6c1a792fb036"
      },
      "outputs": [
        {
          "data": {
            "text/plain": [
              "Text(0.5, 0, 'Day')"
            ]
          },
          "execution_count": 32,
          "metadata": {},
          "output_type": "execute_result"
        },
        {
          "data": {
            "image/png": "[encoded data removed]",
            "text/plain": [
              "<Figure size 720x360 with 1 Axes>"
            ]
          },
          "metadata": {
            "needs_background": "dark"
          },
          "output_type": "display_data"
        }
      ],
      "source": [
        "##### EXAMPLE SALES PLOT\n",
        "\n",
        "df = orders[orders.itemID == 1]\n",
        "plt.figure(figsize = (10, 5))\n",
        "plt.scatter(df['day_of_year'], df['target'], c = df['promo_in_test'])\n",
        "plt.title('itemID == 1')\n",
        "plt.ylabel('Target (orders in next 14 days)')\n",
        "plt.xlabel('Day')"
      ]
    },
    {
      "cell_type": "markdown",
      "metadata": {
        "id": "ZTnFqSG4Zd63"
      },
      "source": [
        "# MERGE DATA SETS"
      ]
    },
    {
      "cell_type": "code",
      "execution_count": null,
      "metadata": {
        "id": "dKY7W0v-Zd63",
        "outputId": "b98f4dfb-fb27-4664-8231-1e9fff708611"
      },
      "outputs": [
        {
          "name": "stdout",
          "output_type": "stream",
          "text": [
            "(1391579, 470)\n",
            "(10463, 16)\n",
            "(1391579, 485)\n"
          ]
        }
      ],
      "source": [
        "print(orders.shape)\n",
        "print(items.shape)\n",
        "df = pd.merge(orders, items, on = 'itemID', how = 'left')\n",
        "print(df.shape)"
      ]
    },
    {
      "cell_type": "markdown",
      "metadata": {
        "id": "T9SjKdvAZd63"
      },
      "source": [
        "# EXTRACT TEST DATA"
      ]
    },
    {
      "cell_type": "code",
      "execution_count": null,
      "metadata": {
        "id": "WUVGz2twZd63",
        "outputId": "4741dd48-d42d-41de-e463-b1dd7051706b"
      },
      "outputs": [
        {
          "name": "stdout",
          "output_type": "stream",
          "text": [
            "(1381116, 485)\n",
            "(10463, 485)\n"
          ]
        }
      ],
      "source": [
        "# partition intro train and test\n",
        "df_train = df[df['day_of_year'] <  df['day_of_year'].max()]\n",
        "df_test  = df[df['day_of_year'] == df['day_of_year'].max()]\n",
        "print(df_train.shape)\n",
        "print(df_test.shape)"
      ]
    },
    {
      "cell_type": "code",
      "execution_count": null,
      "metadata": {
        "id": "EObLucn6Zd63",
        "outputId": "2686948c-82bf-4bc1-87c4-ee3e4c85f3c0"
      },
      "outputs": [
        {
          "name": "stdout",
          "output_type": "stream",
          "text": [
            "(10463, 484)\n",
            "(10463, 485)\n",
            "(10463, 484)\n",
            "(10463, 485)\n",
            "(10463, 485)\n"
          ]
        }
      ],
      "source": [
        "##### COMPUTE FEATURES FOR TEST DATA\n",
        "\n",
        "# add promotion info to test\n",
        "promo_vars = df_test.filter(like = 'promotion_').columns\n",
        "df_test['promo_in_test'] = 3 - df_test[promo_vars].isnull().sum(axis = 1)\n",
        "df_test['promo_in_test'].describe()\n",
        "\n",
        "\n",
        "### PROMO PER MANUFACTURER, CATEGORY\n",
        "\n",
        "del df_test['promo_in_test_manufacturer'], df_test['promo_in_test_category']\n",
        "\n",
        "# future promo per manufacturer\n",
        "tmp_df_manufacturer = df_test.groupby('manufacturer')['promo_in_test'].agg('sum').reset_index()\n",
        "tmp_df_manufacturer.columns = ['manufacturer', 'promo_in_test_manufacturer']\n",
        "df_test = df_test.merge(tmp_df_manufacturer, how = 'left', on = 'manufacturer')\n",
        "print(df_test.shape)\n",
        "\n",
        "# future promo per category\n",
        "tmp_df_category = df_test.groupby('category')['promo_in_test'].agg('sum').reset_index()\n",
        "tmp_df_category.columns = ['category', 'promo_in_test_category']\n",
        "df_test = df_test.merge(tmp_df_category, how = 'left', on = 'category')\n",
        "print(df_test.shape)\n",
        "\n",
        "\n",
        "### PRICE PER MANUFACTURER, CATEGORY\n",
        "\n",
        "del df_test['mean_price_test_manufacturer'], df_test['mean_price_test_category']\n",
        "\n",
        "# future price per manufacturer\n",
        "tmp_df_manufacturer = df_test.groupby('manufacturer')['mean_price_test'].agg('mean').reset_index()\n",
        "tmp_df_manufacturer.columns = ['manufacturer', 'mean_price_test_manufacturer']\n",
        "df_test = df_test.merge(tmp_df_manufacturer, how = 'left', on = 'manufacturer')\n",
        "print(df_test.shape)\n",
        "\n",
        "# future price per category\n",
        "tmp_df_category = df_test.groupby('category')['mean_price_test'].agg('mean').reset_index()\n",
        "tmp_df_category.columns = ['category', 'mean_price_test_category']\n",
        "df_test = df_test.merge(tmp_df_category, how = 'left', on = 'category')\n",
        "print(df_test.shape)\n",
        "\n",
        "\n",
        "### MEAN PRICE RATIOS\n",
        "\n",
        "for var in price_vars:\n",
        "    df_test['ratio_'              + str(var)] = df_test['mean_price_test']              / df_test[var]\n",
        "    df_test['ratio_manufacturer_' + str(var)] = df_test['mean_price_test_manufacturer'] / df_test[var]\n",
        "    df_test['ratio_category_'     + str(var)] = df_test['mean_price_test_category']     / df_test[var]\n",
        "print(df_test.shape)"
      ]
    },
    {
      "cell_type": "code",
      "execution_count": null,
      "metadata": {
        "id": "vF9rC_HgZd63",
        "outputId": "28f16294-875a-4afd-eb8a-89e007d78f6c"
      },
      "outputs": [
        {
          "name": "stdout",
          "output_type": "stream",
          "text": [
            "(1381116, 482)\n",
            "(10463, 482)\n",
            "(1381116, 476)\n",
            "(10463, 476)\n"
          ]
        }
      ],
      "source": [
        "# drop promotion dates\n",
        "df_test.drop(promo_vars,  axis = 1, inplace = True)\n",
        "df_train.drop(promo_vars, axis = 1, inplace = True)\n",
        "print(df_train.shape)\n",
        "print(df_test.shape)\n",
        "\n",
        "# drop mean prices\n",
        "price_vars = price_vars + ['mean_price_test_manufacturer', 'mean_price_test_category']\n",
        "df_test.drop(price_vars,  axis = 1, inplace = True)\n",
        "df_train.drop(price_vars, axis = 1, inplace = True)\n",
        "print(df_train.shape)\n",
        "print(df_test.shape)"
      ]
    },
    {
      "cell_type": "markdown",
      "metadata": {
        "id": "yGAhPJVyZd63"
      },
      "source": [
        "# EXPORT"
      ]
    },
    {
      "cell_type": "code",
      "execution_count": null,
      "metadata": {
        "id": "mXo48kN5Zd63",
        "outputId": "95ecc23d-7f53-4682-d22e-748021f79bf4"
      },
      "outputs": [
        {
          "name": "stdout",
          "output_type": "stream",
          "text": [
            "Saved as ../data/prepared/df_v14.csv\n",
            "Saved as ../data/prepared/df_test_v14.csv\n",
            "(1381116, 476)\n",
            "(10463, 476)\n"
          ]
        }
      ],
      "source": [
        "# save data frame\n",
        "# save_csv_version() automatically adds version number to prevent overwriting\n",
        "save_csv_version('../data/prepared/df.csv',      df_train, index = False, compression = 'gzip')\n",
        "save_csv_version('../data/prepared/df_test.csv', df_test,  index = False, compression = 'gzip', min_version = 3)\n",
        "print(df_train.shape)\n",
        "print(df_test.shape)"
      ]
    }
  ],
  "metadata": {
    "kernelspec": {
      "display_name": "Python 3",
      "language": "python",
      "name": "python3"
    },
    "language_info": {
      "codemirror_mode": {
        "name": "ipython",
        "version": 3
      },
      "file_extension": ".py",
      "mimetype": "text/x-python",
      "name": "python",
      "nbconvert_exporter": "python",
      "pygments_lexer": "ipython3",
      "version": "3.7.4"
    },
    "colab": {
      "provenance": []
    }
  },
  "nbformat": 4,
  "nbformat_minor": 0
}